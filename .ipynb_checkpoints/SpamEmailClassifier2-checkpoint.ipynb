{
 "cells": [
  {
   "cell_type": "markdown",
   "metadata": {},
   "source": [
    "# Spam Classification"
   ]
  },
  {
   "cell_type": "markdown",
   "metadata": {},
   "source": [
    "The objective of it is to generate a model capable to classify a email as spam or not spam (Ham).\n",
    "\n",
    "The dataset used was from http://www2.aueb.gr/users/ion/data/enron-spam/"
   ]
  },
  {
   "cell_type": "markdown",
   "metadata": {},
   "source": [
    "#### Imports"
   ]
  },
  {
   "cell_type": "code",
   "execution_count": 12,
   "metadata": {},
   "outputs": [
    {
     "name": "stderr",
     "output_type": "stream",
     "text": [
      "[nltk_data] Downloading package stopwords to /home/phrc/nltk_data...\n",
      "[nltk_data]   Package stopwords is already up-to-date!\n",
      "[nltk_data] Downloading package wordnet to /home/phrc/nltk_data...\n",
      "[nltk_data]   Package wordnet is already up-to-date!\n"
     ]
    },
    {
     "ename": "ModuleNotFoundError",
     "evalue": "No module named 'cufflinks'",
     "output_type": "error",
     "traceback": [
      "\u001b[0;31m---------------------------------------------------------------------------\u001b[0m",
      "\u001b[0;31mModuleNotFoundError\u001b[0m                       Traceback (most recent call last)",
      "\u001b[0;32m<ipython-input-12-3e47721d5b48>\u001b[0m in \u001b[0;36m<module>\u001b[0;34m\u001b[0m\n\u001b[1;32m     28\u001b[0m \u001b[0;32mimport\u001b[0m \u001b[0mplotly\u001b[0m\u001b[0;34m.\u001b[0m\u001b[0mplotly\u001b[0m \u001b[0;32mas\u001b[0m \u001b[0mpy\u001b[0m\u001b[0;34m\u001b[0m\u001b[0;34m\u001b[0m\u001b[0m\n\u001b[1;32m     29\u001b[0m \u001b[0;32mimport\u001b[0m \u001b[0mplotly\u001b[0m\u001b[0;34m.\u001b[0m\u001b[0mgraph_objs\u001b[0m \u001b[0;32mas\u001b[0m \u001b[0mgo\u001b[0m\u001b[0;34m\u001b[0m\u001b[0;34m\u001b[0m\u001b[0m\n\u001b[0;32m---> 30\u001b[0;31m \u001b[0;32mimport\u001b[0m \u001b[0mcufflinks\u001b[0m \u001b[0;32mas\u001b[0m \u001b[0mcf\u001b[0m\u001b[0;34m\u001b[0m\u001b[0;34m\u001b[0m\u001b[0m\n\u001b[0m",
      "\u001b[0;31mModuleNotFoundError\u001b[0m: No module named 'cufflinks'"
     ]
    }
   ],
   "source": [
    "import pandas as pd\n",
    "import os\n",
    "from sklearn.feature_extraction.text import CountVectorizer\n",
    "from sklearn.feature_extraction import text as txt\n",
    "import string\n",
    "import numpy as np\n",
    "import matplotlib.pyplot as plt\n",
    "from collections import Counter\n",
    "from itertools import chain\n",
    "import nltk\n",
    "from nltk.corpus import stopwords\n",
    "nltk.download('stopwords')\n",
    "nltk.download('wordnet')\n",
    "from nltk.stem.wordnet import WordNetLemmatizer\n",
    "from textblob import TextBlob\n",
    "import email\n",
    "from email.message import EmailMessage\n",
    "from email.parser import BytesParser, Parser\n",
    "from email.policy import default\n",
    "import ast\n",
    "import re\n",
    "import datetime\n",
    "from sklearn import model_selection, preprocessing, linear_model, naive_bayes, metrics, svm\n",
    "from sklearn.feature_extraction.text import TfidfVectorizer, CountVectorizer\n",
    "from sklearn import decomposition, ensemble\n",
    "from sklearn.model_selection import train_test_split\n",
    "\n",
    "import plotly.plotly as py\n",
    "import plotly.graph_objs as go\n",
    "import cufflinks as cf"
   ]
  },
  {
   "cell_type": "markdown",
   "metadata": {},
   "source": [
    "#### Functions"
   ]
  },
  {
   "cell_type": "code",
   "execution_count": 2,
   "metadata": {},
   "outputs": [],
   "source": [
    "def createDf(path):\n",
    "    \"\"\"\n",
    "    Read all email files and convert to a dataframe\n",
    "\n",
    "    Parameters\n",
    "    ----------\n",
    "    path: str\n",
    "        Path to a root directory to be read\n",
    "\n",
    "    Returns\n",
    "    ----------\n",
    "    dataframe\n",
    "        a dataframe with x columns based in all emails properties\n",
    "    \"\"\"\n",
    "    os.chdir(path)\n",
    "    data = []\n",
    "    for root, dirs, files in os.walk(path):\n",
    "         for file in files:\n",
    "            with open(os.path.join(root, file), \"rb\") as openFile:\n",
    "                dictTemp = {}\n",
    "                try:\n",
    "                    message = email.message_from_binary_file(openFile, policy=default)\n",
    "                    #Parser(policy=default).parsestr(openFile.read())\n",
    "                    dictTemp['file'] = openFile.name\n",
    "                    for key in message.keys():\n",
    "                        dictTemp[key.lower()] = message[key]\n",
    "                    dictTemp['messageType'] = message.get_content_type()\n",
    "                    body = message.get_body()\n",
    "                    if body['content-type'].maintype == 'text':\n",
    "                        if body['content-type'].subtype == 'plain':\n",
    "                            dictTemp['messageStr'] = str(body.get_content())\n",
    "                        elif body['content-type'].subtype == 'html':\n",
    "                            dictTemp['messageStr'] = str(body)\n",
    "                    elif body['content-type'].content_type in 'multipart':\n",
    "                        dictTemp['messageStr'] = str(body.get_body(preferencelist=('html')))\n",
    "                    dictTemp['parseError'] = False                 \n",
    "                except:\n",
    "                    dictTemp['parseError'] = True\n",
    "                data.append(dictTemp)\n",
    "    df = pd.DataFrame(data)\n",
    "    return df\n",
    "\n",
    "def emailTextCleanner(text):\n",
    "    \"\"\"\n",
    "    Remove:\n",
    "        Html Tags\n",
    "        Email headers\n",
    "        Ponctuation\n",
    "        break lines and tabs\n",
    "    \n",
    "    And convert the string to lower case \n",
    "\n",
    "    Parameters\n",
    "    ----------\n",
    "    text: str\n",
    "\n",
    "    Returns\n",
    "    ----------\n",
    "    str\n",
    "    \"\"\"\n",
    "    try:\n",
    "        text = str(text).lower()\n",
    "        text = text.replace(\"\\\\\", \" \")\n",
    "        text = text.replace(\"\\x01\", \" \")\n",
    "        clean = re.compile('charset.*\\n')\n",
    "        text = re.sub(clean, '', text)\n",
    "        clean = re.compile('content-.*\\n')\n",
    "        text = re.sub(clean, '', text)\n",
    "        clean = re.compile('received: from.*\\n')\n",
    "        text = re.sub(clean, '', text)\n",
    "        text = text.replace('\\n', ' ')\n",
    "        text = text.replace('\\t', ' ')\n",
    "        clean = re.compile('<.*?>')\n",
    "        text = re.sub(clean, '', str(text))\n",
    "        clean = re.compile('['+string.punctuation+']')\n",
    "        text = re.sub(clean, ' ', text)\n",
    "        clean = re.compile(\"[0-9]\")\n",
    "        text = re.sub(clean, \" \", text)\n",
    "        toRemove = frozenset(['xpriority','nbsp', 'enron','xmsmailpriority','xmimeole','mimeole','cc','enrons', 'fw', 're'])\n",
    "        pattern = re.compile(r'\\b(' + r'|'.join(toRemove) + r')\\b\\s*')\n",
    "        text = pattern.sub(' ', text)\n",
    " \n",
    "        return text\n",
    "    except:\n",
    "        print(type(text))\n",
    "        return \"\"\n",
    "    #text = TextBlob(text)\n",
    "    #text = str(text.correct())\n",
    "    \n",
    "def lemmatizeList(words):\n",
    "    \"\"\"\n",
    "    Lemmatize a list of string\n",
    "\n",
    "    Parameters\n",
    "    ----------\n",
    "    words: list of str\n",
    "\n",
    "    Returns\n",
    "    ----------\n",
    "    list of str\n",
    "    \"\"\"\n",
    "    lem = WordNetLemmatizer()\n",
    "    for i in range(len(words)):\n",
    "        words[i] = lem.lemmatize(words[i], 'v')\n",
    "        words[i] = lem.lemmatize(words[i], 'n')\n",
    "    return words\n",
    "\n",
    "def revomeWordsWithOneCharacter(words):\n",
    "    return list(filter(lambda x : len(x) > 1, words))\n",
    "\n",
    "def removeDigits(words):\n",
    "    return list(filter(lambda x : x.isdigit() == False, words))\n",
    "\n",
    "def createPlotLenghtDist(col, df):\n",
    "    fig = plt.figure(figsize = (18,6))\n",
    "    grid = plt.GridSpec(1,4, wspace =0.8)\n",
    "    histPlt = fig.add_subplot(grid[0,0:2])\n",
    "    boxPlt1 = fig.add_subplot(grid[0,2])\n",
    "    boxPlt2 = fig.add_subplot(grid[0,3])\n",
    "\n",
    "    histPlt.hist(\n",
    "        [\n",
    "            df[df['isSpam'] == True][col], \n",
    "            df[df['isSpam'] == False][col]\n",
    "        ], \n",
    "        np.linspace(0, df[col].quantile(0.75), 30), \n",
    "        density = True, \n",
    "        label=['Spam', 'Ham']\n",
    "    ) \n",
    "    histPlt.legend(loc='upper right')\n",
    "\n",
    "    boxPlt1.boxplot(\n",
    "        (\n",
    "             df[df['isSpam'] == True][col], \n",
    "             df[df['isSpam'] == False][col] \n",
    "        ), \n",
    "        labels = ('Spam', 'Ham')\n",
    "    )\n",
    "\n",
    "    boxPlt2.boxplot(\n",
    "        (\n",
    "            df[(df['isSpam'] == True) & (df[col] < df[col].quantile(0.75))][col], \n",
    "            df[(df['isSpam'] == False) & (df[col] < df[col].quantile(0.75))][col] \n",
    "        ), \n",
    "        labels = ('Spam', 'Ham')\n",
    "    )\n",
    "\n",
    "    plt.show()\n",
    "\n",
    "def plot20MostWord(counter):\n",
    "    df = pd.DataFrame(list(dict(counter).items()))\n",
    "    df.columns = ['word', 'occur'] \n",
    "    totalOcurr = df['occur'].sum()\n",
    "    df['freq'] = df['occur'] / totalOcurr  \n",
    "    df = df.sort_values(by='freq', ascending=False)\n",
    "    df = df.reset_index(drop=True)\n",
    "    df['freqAcum'] = df['freq'].cumsum()\n",
    "\n",
    "\n",
    "    fig = plt.figure(figsize = (18,12))\n",
    "    grid = plt.GridSpec(4,2, wspace =0.2, hspace = 0.5)\n",
    "    pltLine = fig.add_subplot(grid[0:2,0])\n",
    "    pltBar = fig.add_subplot(grid[2:4,0:2])\n",
    "    pltTable = fig.add_subplot(grid[0:2,1])\n",
    "\n",
    "    pltLine.plot(df['freqAcum'], range(len(df)))\n",
    "    pltLine.set_ylabel('Number of Words')\n",
    "    pltLine.set_xlabel('Acumulative Frequence')\n",
    "    pltLine.set_title('Line Graph of acumulative frequence')\n",
    "    pltLine.grid(True)\n",
    "\n",
    "\n",
    "    dfTWord = df.loc[[0,20,50,100,500,1000,5000,6204,10000,15000]][['freqAcum']]\n",
    "\n",
    "    pltTable.table(cellText=dfTWord.values, rowLabels= dfTWord.index, colLabels = dfTWord.columns, loc='best')\n",
    "    pltTable.axis('off')\n",
    "    pltTable.set_title('Table of acumulative frequence')\n",
    "\n",
    "\n",
    "\n",
    "    pltBar.bar(df.head(20)['word'], df.head(20)['freq'])\n",
    "    pltBar.set_title('20 Most Used word')\n",
    "\n",
    "    yPos = np.arange(20)\n",
    "    pltBar.set_xticklabels(df.head(20)[\"word\"], rotation=60)\n",
    "    pltBar.set_xticks(yPos)\n",
    "\n",
    "\n",
    "    plt.show()\n",
    "    \n",
    "def totalUniqueWordsPlot(l1,l2,l3):\n",
    "    fig = plt.figure(figsize = (18,6))\n",
    "    grid = plt.GridSpec(1,2, wspace =0.2)\n",
    "    pltBar = fig.add_subplot(grid[0,0])\n",
    "    pltText = fig.add_subplot(grid[0,1])\n",
    "\n",
    "    pltBar.bar(\n",
    "        ['Total unique words', 'Spam unique words', 'Ham unique words'], \n",
    "        [l1,l2,l3], \n",
    "        align='center'\n",
    "    )\n",
    "\n",
    "    textWords = ['Total unique words:              {}'.format(l1), \n",
    "                 'Total spam unique words:    {}'.format(l2), \n",
    "                 'Total ham unique words:      {}'.format(l3)]\n",
    "\n",
    "\n",
    "\n",
    "    pltText.text(x=0, y=0.5, s = '\\n'.join(textWords), fontsize = 18) \n",
    "    pltText.axis('off')\n",
    "    plt.show()\n",
    "\n",
    "def getEmailRoot(email):\n",
    "    try:\n",
    "        email1 = email.replace(\".\", \" \")\n",
    "        emailVet = email1.split()\n",
    "        matching = [s for s in emailVet if \"@\" in s] \n",
    "        return matching[0].replace(\"<\", \"\").replace(\">\", \"\")\n",
    "    except:\n",
    "        return \"None\" \n",
    "\n",
    "def getEmailPartRoot(root, i):\n",
    "    try:\n",
    "        return root.split(\"@\")[i]\n",
    "    except:\n",
    "        return \"None\"\n",
    "\n",
    "def train_model(classifier, feature_vector_train, label, feature_vector_valid, ytest):\n",
    "    classifier.fit(feature_vector_train, label)\n",
    "    predictions = classifier.predict(feature_vector_valid)\n",
    "    return metrics.accuracy_score(predictions, ytest)"
   ]
  },
  {
   "cell_type": "markdown",
   "metadata": {},
   "source": [
    "## Dataset generation"
   ]
  },
  {
   "cell_type": "code",
   "execution_count": 3,
   "metadata": {},
   "outputs": [],
   "source": [
    "root = '/home/phrc/Python Project/Spam Email Classifier/'\n",
    "#root = '/Users/phrc/Documents/Projects/pythonProject/SpamEmailClassifier/'\n",
    "\n",
    "spamPath = root+'emails/spam/'\n",
    "hamPath = root+'emails/ham/'\n",
    "\n",
    "\n",
    "dfSpam = createDf(spamPath)\n",
    "dfHam = createDf(hamPath)"
   ]
  },
  {
   "cell_type": "markdown",
   "metadata": {},
   "source": [
    "# Dataset Visualisation and Preparation "
   ]
  },
  {
   "cell_type": "markdown",
   "metadata": {},
   "source": [
    "## Dataset Size"
   ]
  },
  {
   "cell_type": "code",
   "execution_count": 4,
   "metadata": {},
   "outputs": [
    {
     "name": "stdout",
     "output_type": "stream",
     "text": [
      "Total emails 52078\n"
     ]
    },
    {
     "data": {
      "image/png": "[encoded data removed]",
      "text/plain": [
       "<Figure size 1296x432 with 2 Axes>"
      ]
     },
     "metadata": {
      "needs_background": "light"
     },
     "output_type": "display_data"
    }
   ],
   "source": [
    "print(\"Total emails {}\".format(len(dfHam) + len(dfSpam)))\n",
    "\n",
    "fig = plt.figure(figsize = (18,6))\n",
    "grid = plt.GridSpec(1,2, wspace =0.1)\n",
    "barPlt = fig.add_subplot(grid[0,0])\n",
    "piePlt = fig.add_subplot(grid[0,1])\n",
    "\n",
    "\n",
    "barPlt.bar(np.arange(2), (len(dfHam), len(dfSpam)), align='center')\n",
    "barPlt.set_xticklabels(('Ham \\n{}'.format(len(dfHam)), 'Spam \\n{}'.format(len(dfSpam))))\n",
    "barPlt.set_xticks(np.arange(2))\n",
    "\n",
    "\n",
    "piePlt.pie((len(dfHam), len(dfSpam)), labels=['Ham', 'Spam'], autopct='%1.0f%%', pctdistance=0.5, labeldistance=1.2)\n",
    "\n",
    "\n",
    "plt.show()"
   ]
  },
  {
   "cell_type": "markdown",
   "metadata": {},
   "source": [
    "## Parser Emails Error Analyse "
   ]
  },
  {
   "cell_type": "code",
   "execution_count": 5,
   "metadata": {},
   "outputs": [
    {
     "data": {
      "image/png": "[encoded data removed]",
      "text/plain": [
       "<Figure size 432x288 with 1 Axes>"
      ]
     },
     "metadata": {
      "needs_background": "light"
     },
     "output_type": "display_data"
    }
   ],
   "source": [
    "dfHamP = dfHam[dfHam['parseError'] == True]\n",
    "dfSpamP = dfSpam[dfSpam['parseError'] == True]\n",
    "hamFreq = (len(dfHamP) * 100 / len(dfHam))\n",
    "spamFreq = (len(dfSpamP) * 100 / len(dfSpam))\n",
    "plt.bar(np.arange(2), (len(dfHamP), len(dfSpamP)), align='center')\n",
    "plt.xticks(np.arange(2), ('Ham \\n{0:.2}%'.format(hamFreq), 'Spam \\n{0:.2}%'.format(spamFreq)))\n",
    "\n",
    "plt.show();"
   ]
  },
  {
   "cell_type": "markdown",
   "metadata": {},
   "source": [
    "### -- Removing emails with parser problems "
   ]
  },
  {
   "cell_type": "code",
   "execution_count": 6,
   "metadata": {},
   "outputs": [
    {
     "data": {
      "image/png": "[encoded data removed]",
      "text/plain": [
       "<Figure size 1296x432 with 2 Axes>"
      ]
     },
     "metadata": {
      "needs_background": "light"
     },
     "output_type": "display_data"
    }
   ],
   "source": [
    "dfSpam = dfSpam[dfSpam['parseError'] == False]\n",
    "dfHam = dfHam[dfHam['parseError'] == False]\n",
    "\n",
    "fig = plt.figure(figsize = (18,6))\n",
    "grid = plt.GridSpec(1,2, wspace =0.1)\n",
    "barPlt = fig.add_subplot(grid[0,0])\n",
    "piePlt = fig.add_subplot(grid[0,1])\n",
    "\n",
    "\n",
    "barPlt.bar(np.arange(2), (len(dfHam), len(dfSpam)), align='center')\n",
    "barPlt.set_xticklabels(('Ham \\n{}'.format(len(dfHam)), 'Spam \\n{}'.format(len(dfSpam))))\n",
    "barPlt.set_xticks(np.arange(2))\n",
    "\n",
    "\n",
    "\n",
    "piePlt.pie((len(dfHam), len(dfSpam)), labels=['Ham', 'Spam'], autopct='%1.0f%%', pctdistance=0.5, labeldistance=1.2)\n",
    "\n",
    "\n",
    "plt.show()"
   ]
  },
  {
   "cell_type": "markdown",
   "metadata": {},
   "source": [
    "## Check for Empty e-mail messages "
   ]
  },
  {
   "cell_type": "code",
   "execution_count": 7,
   "metadata": {},
   "outputs": [],
   "source": [
    "dfSpam['isSpam'] = True\n",
    "dfHam['isSpam'] = False\n",
    "\n",
    "dfMaster = pd.concat([dfSpam, dfHam], sort=True)"
   ]
  },
  {
   "cell_type": "code",
   "execution_count": 11,
   "metadata": {},
   "outputs": [
    {
     "ename": "AttributeError",
     "evalue": "'DataFrame' object has no attribute 'iplot'",
     "output_type": "error",
     "traceback": [
      "\u001b[0;31m---------------------------------------------------------------------------\u001b[0m",
      "\u001b[0;31mAttributeError\u001b[0m                            Traceback (most recent call last)",
      "\u001b[0;32m<ipython-input-11-a36f12ae2a70>\u001b[0m in \u001b[0;36m<module>\u001b[0;34m\u001b[0m\n\u001b[1;32m      3\u001b[0m \u001b[0;34m\u001b[0m\u001b[0m\n\u001b[1;32m      4\u001b[0m \u001b[0;34m\u001b[0m\u001b[0m\n\u001b[0;32m----> 5\u001b[0;31m \u001b[0mdfMaster\u001b[0m\u001b[0;34m[\u001b[0m\u001b[0;34m[\u001b[0m\u001b[0;34m'messageType'\u001b[0m\u001b[0;34m,\u001b[0m \u001b[0;34m'msgIsNull'\u001b[0m\u001b[0;34m,\u001b[0m \u001b[0;34m'isSpam'\u001b[0m\u001b[0;34m]\u001b[0m\u001b[0;34m]\u001b[0m\u001b[0;34m.\u001b[0m\u001b[0miplot\u001b[0m\u001b[0;34m(\u001b[0m\u001b[0mkind\u001b[0m\u001b[0;34m=\u001b[0m\u001b[0;34m'bar'\u001b[0m\u001b[0;34m,\u001b[0m \u001b[0mbarmode\u001b[0m\u001b[0;34m=\u001b[0m\u001b[0;34m'stack'\u001b[0m\u001b[0;34m,\u001b[0m \u001b[0mfilename\u001b[0m\u001b[0;34m=\u001b[0m\u001b[0;34m'cufflinks/grouped-bar-chart'\u001b[0m\u001b[0;34m)\u001b[0m\u001b[0;34m\u001b[0m\u001b[0;34m\u001b[0m\u001b[0m\n\u001b[0m",
      "\u001b[0;32m~/.local/lib/python3.6/site-packages/pandas/core/generic.py\u001b[0m in \u001b[0;36m__getattr__\u001b[0;34m(self, name)\u001b[0m\n\u001b[1;32m   5065\u001b[0m             \u001b[0;32mif\u001b[0m \u001b[0mself\u001b[0m\u001b[0;34m.\u001b[0m\u001b[0m_info_axis\u001b[0m\u001b[0;34m.\u001b[0m\u001b[0m_can_hold_identifiers_and_holds_name\u001b[0m\u001b[0;34m(\u001b[0m\u001b[0mname\u001b[0m\u001b[0;34m)\u001b[0m\u001b[0;34m:\u001b[0m\u001b[0;34m\u001b[0m\u001b[0;34m\u001b[0m\u001b[0m\n\u001b[1;32m   5066\u001b[0m                 \u001b[0;32mreturn\u001b[0m \u001b[0mself\u001b[0m\u001b[0;34m[\u001b[0m\u001b[0mname\u001b[0m\u001b[0;34m]\u001b[0m\u001b[0;34m\u001b[0m\u001b[0;34m\u001b[0m\u001b[0m\n\u001b[0;32m-> 5067\u001b[0;31m             \u001b[0;32mreturn\u001b[0m \u001b[0mobject\u001b[0m\u001b[0;34m.\u001b[0m\u001b[0m__getattribute__\u001b[0m\u001b[0;34m(\u001b[0m\u001b[0mself\u001b[0m\u001b[0;34m,\u001b[0m \u001b[0mname\u001b[0m\u001b[0;34m)\u001b[0m\u001b[0;34m\u001b[0m\u001b[0;34m\u001b[0m\u001b[0m\n\u001b[0m\u001b[1;32m   5068\u001b[0m \u001b[0;34m\u001b[0m\u001b[0m\n\u001b[1;32m   5069\u001b[0m     \u001b[0;32mdef\u001b[0m \u001b[0m__setattr__\u001b[0m\u001b[0;34m(\u001b[0m\u001b[0mself\u001b[0m\u001b[0;34m,\u001b[0m \u001b[0mname\u001b[0m\u001b[0;34m,\u001b[0m \u001b[0mvalue\u001b[0m\u001b[0;34m)\u001b[0m\u001b[0;34m:\u001b[0m\u001b[0;34m\u001b[0m\u001b[0;34m\u001b[0m\u001b[0m\n",
      "\u001b[0;31mAttributeError\u001b[0m: 'DataFrame' object has no attribute 'iplot'"
     ]
    }
   ],
   "source": [
    "dfMaster['msgIsNull'] = dfMaster['messageStr'].isnull()\n",
    "#dfGroup2 = dfMaster.groupby(['messageType', 'msgIsNull', 'isSpam']).size()\n",
    "\n",
    "\n",
    "dfMaster[['messageType', 'msgIsNull', 'isSpam']].iplot(kind='bar', barmode='stack', filename='cufflinks/grouped-bar-chart')"
   ]
  },
  {
   "cell_type": "code",
   "execution_count": null,
   "metadata": {},
   "outputs": [],
   "source": [
    "fig = plt.figure(figsize = (12,16))\n",
    "grid = plt.GridSpec(2,3, wspace =0.3, hspace =0.5)\n",
    "stackBar = fig.add_subplot(grid[0,0:3])\n",
    "tableMsg = fig.add_subplot(grid[1,0:3])\n",
    "\n",
    "dfMaster['msgIsNull'] = dfMaster['messageStr'].isnull()\n",
    "dfGroup2 = dfMaster.groupby(['messageType', 'msgIsNull', 'isSpam']).size()\n",
    "\n",
    "dfG2 = dfGroup2.unstack().fillna(0)\n",
    "\n",
    "totals = [i+j for i,j in zip(dfG2[False], dfG2[True])]\n",
    "falseBars = [i / j * 100 for i,j in zip(dfG2[False], totals)]\n",
    "trueBars = [i / j * 100 for i,j in zip(dfG2[True], totals)]\n",
    "\n",
    "stackBar.bar(range(len(dfG2)), falseBars, color='#b5ffb9', edgecolor='white', width=0.85)\n",
    "stackBar.bar(range(len(dfG2)), trueBars, bottom=falseBars, color='#f9bc86', edgecolor='white', width=0.85)\n",
    "\n",
    "stackBar.set_xticks(range(len(dfG2)))\n",
    "stackBar.set_xticklabels(dfG2.index.values, rotation='vertical')\n",
    "stackBar.spines['top'].set_visible(False)\n",
    "stackBar.spines['right'].set_visible(False)\n",
    "stackBar.get_xaxis().tick_bottom()\n",
    "stackBar.get_yaxis().tick_left()\n",
    "\n",
    "tableMsg.table(cellText=dfG2.values, rowLabels= dfG2.index, colLabels = ['Not Null', 'Null'], loc='center')\n",
    "tableMsg.axis('off')\n",
    "tableMsg.set_title('Table of Null Messages by Message Type')\n",
    "\n",
    "plt.show()\n",
    "\n",
    "del dfMaster['msgIsNull']"
   ]
  },
  {
   "cell_type": "code",
   "execution_count": null,
   "metadata": {},
   "outputs": [],
   "source": [
    "dfMaster['msgIsNull'] = dfMaster['messageStr'].isnull()\n",
    "dfGroup2 = dfMaster.groupby(['messageType', 'msgIsNull', '']).size()\n",
    "\n",
    "dfG2 = dfGroup2.unstack()\n",
    "dfG2 = dfG2.fillna(0)"
   ]
  },
  {
   "cell_type": "markdown",
   "metadata": {},
   "source": [
    "## Remove Empty e-mail messages "
   ]
  },
  {
   "cell_type": "code",
   "execution_count": null,
   "metadata": {},
   "outputs": [],
   "source": [
    "dfMaster = dfMaster[dfMaster['messageStr'].notnull()]\n",
    "\n",
    "print('Total size of dataset: {}'.format(len(dfMaster[dfMaster['messageStr'].notnull()])))"
   ]
  },
  {
   "cell_type": "markdown",
   "metadata": {},
   "source": [
    "## Conclusion\n",
    "\n",
    "\n"
   ]
  },
  {
   "cell_type": "markdown",
   "metadata": {},
   "source": [
    "There was a problem with encoding file format and the content type of the email during the email reading process and because of it, 3148 from 52076 (or 6.05%) email was losted.\n",
    "From all 3148 email losted only 9 email was ham.\n",
    "\n",
    "The treament to fix the problem wasn't made beacuse of some external factors and the amount of email losted.\n",
    "\n",
    "\n",
    "\n",
    "\n",
    "\n",
    "But for future work a enconding type check before read the email file and a proper commands to read email multipart/releated content type will fix the error and improve the parsing."
   ]
  },
  {
   "cell_type": "markdown",
   "metadata": {},
   "source": [
    "## Dataset Spam Columns Analyse"
   ]
  },
  {
   "cell_type": "code",
   "execution_count": null,
   "metadata": {},
   "outputs": [],
   "source": [
    "dfSpamDesc = dfSpam.describe(include=['object']).T\n",
    "print('Total of Spam attributes {}'.format(len(dfSpamDesc)))\n",
    "n = len(dfSpam) * 0.75 \n",
    "dfSpamDesc[dfSpamDesc['count'] > n].head(300)"
   ]
  },
  {
   "cell_type": "code",
   "execution_count": null,
   "metadata": {},
   "outputs": [],
   "source": [
    "dfSpamDesc.loc[['cc', 'bcc', 'fcc']].head()"
   ]
  },
  {
   "cell_type": "markdown",
   "metadata": {},
   "source": [
    "There is in total 465 attributes on spam emails, but only 9 aatributes contain less than 25% of missing data, from the 9 attributes two represent the same information, content-type and messageType, and one is a ID, file.\n",
    "\n",
    "At the end there is 7 useful attributes."
   ]
  },
  {
   "cell_type": "markdown",
   "metadata": {},
   "source": [
    "## Dataset Ham Columns Analyse"
   ]
  },
  {
   "cell_type": "code",
   "execution_count": null,
   "metadata": {},
   "outputs": [],
   "source": [
    "dfHamDesc = dfHam.describe(include=['object']).T\n",
    "print('Total of Ham attributes {}'.format(len(dfHamDesc)))\n",
    "n = len(dfHam) * 0.75 \n",
    "dfHamDesc[dfHamDesc['count']> n].head(300)"
   ]
  },
  {
   "cell_type": "code",
   "execution_count": null,
   "metadata": {},
   "outputs": [],
   "source": [
    "dfHam.head()\n",
    "\n",
    "\n",
    "#print(dfHam['x-cc'])\n"
   ]
  },
  {
   "cell_type": "markdown",
   "metadata": {},
   "source": [
    "There is in total 19 attributes on ham emails, 1 atributes contain more than 25% of missing data, from the 18 attributes remaining:\n",
    "- there are 3 what represents a ID (file, message-id and x-filename) \n",
    "- there are two what represents the mesage type(content-type, messageType).\n",
    "- there are 3 who represents the origin of the email (x-to, x-origin, to)\n",
    "\n",
    "At the end there is 13 useful attributes."
   ]
  },
  {
   "cell_type": "markdown",
   "metadata": {},
   "source": [
    "## Join Dataset and Remove unnescessary columns"
   ]
  },
  {
   "cell_type": "code",
   "execution_count": null,
   "metadata": {},
   "outputs": [],
   "source": [
    "dfSpam = dfSpam[['date', 'from', 'messageStr', 'messageType', 'subject', 'to']]\n",
    "dfHam = dfHam[['date', 'from', 'messageStr', 'messageType', 'subject', 'to']]\n",
    "\n",
    "dfSpam['isSpam'] = True\n",
    "dfHam['isSpam'] = False\n",
    "\n",
    "dfMaster = pd.concat([dfSpam, dfHam])\n",
    "print('Total size of dataset {}'.format(len(dfMaster)))\n",
    "dfMaster.head()"
   ]
  },
  {
   "cell_type": "markdown",
   "metadata": {},
   "source": [
    "## Dataset distribution by spam type"
   ]
  },
  {
   "cell_type": "markdown",
   "metadata": {},
   "source": [
    "## -- Size"
   ]
  },
  {
   "cell_type": "code",
   "execution_count": null,
   "metadata": {},
   "outputs": [],
   "source": [
    "print(dfMaster['isSpam'].value_counts().rename({False: 'Ham', True: 'Spam'}))\n",
    "\n",
    "\n",
    "fig = plt.figure(figsize = (18,6))\n",
    "grid = plt.GridSpec(1,2, wspace =0.1)\n",
    "barPlt = fig.add_subplot(grid[0,0])\n",
    "piePlt = fig.add_subplot(grid[0,1])\n",
    "\n",
    "\n",
    "barPlt.bar(\n",
    "    ('Spam', 'Ham'), \n",
    "    [len(dfMaster[dfMaster['isSpam'] == True]), len(dfMaster[dfMaster['isSpam'] == False])], \n",
    "    align='center')\n",
    "barPlt.set_xticks(np.arange(2), ['Spam', 'Ham'])\n",
    "\n",
    "\n",
    "piePlt.pie(dfMaster['isSpam'].value_counts(), labels=['Spam', 'Ham'], autopct='%1.0f%%', pctdistance=0.5, labeldistance=1.2)\n",
    "\n",
    "\n",
    "plt.show()"
   ]
  },
  {
   "cell_type": "markdown",
   "metadata": {},
   "source": [
    "#### conclusion\n",
    "\n",
    "The objective of this project it's create a algorithm capable to classify if a email is a spam and having a evenly proportion of email can helps in the training and reduce the changes of miss classification.\n",
    "\n",
    "The ham and spam email doesn't have a perfect even proportion (61 by 39), the difference between them represent 22% from the total of emails. \n",
    "\n",
    "The differences seems to be moderate to low and for this case it is being assumed won't cause a significant difference in the model.\n",
    "\n",
    "This project will use differents types of models and one of those types will considere the relative frequence what will solve this problem and the comparison between models can explain if this distribution is causing effect or not."
   ]
  },
  {
   "cell_type": "markdown",
   "metadata": {},
   "source": [
    "## -- Message Type"
   ]
  },
  {
   "cell_type": "code",
   "execution_count": null,
   "metadata": {},
   "outputs": [],
   "source": [
    "dfGroup = dfMaster.groupby(['messageType', 'isSpam']).size()\n",
    "print(dfGroup)\n",
    "dfGroup.unstack().plot(kind='bar', legend=True)\n"
   ]
  },
  {
   "cell_type": "code",
   "execution_count": null,
   "metadata": {},
   "outputs": [],
   "source": [
    "dfMaster['isPlain'] = dfMaster['messageType'].apply(lambda x : True if x == 'text/plain' else False)\n",
    "\n",
    "dfGroup = dfMaster.groupby(['isPlain', 'isSpam']).size()\n",
    "print(dfGroup)\n",
    "dfGroup.unstack().plot(kind='bar', legend=True)"
   ]
  },
  {
   "cell_type": "markdown",
   "metadata": {},
   "source": [
    "#### Conclusion\n",
    "\n",
    "The email content can contain html elements, images, attachemnts, plain text or a mix of everthing and it is classify in content types, like text/plain, text/html, multipart/alternative... \n",
    "\n",
    "The comparison between the content type and spam result in all ham email is text/plain but not all text plain is ham and because of this deduction, all the types was divided between is text plain or not.\n",
    "\n",
    "This treatement has the objective to simplfy the model.\n"
   ]
  },
  {
   "cell_type": "markdown",
   "metadata": {},
   "source": [
    "## -- Day Hour"
   ]
  },
  {
   "cell_type": "code",
   "execution_count": null,
   "metadata": {},
   "outputs": [],
   "source": [
    "#Convert Date to a date time object\n",
    "dfMaster['date'] = dfMaster['date'].apply(lambda x : str(x)).apply(lambda x : None if x == 'nan' else datetime.datetime.strptime(x, '%a, %d %b %Y %H:%M:%S %z'))\n",
    "#Create a Hour Column\n",
    "dfMaster['hour'] = dfMaster['date'].apply(lambda x : None if x == None else x.hour)"
   ]
  },
  {
   "cell_type": "code",
   "execution_count": null,
   "metadata": {},
   "outputs": [],
   "source": [
    "fig = plt.figure(figsize = (18,6))\n",
    "grid = plt.GridSpec(1,4, wspace =0.8)\n",
    "histPlt = fig.add_subplot(grid[0,0:2])\n",
    "boxPlt1 = fig.add_subplot(grid[0,2:4])\n",
    "\n",
    "histPlt.hist(\n",
    "    [\n",
    "        dfMaster[dfMaster['isSpam'] == True]['hour'].dropna(), \n",
    "        dfMaster[dfMaster['isSpam'] == False]['hour']\n",
    "    ], \n",
    "    np.linspace(0, dfMaster['hour'].max(), 24), \n",
    "    density = True, \n",
    "    label=['Spam', 'Ham']\n",
    ") \n",
    "histPlt.legend(loc='upper right')\n",
    "\n",
    "boxPlt1.boxplot(\n",
    "    (\n",
    "        dfMaster[dfMaster['isSpam'] == True]['hour'].dropna(),\n",
    "        dfMaster[dfMaster['isSpam'] == False]['hour']\n",
    "    ), \n",
    "    labels = ('Spam', 'Ham')\n",
    ")\n",
    "\n",
    "\n",
    "plt.show()"
   ]
  },
  {
   "cell_type": "markdown",
   "metadata": {},
   "source": [
    "#### Conclusion\n",
    "\n",
    "The objective of this analyse is to find a relation between the period of the day and the email type and because of that, the time zone was disconsidereing during the cleaning, because the ideia is to know the exatcly hour the user receives the email.\n",
    "\n",
    "\n",
    "The ham email is more frequently sent during the first hours of the morning and has the day pass, the amount of email sent decrease, having another small pick around of 3 am.\n",
    "\n",
    "The spam email seems to have the same proportion during all day except at midnight when it shows a huge pick."
   ]
  },
  {
   "cell_type": "markdown",
   "metadata": {},
   "source": [
    "## -- How many person this email was send TO "
   ]
  },
  {
   "cell_type": "code",
   "execution_count": null,
   "metadata": {},
   "outputs": [],
   "source": [
    "#Create a count to\n",
    "dfMaster['toCount'] = dfMaster['to'].str.split(',').apply(lambda x : len(x) if isinstance(x, list) else 0)"
   ]
  },
  {
   "cell_type": "markdown",
   "metadata": {},
   "source": [
    "### --- Description for send to"
   ]
  },
  {
   "cell_type": "code",
   "execution_count": null,
   "metadata": {},
   "outputs": [],
   "source": [
    "dfMaster['toCount'].describe()"
   ]
  },
  {
   "cell_type": "markdown",
   "metadata": {},
   "source": [
    "### --- Description for send to for more than one"
   ]
  },
  {
   "cell_type": "code",
   "execution_count": null,
   "metadata": {},
   "outputs": [],
   "source": [
    "dfMaster[dfMaster['toCount'] > 1]['toCount'].describe()"
   ]
  },
  {
   "cell_type": "markdown",
   "metadata": {},
   "source": [
    "### --- Proportion direct email and group email"
   ]
  },
  {
   "cell_type": "code",
   "execution_count": null,
   "metadata": {},
   "outputs": [],
   "source": [
    "dfTemp = dfMaster.loc[:, ['toCount', 'isSpam']]\n",
    "dfTemp['toCountG1'] = dfTemp['toCount'].apply(lambda x : '1' if x == 1 else '1+')\n",
    "dfTemp['toCountG2'] = dfTemp['toCount'].apply(lambda x : '1' if x == 1 else ('15+' if x > 15 else '2-15'))\n",
    "\n",
    "print(dfTemp['toCountG2'].value_counts())\n",
    "\n",
    "fig = plt.figure(figsize = (18,6))\n",
    "grid = plt.GridSpec(1,4, wspace =0.8)\n",
    "pie1 = fig.add_subplot(grid[0,0:2])\n",
    "pie2 = fig.add_subplot(grid[0,2:4])\n",
    "\n",
    "pie1.pie(dfTemp['toCountG1'].value_counts(), labels=['1', '1+'], autopct='%1.0f%%', pctdistance=0.5, labeldistance=1.2)\n",
    "\n",
    "pie2.pie(dfTemp['toCountG2'].value_counts(), labels=['1', '2-15', '15+'], autopct='%1.0f%%', pctdistance=0.5, labeldistance=1.2)\n",
    "\n",
    "\n",
    "plt.show()"
   ]
  },
  {
   "cell_type": "markdown",
   "metadata": {},
   "source": [
    "### --- Distribution of 'To Group' by Spam"
   ]
  },
  {
   "cell_type": "code",
   "execution_count": null,
   "metadata": {},
   "outputs": [],
   "source": [
    "dfMaster['toCountGroup'] = dfMaster['toCount'].apply(lambda x: 'Direct' if x == 1 else ('Small Group' if x < 15 else 'Big Group')) "
   ]
  },
  {
   "cell_type": "code",
   "execution_count": null,
   "metadata": {},
   "outputs": [],
   "source": [
    "dfGroupTo = dfMaster.groupby(['toCountGroup', 'isSpam']).size()\n",
    "print(dfGroupTo.unstack().columns.values)\n",
    "dfGT = dfGroupTo.unstack()\n",
    "dfGT['rateF'] = dfGT[False] / (dfGT[False] + dfGT[True])\n",
    "dfGT['rateT'] = dfGT[True] / (dfGT[False] + dfGT[True])\n",
    "\n",
    "dfGT.columns = ['Not Spam', 'Spam', 'Rate Not Spam', 'Rate Spam']\n",
    "\n",
    "dfGT.head()"
   ]
  },
  {
   "cell_type": "code",
   "execution_count": null,
   "metadata": {},
   "outputs": [],
   "source": [
    "width = .25\n",
    "\n",
    "dfGT[['Not Spam', 'Spam']].plot(kind='bar')\n",
    "dfGT['Rate Spam'].plot(secondary_y=True)\n",
    "\n",
    "ax = plt.gca()\n",
    "plt.xlim([-width, len(dfGT)-width])\n",
    "ax.set_xticklabels(dfGT.index.values)\n",
    "ax.set_xlabel('Groups')\n",
    "plt.show()\n",
    "\n",
    "#.plot(kind='bar', legend=False)"
   ]
  },
  {
   "cell_type": "markdown",
   "metadata": {},
   "source": [
    "#### Conclusion\n",
    "\n",
    "A email can be sent to one or more people, the reason of this analyse is to find a relation betweent it and the type of email. \n",
    "\n",
    "This variable, already starts with a issue, becasue there is two ways to include a person in a email, it can be occult and/or normal, in case of it being occult, this information will be missing.\n",
    "\n",
    "In the first stage was found 81% of the email from our dataset was send to one person, 16% between 2 and 15 people and 3 % for more than 15 people\n",
    "\n",
    "It was expected spam emails to be sent to more than one person, but in this analyse, Spam email has a bigger rate for one person as the ham email is the opposite, and this maybe can be explian by the copy occulty and/or the new technologies who try send a spam email more personalised with a few user info inside and the fact of this dataset comes from a company emails and very offeten employee send email to multiples people to keep a all the sector inform.\n"
   ]
  },
  {
   "cell_type": "markdown",
   "metadata": {},
   "source": [
    "## -- Compare email message lenght for ham and spam  "
   ]
  },
  {
   "cell_type": "code",
   "execution_count": null,
   "metadata": {},
   "outputs": [],
   "source": [
    "dfMaster['textLen'] = dfMaster['messageStr'].apply(lambda x : len(str(x)))"
   ]
  },
  {
   "cell_type": "code",
   "execution_count": null,
   "metadata": {},
   "outputs": [],
   "source": [
    "createPlotLenghtDist('textLen', dfMaster) "
   ]
  },
  {
   "cell_type": "markdown",
   "metadata": {},
   "source": [
    "## -- Compare clean email message lenght for ham and spam  "
   ]
  },
  {
   "cell_type": "code",
   "execution_count": null,
   "metadata": {},
   "outputs": [],
   "source": [
    "#Apply cleaning method\n",
    "dfMaster['treatedMessage'] = dfMaster['messageStr'].apply(emailTextCleanner)\n",
    "\n",
    "#Remove stop words\n",
    "stop = txt.ENGLISH_STOP_WORDS\n",
    "dfMaster['treatedMessage'] = dfMaster['treatedMessage'].apply(\n",
    "    lambda x: ' '.join([word for word in x.split() if word not in (stop)]))\n",
    "\n",
    "stop = stopwords.words('english')\n",
    "dfMaster['treatedMessage'] = dfMaster['treatedMessage'].apply(\n",
    "    lambda x: ' '.join([word for word in x.split() if word not in (stop)]))\n",
    "\n",
    "dfMaster['treatedTextLen'] = dfMaster['treatedMessage'].apply(lambda x : len(x)) "
   ]
  },
  {
   "cell_type": "code",
   "execution_count": null,
   "metadata": {},
   "outputs": [],
   "source": [
    "createPlotLenghtDist('treatedTextLen', dfMaster)"
   ]
  },
  {
   "cell_type": "markdown",
   "metadata": {},
   "source": [
    "## -- Compare total words in a email message for ham and spam  "
   ]
  },
  {
   "cell_type": "code",
   "execution_count": null,
   "metadata": {},
   "outputs": [],
   "source": [
    "#Create a column with list of words\n",
    "dfMaster['wordsList'] = dfMaster['treatedMessage'].str.split().apply(lemmatizeList).apply(revomeWordsWithOneCharacter)\n",
    "\n",
    "#Create a columns to calculate the total amount of words\n",
    "dfMaster['totalTreatedWords'] = dfMaster['wordsList'].apply(lambda x : len(x))"
   ]
  },
  {
   "cell_type": "code",
   "execution_count": null,
   "metadata": {},
   "outputs": [],
   "source": [
    "createPlotLenghtDist('totalTreatedWords', dfMaster)"
   ]
  },
  {
   "cell_type": "markdown",
   "metadata": {},
   "source": [
    "## -- Compare total unique words in a email message for ham and spam  "
   ]
  },
  {
   "cell_type": "code",
   "execution_count": null,
   "metadata": {},
   "outputs": [],
   "source": [
    "dfMaster['uniqueWordsLen'] = dfMaster['wordsList'].apply(lambda x : len(set(x)))"
   ]
  },
  {
   "cell_type": "code",
   "execution_count": null,
   "metadata": {},
   "outputs": [],
   "source": [
    "createPlotLenghtDist('uniqueWordsLen', dfMaster)"
   ]
  },
  {
   "cell_type": "markdown",
   "metadata": {},
   "source": [
    "#### Conclusion\n",
    "\n",
    "\n",
    "Emails are a text and all the text has a total number of words and a total of number of characters and this analyse has a intention to find a relation between the text size and the email type. \n",
    "\n",
    "To calculate the text size was used 4 different logics:\n",
    "\n",
    "*First*: The text size whitout any treatement\n",
    "It consist in count the total of characters of the raw data. \n",
    "Nothing was removed. \n",
    "\n",
    "*Second*: The text size after treatement\n",
    "It consist in count the total of characters after removing break lines, html tags, digit, stop words, extra space, break lines and some commom words.\n",
    "\n",
    "*third*:\n",
    "It consist in removing the words with one charater and lemmatize the words and count the total of words after it \n",
    "\n",
    "*Fourth*:\n",
    "It consist in count the total unique of words from the thid case.\n",
    "\n",
    "\n",
    "All the four logics present the same result.\n",
    "\n",
    "Usualy, the total words in the ham email is between 10 and 40 words as the spam email is between 30 and 80.\n",
    "\n",
    "In other owthers, spam emails are usualy bigger than ham email\n"
   ]
  },
  {
   "cell_type": "markdown",
   "metadata": {},
   "source": [
    "## Email message Words Visualization"
   ]
  },
  {
   "cell_type": "markdown",
   "metadata": {},
   "source": [
    "## -- Total uniques words"
   ]
  },
  {
   "cell_type": "code",
   "execution_count": null,
   "metadata": {},
   "outputs": [],
   "source": [
    "count = Counter(list(chain(*dfMaster[\"wordsList\"].values)))\n",
    "\n",
    "countSpam = Counter(list(chain(*dfMaster[dfMaster['isSpam'] == True][\"wordsList\"].values)))\n",
    "\n",
    "countHam = Counter(list(chain(*dfMaster[dfMaster['isSpam'] == False][\"wordsList\"].values)))\n",
    "\n",
    "totalUniqueWordsPlot(len(count), len(countSpam), len(countHam))"
   ]
  },
  {
   "cell_type": "markdown",
   "metadata": {},
   "source": [
    "## -- Total Unique words with more the 100 repetitions"
   ]
  },
  {
   "cell_type": "code",
   "execution_count": null,
   "metadata": {},
   "outputs": [],
   "source": [
    "dfCounter = pd.DataFrame.from_dict(data = dict(count),orient='index', columns = ['freq'])\n",
    "\n",
    "dfCounterSpam = pd.DataFrame.from_dict(data = dict(countSpam),orient='index', columns = ['freq'])\n",
    "\n",
    "dfCounterHam = pd.DataFrame.from_dict(data = dict(countHam),orient='index', columns = ['freq'])\n",
    "\n",
    "totalUniqueWordsPlot(\n",
    "    len(dfCounter[dfCounter['freq'] > 100]),\n",
    "    len(dfCounterSpam[dfCounterSpam['freq'] > 100]),\n",
    "    len(dfCounterHam[dfCounterHam['freq'] > 100]))\n"
   ]
  },
  {
   "cell_type": "markdown",
   "metadata": {},
   "source": [
    "## -- 20 Most common words"
   ]
  },
  {
   "cell_type": "code",
   "execution_count": null,
   "metadata": {},
   "outputs": [],
   "source": [
    "plot20MostWord(count)"
   ]
  },
  {
   "cell_type": "markdown",
   "metadata": {},
   "source": [
    "## -- 20 Most common words on Spam emails"
   ]
  },
  {
   "cell_type": "code",
   "execution_count": null,
   "metadata": {},
   "outputs": [],
   "source": [
    "plot20MostWord(countSpam) "
   ]
  },
  {
   "cell_type": "markdown",
   "metadata": {},
   "source": [
    "## -- 20 Most common words on Ham emails"
   ]
  },
  {
   "cell_type": "code",
   "execution_count": null,
   "metadata": {},
   "outputs": [],
   "source": [
    "plot20MostWord(countHam)"
   ]
  },
  {
   "cell_type": "markdown",
   "metadata": {},
   "source": [
    "#### Conclusion\n",
    "\n",
    "In this analyse is looking for the most frequent words and how frequently they are, the intention is improve the model precision removing the words less frequently.\n",
    "\n",
    "There are more than 220 thousand different words, but only 6204 who repeats more than 100 times.\n",
    "This project is analysing around of 50 thousand email and a word who repeats 100 times, supposing this words is being in 100 different emails, it means, this words is present, at the maximum, in 5% of the emails.\n",
    "\n",
    "When looking to the accumulative frequency, 6204 words achieve around of 84% of all the frequency, to increse 6% is needed roughly 150% more words, the fact of adding more words, result in add more features to the model and by conseguence more complexity.\n",
    "\n",
    "The accumulative frequency has a exponetial curve, where after a point to obtein better result needs too much, in the reason to find the better cost benefit, it's recomend get the curve point. In this case 6204. \n",
    "\n",
    "\n",
    "Looking into all the words, without considering the email type, 6204 words has 84% of the frequency,   \n",
    "\n",
    "The ham email has a smaller vocabulary than spam email, and because that the amount of\n",
    "\n",
    "This analyse considered type of email.\n",
    "\n",
    "At the 6204 words the spam has 81.7% as ham email has 93.1%\n",
    "\n",
    "\n",
    "FYI: To find the accumulative frenquency was calculated the frequency of each word and then sorted to the biggest frequency to the smallest."
   ]
  },
  {
   "cell_type": "code",
   "execution_count": null,
   "metadata": {},
   "outputs": [],
   "source": [
    "dfCounter.head()"
   ]
  },
  {
   "cell_type": "markdown",
   "metadata": {},
   "source": [
    "## Calculate word frequence for subject"
   ]
  },
  {
   "cell_type": "markdown",
   "metadata": {},
   "source": [
    "## -- Compare email subject lenght for ham and spam"
   ]
  },
  {
   "cell_type": "code",
   "execution_count": null,
   "metadata": {},
   "outputs": [],
   "source": [
    "dfMaster['subLen'] = dfMaster['subject'].apply(lambda x : len(str(x)))"
   ]
  },
  {
   "cell_type": "code",
   "execution_count": null,
   "metadata": {},
   "outputs": [],
   "source": [
    "createPlotLenghtDist('subLen', dfMaster)"
   ]
  },
  {
   "cell_type": "markdown",
   "metadata": {},
   "source": [
    "## -- Compare clean email subject lenght for ham and spam  "
   ]
  },
  {
   "cell_type": "code",
   "execution_count": null,
   "metadata": {},
   "outputs": [],
   "source": [
    "#Apply cleaning method\n",
    "dfMaster['treatedSub'] = dfMaster['subject'].apply(emailTextCleanner)\n",
    "\n",
    "#Remove stop words\n",
    "stop = txt.ENGLISH_STOP_WORDS\n",
    "dfMaster['treatedSub'] = dfMaster['treatedSub'].apply(\n",
    "    lambda x: ' '.join([word for word in x.split() if word not in (stop)]))\n",
    "\n",
    "stop = stopwords.words('english')\n",
    "dfMaster['treatedSub'] = dfMaster['treatedSub'].apply(\n",
    "    lambda x: ' '.join([word for word in x.split() if word not in (stop)]))\n",
    "\n",
    "dfMaster['treatedSubLen'] = dfMaster['treatedSub'].apply(lambda x : len(x))"
   ]
  },
  {
   "cell_type": "code",
   "execution_count": null,
   "metadata": {},
   "outputs": [],
   "source": [
    "createPlotLenghtDist('treatedSubLen', dfMaster)"
   ]
  },
  {
   "cell_type": "markdown",
   "metadata": {},
   "source": [
    "## -- Compare total words in a email subject for ham and spam  "
   ]
  },
  {
   "cell_type": "code",
   "execution_count": null,
   "metadata": {},
   "outputs": [],
   "source": [
    "#Create a column with list of words\n",
    "dfMaster['subWordsList'] = dfMaster['treatedSub'].str.split().apply(lemmatizeList).apply(revomeWordsWithOneCharacter)\n",
    "\n",
    "#Create a columns to calculate the total amount of words\n",
    "dfMaster['totalTreatedSubWords'] = dfMaster['subWordsList'].apply(lambda x : len(x))"
   ]
  },
  {
   "cell_type": "code",
   "execution_count": null,
   "metadata": {},
   "outputs": [],
   "source": [
    "createPlotLenghtDist('totalTreatedSubWords', dfMaster)"
   ]
  },
  {
   "cell_type": "markdown",
   "metadata": {},
   "source": [
    "## -- Compare total unique words in a email subject for ham and spam  "
   ]
  },
  {
   "cell_type": "code",
   "execution_count": null,
   "metadata": {},
   "outputs": [],
   "source": [
    "dfMaster['uniqueSubWordsLen'] = dfMaster['subWordsList'].apply(lambda x : len(set(x)))"
   ]
  },
  {
   "cell_type": "code",
   "execution_count": null,
   "metadata": {},
   "outputs": [],
   "source": [
    "createPlotLenghtDist('uniqueSubWordsLen', dfMaster)"
   ]
  },
  {
   "cell_type": "markdown",
   "metadata": {},
   "source": [
    "## Email Subject Words Visualization"
   ]
  },
  {
   "cell_type": "markdown",
   "metadata": {},
   "source": [
    "## -- Total uniques words"
   ]
  },
  {
   "cell_type": "code",
   "execution_count": null,
   "metadata": {},
   "outputs": [],
   "source": [
    "subCount = Counter(list(chain(*dfMaster[\"subWordsList\"].values)))\n",
    "\n",
    "subCountSpam = Counter(list(chain(*dfMaster[dfMaster['isSpam'] == True][\"subWordsList\"].values)))\n",
    "\n",
    "subCountHam = Counter(list(chain(*dfMaster[dfMaster['isSpam'] == False][\"subWordsList\"].values)))\n",
    "\n",
    "totalUniqueWordsPlot(len(subCount), len(subCountSpam), len(subCountHam))"
   ]
  },
  {
   "cell_type": "markdown",
   "metadata": {},
   "source": [
    "## -- Total Unique words with more the 100 repetitions"
   ]
  },
  {
   "cell_type": "code",
   "execution_count": null,
   "metadata": {},
   "outputs": [],
   "source": [
    "dfSubCounter = pd.DataFrame.from_dict(data = dict(subCount),orient='index', columns = ['freq'])\n",
    "\n",
    "dfSubCounterSpam = pd.DataFrame.from_dict(data = dict(subCountSpam),orient='index', columns = ['freq'])\n",
    "\n",
    "dfSubCounterHam = pd.DataFrame.from_dict(data = dict(subCountHam),orient='index', columns = ['freq'])\n",
    "\n",
    "totalUniqueWordsPlot(\n",
    "    len(dfSubCounter[dfSubCounter['freq'] > 100]),\n",
    "    len(dfSubCounterSpam[dfSubCounterSpam['freq'] > 100]),\n",
    "    len(dfSubCounterHam[dfSubCounterHam['freq'] > 100]))"
   ]
  },
  {
   "cell_type": "markdown",
   "metadata": {},
   "source": [
    "## -- 20 Most common words"
   ]
  },
  {
   "cell_type": "code",
   "execution_count": null,
   "metadata": {},
   "outputs": [],
   "source": [
    "plot20MostWord(subCount)"
   ]
  },
  {
   "cell_type": "markdown",
   "metadata": {},
   "source": [
    "## -- 20 Most common words on Spam subject emails"
   ]
  },
  {
   "cell_type": "code",
   "execution_count": null,
   "metadata": {},
   "outputs": [],
   "source": [
    "plot20MostWord(subCountSpam)"
   ]
  },
  {
   "cell_type": "markdown",
   "metadata": {},
   "source": [
    "## -- 20 Most common words on Ham subject emails"
   ]
  },
  {
   "cell_type": "code",
   "execution_count": null,
   "metadata": {},
   "outputs": [],
   "source": [
    "plot20MostWord(subCountHam)"
   ]
  },
  {
   "cell_type": "markdown",
   "metadata": {},
   "source": [
    "## Forward email distribution by spam and ham"
   ]
  },
  {
   "cell_type": "code",
   "execution_count": null,
   "metadata": {},
   "outputs": [],
   "source": [
    "dfMaster['containFW'] = dfMaster['subject'].apply(lambda x : True if \"FW:\" in str(x) else False)"
   ]
  },
  {
   "cell_type": "code",
   "execution_count": null,
   "metadata": {},
   "outputs": [],
   "source": [
    "print(dfMaster['containFW'].value_counts())\n",
    "\n",
    "plt.pie(dfMaster['containFW'].value_counts(), labels=dfMaster['containFW'].unique(), autopct='%1.0f%%', pctdistance=0.5, labeldistance=1.2)"
   ]
  },
  {
   "cell_type": "code",
   "execution_count": null,
   "metadata": {},
   "outputs": [],
   "source": [
    "dfGroupTo = dfMaster.groupby(['containFW', 'isSpam']).size()\n",
    "print(dfGroupTo.unstack().columns.values)\n",
    "dfGT = dfGroupTo.unstack()\n",
    "dfGT['rateF'] = dfGT[False] / (dfGT[False] + dfGT[True])\n",
    "dfGT['rateT'] = dfGT[True] / (dfGT[False] + dfGT[True])\n",
    "\n",
    "dfGT.columns = ['Not Spam', 'Spam', 'Rate Not Spam', 'Rate Spam']\n",
    "\n",
    "dfGT.head()\n",
    "\n"
   ]
  },
  {
   "cell_type": "code",
   "execution_count": null,
   "metadata": {},
   "outputs": [],
   "source": [
    "width = .25\n",
    "\n",
    "dfGT[['Not Spam', 'Spam']].plot(kind='bar')\n",
    "dfGT['Rate Spam'].plot(secondary_y=True)\n",
    "\n",
    "ax = plt.gca()\n",
    "plt.xlim([-width, len(dfGT)-width])\n",
    "ax.set_xticklabels(dfGT.index.values)\n",
    "ax.set_xlabel('Groups')\n",
    "plt.show()"
   ]
  },
  {
   "cell_type": "markdown",
   "metadata": {},
   "source": [
    "## Response email distribution by spam and ham"
   ]
  },
  {
   "cell_type": "code",
   "execution_count": null,
   "metadata": {},
   "outputs": [],
   "source": [
    "dfMaster['containRE'] = dfMaster['subject'].apply(lambda x : True if \"RE:\" in str(x) else False)"
   ]
  },
  {
   "cell_type": "code",
   "execution_count": null,
   "metadata": {},
   "outputs": [],
   "source": [
    "print(dfMaster['containRE'].value_counts())\n",
    "\n",
    "plt.pie(dfMaster['containRE'].value_counts(), labels=dfMaster['containRE'].unique(), autopct='%1.0f%%', pctdistance=0.5, labeldistance=1.2)"
   ]
  },
  {
   "cell_type": "code",
   "execution_count": null,
   "metadata": {},
   "outputs": [],
   "source": [
    "dfGroupTo = dfMaster.groupby(['containRE', 'isSpam']).size()\n",
    "print(dfGroupTo.unstack().columns.values)\n",
    "dfGT = dfGroupTo.unstack()\n",
    "dfGT['rateF'] = dfGT[False] / (dfGT[False] + dfGT[True])\n",
    "dfGT['rateT'] = dfGT[True] / (dfGT[False] + dfGT[True])\n",
    "\n",
    "dfGT.columns = ['Not Spam', 'Spam', 'Rate Not Spam', 'Rate Spam']\n",
    "\n",
    "dfGT.head()"
   ]
  },
  {
   "cell_type": "code",
   "execution_count": null,
   "metadata": {},
   "outputs": [],
   "source": [
    "width = .25\n",
    "\n",
    "dfGT[['Not Spam', 'Spam']].plot(kind='bar')\n",
    "dfGT['Rate Spam'].plot(secondary_y=True)\n",
    "\n",
    "ax = plt.gca()\n",
    "plt.xlim([-width, len(dfGT)-width])\n",
    "ax.set_xticklabels(dfGT.index.values)\n",
    "ax.set_xlabel('Groups')\n",
    "plt.show()"
   ]
  },
  {
   "cell_type": "markdown",
   "metadata": {},
   "source": [
    "## Origin Email Server Visualization"
   ]
  },
  {
   "cell_type": "code",
   "execution_count": null,
   "metadata": {},
   "outputs": [],
   "source": [
    "dfMaster[\"orgEmailRoot\"] = dfMaster[\"from\"].apply(getEmailRoot)"
   ]
  },
  {
   "cell_type": "code",
   "execution_count": null,
   "metadata": {},
   "outputs": [],
   "source": [
    "dfMaster[\"orgEmailServer\"] = dfMaster[\"orgEmailRoot\"].apply(lambda x : getEmailPartRoot(x,1))"
   ]
  },
  {
   "cell_type": "markdown",
   "metadata": {},
   "source": [
    "## -- Total Unique words"
   ]
  },
  {
   "cell_type": "code",
   "execution_count": null,
   "metadata": {},
   "outputs": [],
   "source": [
    "emailServerCount = Counter(list(dfMaster[\"orgEmailServer\"].values))\n",
    "\n",
    "emailServerCountSpam = Counter(list(dfMaster[dfMaster['isSpam'] == True][\"orgEmailServer\"].values))\n",
    "\n",
    "emailServerCountHam = Counter(list(dfMaster[dfMaster['isSpam'] == False][\"orgEmailServer\"].values))\n",
    "\n",
    "totalUniqueWordsPlot(len(emailServerCount), len(emailServerCountSpam), len(emailServerCountHam))"
   ]
  },
  {
   "cell_type": "markdown",
   "metadata": {},
   "source": [
    "## -- Total Unique words with more the 100 repetitions"
   ]
  },
  {
   "cell_type": "code",
   "execution_count": null,
   "metadata": {},
   "outputs": [],
   "source": [
    "dfEmailServerCounter = pd.DataFrame.from_dict(data = dict(emailServerCount),orient='index', columns = ['freq'])\n",
    "\n",
    "dfEmailServerCounterSpam = pd.DataFrame.from_dict(data = dict(emailServerCountSpam),orient='index', columns = ['freq'])\n",
    "\n",
    "dfEmailServerCounterHam = pd.DataFrame.from_dict(data = dict(emailServerCountHam),orient='index', columns = ['freq'])\n",
    "\n",
    "totalUniqueWordsPlot(\n",
    "    len(dfEmailServerCounter[dfEmailServerCounter['freq'] > 100]),\n",
    "    len(dfEmailServerCounterSpam[dfEmailServerCounterSpam['freq'] > 100]),\n",
    "    len(dfEmailServerCounterHam[dfEmailServerCounterHam['freq'] > 100]))"
   ]
  },
  {
   "cell_type": "markdown",
   "metadata": {},
   "source": [
    "## -- 20 Most common words"
   ]
  },
  {
   "cell_type": "code",
   "execution_count": null,
   "metadata": {},
   "outputs": [],
   "source": [
    "plot20MostWord(emailServerCount) "
   ]
  },
  {
   "cell_type": "markdown",
   "metadata": {},
   "source": [
    "## -- 20 Most common words on Spam emails"
   ]
  },
  {
   "cell_type": "code",
   "execution_count": null,
   "metadata": {},
   "outputs": [],
   "source": [
    "plot20MostWord(emailServerCountSpam) "
   ]
  },
  {
   "cell_type": "markdown",
   "metadata": {},
   "source": [
    "## -- 20 Most common words on Ham emails"
   ]
  },
  {
   "cell_type": "code",
   "execution_count": null,
   "metadata": {},
   "outputs": [],
   "source": [
    "plot20MostWord(emailServerCountHam) "
   ]
  },
  {
   "cell_type": "markdown",
   "metadata": {},
   "source": [
    "## Origin Email Name Visualization"
   ]
  },
  {
   "cell_type": "code",
   "execution_count": null,
   "metadata": {},
   "outputs": [],
   "source": [
    "dfMaster[\"orgEmailName\"] = dfMaster[\"orgEmailRoot\"].apply(lambda x : getEmailPartRoot(x,0))"
   ]
  },
  {
   "cell_type": "markdown",
   "metadata": {},
   "source": [
    "## -- Total Unique words"
   ]
  },
  {
   "cell_type": "code",
   "execution_count": null,
   "metadata": {},
   "outputs": [],
   "source": [
    "emailNameCount = Counter(list(dfMaster[\"orgEmailName\"].values))\n",
    "\n",
    "emailNameCountSpam = Counter(list(dfMaster[dfMaster['isSpam'] == True][\"orgEmailName\"].values))\n",
    "\n",
    "emailNameCountHam = Counter(list(dfMaster[dfMaster['isSpam'] == False][\"orgEmailName\"].values))\n",
    "\n",
    "totalUniqueWordsPlot(len(emailNameCount), len(emailNameCountSpam), len(emailNameCountHam))"
   ]
  },
  {
   "cell_type": "markdown",
   "metadata": {},
   "source": [
    "## -- Total Unique words with more the 100 repetitions"
   ]
  },
  {
   "cell_type": "code",
   "execution_count": null,
   "metadata": {},
   "outputs": [],
   "source": [
    "dfEmailNameCounter = pd.DataFrame.from_dict(data = dict(emailNameCount),orient='index', columns = ['freq'])\n",
    "\n",
    "dfEmailNameCounterSpam = pd.DataFrame.from_dict(data = dict(emailNameCountSpam),orient='index', columns = ['freq'])\n",
    "\n",
    "dfEmailNameCounterHam = pd.DataFrame.from_dict(data = dict(emailNameCountHam),orient='index', columns = ['freq'])\n",
    "\n",
    "totalUniqueWordsPlot(\n",
    "    len(dfEmailNameCounter[dfEmailNameCounter['freq'] > 100]),\n",
    "    len(dfEmailNameCounterSpam[dfEmailNameCounterSpam['freq'] > 100]),\n",
    "    len(dfEmailNameCounterHam[dfEmailNameCounterHam['freq'] > 100]))\n"
   ]
  },
  {
   "cell_type": "markdown",
   "metadata": {},
   "source": [
    "## -- 20 Most common words"
   ]
  },
  {
   "cell_type": "code",
   "execution_count": null,
   "metadata": {},
   "outputs": [],
   "source": [
    "plot20MostWord(emailNameCount) "
   ]
  },
  {
   "cell_type": "markdown",
   "metadata": {},
   "source": [
    "## -- 20 Most common words on Spam emails"
   ]
  },
  {
   "cell_type": "code",
   "execution_count": null,
   "metadata": {},
   "outputs": [],
   "source": [
    "plot20MostWord(emailNameCountSpam)"
   ]
  },
  {
   "cell_type": "markdown",
   "metadata": {},
   "source": [
    "## -- 20 Most common words on Ham emails"
   ]
  },
  {
   "cell_type": "code",
   "execution_count": null,
   "metadata": {},
   "outputs": [],
   "source": [
    "plot20MostWord(emailNameCountHam) "
   ]
  },
  {
   "cell_type": "markdown",
   "metadata": {},
   "source": [
    "# Modeling"
   ]
  },
  {
   "cell_type": "markdown",
   "metadata": {},
   "source": [
    "## -- Create a modeling dataset"
   ]
  },
  {
   "cell_type": "code",
   "execution_count": null,
   "metadata": {},
   "outputs": [],
   "source": [
    "dfModeling = dfMaster.loc[:,[\"isSpam\", \"hour\", \"isPlain\",\"toCountGroup\", \"containFW\", \"containRE\", \"orgEmailServer\", \"orgEmailName\", \"uniqueSubWordsLen\", \"uniqueWordsLen\",  'subLen', \"textLen\", 'treatedSub','treatedMessage' ]]\n"
   ]
  },
  {
   "cell_type": "code",
   "execution_count": null,
   "metadata": {},
   "outputs": [],
   "source": [
    "dfModeling.head()"
   ]
  },
  {
   "cell_type": "markdown",
   "metadata": {},
   "source": [
    "## -- Check for null values and remove it"
   ]
  },
  {
   "cell_type": "code",
   "execution_count": null,
   "metadata": {},
   "outputs": [],
   "source": [
    "print(\"Total dataset size: {}\".format(len(dfModeling)))\n",
    "print(\"Total dataset size withou null values: {}\".format(len(dfModeling.dropna())))\n",
    "dfModeling = dfModeling.dropna() "
   ]
  },
  {
   "cell_type": "markdown",
   "metadata": {},
   "source": [
    "## -- Split modeling dataset"
   ]
  },
  {
   "cell_type": "code",
   "execution_count": null,
   "metadata": {},
   "outputs": [],
   "source": [
    "#train_x, valid_x, train_y, valid_y = model_selection.train_test_split(trainDF['text'], trainD\n",
    "x_train, x_test, y_train, y_test = train_test_split(dfModeling[[\"hour\", \"isPlain\",\"toCountGroup\", \"containFW\", \"containRE\", \"orgEmailServer\", \"orgEmailName\", \"uniqueSubWordsLen\", \"uniqueWordsLen\",  'subLen', \"textLen\", 'treatedSub','treatedMessage']],dfModeling['isSpam'])"
   ]
  },
  {
   "cell_type": "markdown",
   "metadata": {},
   "source": [
    "## -- Convert message to feature"
   ]
  },
  {
   "cell_type": "markdown",
   "metadata": {},
   "source": [
    "## ---  Count Vectors as features"
   ]
  },
  {
   "cell_type": "code",
   "execution_count": null,
   "metadata": {},
   "outputs": [],
   "source": [
    "count_vect = CountVectorizer(analyzer='word', min_df= 100, token_pattern=r'\\w{1,}')\n",
    "count_vect.fit(x_train['treatedMessage'])\n",
    "xtrain_count =  count_vect.transform(x_train['treatedMessage'])\n",
    "xtest_count =  count_vect.transform(x_test['treatedMessage'])\n"
   ]
  },
  {
   "cell_type": "markdown",
   "metadata": {},
   "source": [
    "## --- TF-IDF"
   ]
  },
  {
   "cell_type": "code",
   "execution_count": null,
   "metadata": {},
   "outputs": [],
   "source": [
    "# word level tf-idf\n",
    "tfidf_vect = TfidfVectorizer(analyzer='word', token_pattern=r'\\w{1,}', max_features=6200)\n",
    "tfidf_vect.fit(dfModeling['treatedMessage'])\n",
    "xtrain_tfidf =  tfidf_vect.transform(x_train['treatedMessage'])\n",
    "xtest_tfidf =  tfidf_vect.transform(x_test['treatedMessage'])\n",
    "\n",
    "# ngram level tf-idf \n",
    "tfidf_vect_ngram = TfidfVectorizer(analyzer='word', token_pattern=r'\\w{1,}', ngram_range=(1,3), max_features=6200)\n",
    "tfidf_vect_ngram.fit(dfModeling['treatedMessage'])\n",
    "xtrain_tfidf_ngram =  tfidf_vect_ngram.transform(x_train['treatedMessage'])\n",
    "xtest_tfidf_ngram =  tfidf_vect_ngram.transform(x_test['treatedMessage'])\n",
    "\n",
    "# characters level tf-idf\n",
    "tfidf_vect_ngram_chars = TfidfVectorizer(analyzer='char', token_pattern=r'\\w{1,}', ngram_range=(1,3), max_features=6200)\n",
    "tfidf_vect_ngram_chars.fit(dfModeling['treatedMessage'])\n",
    "xtrain_tfidf_ngram_chars =  tfidf_vect_ngram_chars.transform(x_train['treatedMessage']) \n",
    "xtest_tfidf_ngram_chars =  tfidf_vect_ngram_chars.transform(x_test['treatedMessage']) "
   ]
  },
  {
   "cell_type": "markdown",
   "metadata": {},
   "source": [
    "## -- Create Models based in only email message feature"
   ]
  },
  {
   "cell_type": "markdown",
   "metadata": {},
   "source": [
    "## --- Naive Bayes"
   ]
  },
  {
   "cell_type": "code",
   "execution_count": null,
   "metadata": {},
   "outputs": [],
   "source": [
    "# Naive Bayes on Count Vectors\n",
    "countVectAccuracy = train_model(naive_bayes.MultinomialNB(), xtrain_count, y_train, xtest_count, y_test)\n",
    "print (\"Count Vectors: {}\".format(countVectAccuracy))\n",
    "\n",
    "# Naive Bayes on Word Level TF IDF Vectors\n",
    "tfWLAccuracy = train_model(naive_bayes.MultinomialNB(), xtrain_tfidf, y_train, xtest_tfidf, y_test)\n",
    "print (\"WordLevel TF-IDF:  {}\".format(tfWLAccuracy))\n",
    "\n",
    "# Naive Bayes on Ngram Level TF IDF Vectors\n",
    "tfNGAccuracy = train_model(naive_bayes.MultinomialNB(), xtrain_tfidf_ngram, y_train, xtest_tfidf_ngram, y_test)\n",
    "print (\"N-Gram Vectors:  {}\".format(tfNGAccuracy))\n",
    "\n",
    "# Naive Bayes on Character Level TF IDF Vectors\n",
    "tfCLAccuracy = train_model(naive_bayes.MultinomialNB(), xtrain_tfidf_ngram_chars, y_train, xtest_tfidf_ngram_chars, y_test)\n",
    "print (\"CharLevel Vectors:  {}\".format(tfCLAccuracy))"
   ]
  },
  {
   "cell_type": "markdown",
   "metadata": {},
   "source": [
    "## --- SVM Model"
   ]
  },
  {
   "cell_type": "code",
   "execution_count": null,
   "metadata": {},
   "outputs": [],
   "source": [
    "svmAccuracy = train_model(svm.SVC(), xtrain_tfidf_ngram, y_train, xtest_tfidf_ngram, y_test)\n",
    "print(\"N-Gram Vectors: {}\".format(svmAccuracy))"
   ]
  },
  {
   "cell_type": "markdown",
   "metadata": {},
   "source": [
    "## --- Random Forest (Bagging Model)"
   ]
  },
  {
   "cell_type": "code",
   "execution_count": null,
   "metadata": {},
   "outputs": [],
   "source": [
    "# RF on Count Vectors\n",
    "rfCountAccuracy = train_model(ensemble.RandomForestClassifier(), xtrain_count, y_train, xtest_count, y_test)\n",
    "print (\"Count Vectors: {}\".format(rfCountAccuracy))\n",
    "\n",
    "# RF on Word Level TF IDF Vectors\n",
    "rfWLAccuracy = train_model(ensemble.RandomForestClassifier(), xtrain_tfidf, y_train, xtest_tfidf, y_test)\n",
    "print (\"WordLevel TF-IDF: {}\".format(rfWLAccuracy))\n"
   ]
  },
  {
   "cell_type": "markdown",
   "metadata": {},
   "source": [
    "## -- Model Comparison"
   ]
  },
  {
   "cell_type": "code",
   "execution_count": null,
   "metadata": {},
   "outputs": [],
   "source": []
  },
  {
   "cell_type": "code",
   "execution_count": null,
   "metadata": {},
   "outputs": [],
   "source": []
  },
  {
   "cell_type": "code",
   "execution_count": null,
   "metadata": {},
   "outputs": [],
   "source": []
  },
  {
   "cell_type": "code",
   "execution_count": null,
   "metadata": {},
   "outputs": [],
   "source": []
  },
  {
   "cell_type": "markdown",
   "metadata": {},
   "source": [
    "## Correlation"
   ]
  },
  {
   "cell_type": "code",
   "execution_count": null,
   "metadata": {},
   "outputs": [],
   "source": [
    "stop / here"
   ]
  },
  {
   "cell_type": "code",
   "execution_count": null,
   "metadata": {},
   "outputs": [],
   "source": [
    "print(dfMaster.columns)\n",
    "dfModeling = dfMaster.loc[:,[\"isSpam\", \"hour\", \"toCountGroup\", \"containFW\", \"containRE\", \"uniqueSubWordsLen\", 'textLen', 'subLen', 'uniqueWordsLen' ]]"
   ]
  },
  {
   "cell_type": "code",
   "execution_count": null,
   "metadata": {},
   "outputs": [],
   "source": [
    "dfModeling.describe()\n",
    "\n"
   ]
  },
  {
   "cell_type": "code",
   "execution_count": null,
   "metadata": {},
   "outputs": [],
   "source": [
    "corr = dfModeling.corr()\n",
    "corr.style.background_gradient(cmap='coolwarm')\n"
   ]
  },
  {
   "cell_type": "code",
   "execution_count": null,
   "metadata": {},
   "outputs": [],
   "source": [
    "from statsmodels.formula.api import ols"
   ]
  },
  {
   "cell_type": "code",
   "execution_count": null,
   "metadata": {},
   "outputs": [],
   "source": [
    "import statsmodels\n",
    "\n",
    "formula = 'isSpam ~ C(hour)+ C(toCountGroup)+ C(containFW)+ C(containRE)+ C(uniqueSubWordsLen)+ C(textLen)+ C(subLen)+ C(uniqueWordsLen)'\n",
    "model = ols(formula, dfModeling).fit()\n"
   ]
  },
  {
   "cell_type": "code",
   "execution_count": null,
   "metadata": {},
   "outputs": [],
   "source": [
    "model.summary()"
   ]
  },
  {
   "cell_type": "code",
   "execution_count": null,
   "metadata": {},
   "outputs": [],
   "source": [
    "import statsmodels.api as sm\n",
    "\n",
    "aov_table = sm.stats.anova_lm(model)\n",
    "print(aov_table)"
   ]
  },
  {
   "cell_type": "code",
   "execution_count": null,
   "metadata": {},
   "outputs": [],
   "source": []
  },
  {
   "cell_type": "code",
   "execution_count": null,
   "metadata": {},
   "outputs": [],
   "source": []
  },
  {
   "cell_type": "code",
   "execution_count": null,
   "metadata": {},
   "outputs": [],
   "source": []
  },
  {
   "cell_type": "code",
   "execution_count": null,
   "metadata": {},
   "outputs": [],
   "source": []
  },
  {
   "cell_type": "code",
   "execution_count": null,
   "metadata": {},
   "outputs": [],
   "source": []
  },
  {
   "cell_type": "code",
   "execution_count": null,
   "metadata": {},
   "outputs": [],
   "source": []
  },
  {
   "cell_type": "code",
   "execution_count": null,
   "metadata": {},
   "outputs": [],
   "source": []
  },
  {
   "cell_type": "code",
   "execution_count": null,
   "metadata": {},
   "outputs": [],
   "source": []
  },
  {
   "cell_type": "code",
   "execution_count": null,
   "metadata": {},
   "outputs": [],
   "source": []
  },
  {
   "cell_type": "code",
   "execution_count": null,
   "metadata": {},
   "outputs": [],
   "source": []
  },
  {
   "cell_type": "code",
   "execution_count": null,
   "metadata": {},
   "outputs": [],
   "source": []
  },
  {
   "cell_type": "code",
   "execution_count": null,
   "metadata": {},
   "outputs": [],
   "source": []
  }
 ],
 "metadata": {
  "kernelspec": {
   "display_name": "Python 3",
   "language": "python",
   "name": "python3"
  },
  "language_info": {
   "codemirror_mode": {
    "name": "ipython",
    "version": 3
   },
   "file_extension": ".py",
   "mimetype": "text/x-python",
   "name": "python",
   "nbconvert_exporter": "python",
   "pygments_lexer": "ipython3",
   "version": "3.6.7"
  }
 },
 "nbformat": 4,
 "nbformat_minor": 2
}
