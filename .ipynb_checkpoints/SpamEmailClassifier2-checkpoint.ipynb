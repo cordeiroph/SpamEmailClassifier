{
 "cells": [
  {
   "cell_type": "markdown",
   "metadata": {},
   "source": [
    "# Spam Classification"
   ]
  },
  {
   "cell_type": "markdown",
   "metadata": {},
   "source": [
    "The objective of it is to generate a model capable to classify a email as spam or not spam.\n",
    "\n",
    "The dataset used was from http://www2.aueb.gr/users/ion/data/enron-spam/"
   ]
  },
  {
   "cell_type": "markdown",
   "metadata": {},
   "source": [
    "## Imports"
   ]
  },
  {
   "cell_type": "code",
   "execution_count": 1,
   "metadata": {},
   "outputs": [
    {
     "name": "stdout",
     "output_type": "stream",
     "text": [
      "[nltk_data] Downloading package stopwords to /Users/phrc/nltk_data...\n",
      "[nltk_data]   Package stopwords is already up-to-date!\n",
      "[nltk_data] Downloading package wordnet to /Users/phrc/nltk_data...\n",
      "[nltk_data]   Package wordnet is already up-to-date!\n"
     ]
    }
   ],
   "source": [
    "import pandas as pd\n",
    "import os\n",
    "from sklearn.feature_extraction.text import CountVectorizer\n",
    "from sklearn.feature_extraction import text\n",
    "import string\n",
    "import numpy as np\n",
    "import matplotlib.pyplot as plt\n",
    "from collections import Counter\n",
    "from itertools import chain\n",
    "import nltk\n",
    "from nltk.corpus import stopwords\n",
    "nltk.download('stopwords')\n",
    "nltk.download('wordnet')\n",
    "from nltk.stem.wordnet import WordNetLemmatizer\n",
    "from textblob import TextBlob\n",
    "import email\n",
    "from email.message import EmailMessage\n",
    "from email.parser import BytesParser, Parser\n",
    "from email.policy import default\n",
    "import ast\n",
    "import re"
   ]
  },
  {
   "cell_type": "markdown",
   "metadata": {},
   "source": [
    "## Functions"
   ]
  },
  {
   "cell_type": "code",
   "execution_count": 126,
   "metadata": {},
   "outputs": [],
   "source": [
    "def createDf(path):\n",
    "    \"\"\"\n",
    "    Read all email files and convert to a dataframe\n",
    "\n",
    "    Parameters\n",
    "    ----------\n",
    "    path: str\n",
    "        Path to a root directory to be read\n",
    "\n",
    "    Returns\n",
    "    ----------\n",
    "    dataframe\n",
    "        a dataframe with x columns based in all emails properties\n",
    "    \"\"\"\n",
    "    os.chdir(path)\n",
    "    data = []\n",
    "    for root, dirs, files in os.walk(path):\n",
    "         for file in files:\n",
    "            with open(os.path.join(root, file), \"rb\") as openFile:\n",
    "                dictTemp = {}\n",
    "                try:\n",
    "                    message = email.message_from_binary_file(openFile, policy=default)\n",
    "                    #Parser(policy=default).parsestr(openFile.read())\n",
    "                    dictTemp['file'] = openFile.name\n",
    "                    for key in message.keys():\n",
    "                        dictTemp[key.lower()] = message[key]\n",
    "                    dictTemp['messageType'] = message.get_content_type()\n",
    "                    body = message.get_body()\n",
    "                    if body['content-type'].maintype == 'text':\n",
    "                        if body['content-type'].subtype == 'plain':\n",
    "                            dictTemp['messageStr'] = str(body.get_content())\n",
    "                        elif body['content-type'].subtype == 'html':\n",
    "                            dictTemp['messageStr'] = str(body)\n",
    "                    elif body['content-type'].content_type in 'multipart':\n",
    "                        dictTemp['messageStr'] = str(body.get_body(preferencelist=('html')))\n",
    "                    dictTemp['parseError'] = False                 \n",
    "                except:\n",
    "                    dictTemp['parseError'] = True\n",
    "                data.append(dictTemp)\n",
    "    df = pd.DataFrame(data)\n",
    "    return df\n",
    "\n",
    "def emailTextCleanner(text):\n",
    "    \"\"\"\n",
    "    Remove:\n",
    "        Html Tags\n",
    "        Email headers\n",
    "        Ponctuation\n",
    "        break lines and tabs\n",
    "    \n",
    "    And convert the string to lower case \n",
    "\n",
    "    Parameters\n",
    "    ----------\n",
    "    text: str\n",
    "\n",
    "    Returns\n",
    "    ----------\n",
    "    str\n",
    "    \"\"\"\n",
    "    try:\n",
    "        text = str(text).lower()\n",
    "        clean = re.compile('charset.*\\n')\n",
    "        text = re.sub(clean, '', text)\n",
    "        clean = re.compile('content-.*\\n')\n",
    "        text = re.sub(clean, '', text)\n",
    "        clean = re.compile('received: from.*\\n')\n",
    "        text = re.sub(clean, '', text)\n",
    "        text = text.replace('\\n', ' ')\n",
    "        text = text.replace('\\t', ' ')\n",
    "        clean = re.compile('<.*?>')\n",
    "        text = re.sub(clean, '', str(text))\n",
    "        clean = re.compile('['+string.punctuation+']')\n",
    "        text = re.sub(clean, '', text)\n",
    "        \n",
    "        return text\n",
    "    except:\n",
    "        print(type(text))\n",
    "        return \"\"\n",
    "#    text = text.replace('Subject:', '', 1)\n",
    "    #print(text)\n",
    "    #print(\"---------------------------------------------\")\n",
    "    #print(\"---------------------------------------------\")\n",
    "    #text = TextBlob(text)\n",
    "    #text = str(text.correct())\n",
    "    #print(text)\n",
    "    #print(\"\\n\")\n",
    "#    return text\n",
    "\n",
    "def lemmatizeList(words):\n",
    "    \"\"\"\n",
    "    Lemmatize a list of string\n",
    "\n",
    "    Parameters\n",
    "    ----------\n",
    "    words: list of str\n",
    "\n",
    "    Returns\n",
    "    ----------\n",
    "    list of str\n",
    "    \"\"\"\n",
    "#    print(\"|\", end='')\n",
    "    lem = WordNetLemmatizer()\n",
    "    for i in range(len(words)):\n",
    "#        text = TextBlob(words[i])\n",
    "#        words[i] = str(text.correct())\n",
    "        words[i] = lem.lemmatize(words[i], 'v')\n",
    "        words[i] = lem.lemmatize(words[i], 'n')\n",
    "    return words\n",
    "\n",
    "def revomeWordsWithOneCharacter(words):\n",
    "    return list(filter(lambda x : len(x) > 1, words))\n",
    "\n",
    "def removeDigits(words):\n",
    "    return list(filter(lambda x : x.isdigit() == False, words))"
   ]
  },
  {
   "cell_type": "markdown",
   "metadata": {},
   "source": [
    "## Dataset generation"
   ]
  },
  {
   "cell_type": "code",
   "execution_count": 3,
   "metadata": {},
   "outputs": [],
   "source": [
    "spamPath = '/Users/phrc/Documents/Projects/pythonProject/SpamEmailClassifier/emails/spam/'\n",
    "hamPath = '/Users/phrc/Documents/Projects/pythonProject/SpamEmailClassifier/emails/ham/'\n",
    "\n",
    "\n",
    "dfSpam = createDf(spamPath)\n",
    "dfHam = createDf(hamPath)"
   ]
  },
  {
   "cell_type": "markdown",
   "metadata": {},
   "source": [
    "## Dataset Size"
   ]
  },
  {
   "cell_type": "code",
   "execution_count": 4,
   "metadata": {},
   "outputs": [
    {
     "data": {
      "image/png": "[encoded data removed]",
      "text/plain": [
       "<Figure size 432x288 with 1 Axes>"
      ]
     },
     "metadata": {
      "needs_background": "light"
     },
     "output_type": "display_data"
    }
   ],
   "source": [
    "\n",
    "plt.bar(np.arange(2), (len(dfHam), len(dfSpam)), align='center')\n",
    "plt.xticks(np.arange(2), ('Ham \\n{}'.format(len(dfHam)), 'Spam \\n{}'.format(len(dfSpam))))\n",
    "\n",
    "plt.show();"
   ]
  },
  {
   "cell_type": "code",
   "execution_count": 5,
   "metadata": {},
   "outputs": [
    {
     "data": {
      "text/html": [
       "<div>\n",
       "<style scoped>\n",
       "    .dataframe tbody tr th:only-of-type {\n",
       "        vertical-align: middle;\n",
       "    }\n",
       "\n",
       "    .dataframe tbody tr th {\n",
       "        vertical-align: top;\n",
       "    }\n",
       "\n",
       "    .dataframe thead th {\n",
       "        text-align: right;\n",
       "    }\n",
       "</style>\n",
       "<table border=\"1\" class=\"dataframe\">\n",
       "  <thead>\n",
       "    <tr style=\"text-align: right;\">\n",
       "      <th></th>\n",
       "      <th>0x-accept-language</th>\n",
       "      <th>1</th>\n",
       "      <th>2</th>\n",
       "      <th>accreditor</th>\n",
       "      <th>alternate-recipient</th>\n",
       "      <th>andorra-islamabad</th>\n",
       "      <th>approved</th>\n",
       "      <th>approved-by</th>\n",
       "      <th>archenemy-matthew</th>\n",
       "      <th>auto-forwarded</th>\n",
       "      <th>...</th>\n",
       "      <th>x-yahoo-newman-property</th>\n",
       "      <th>x-yahoo-profile</th>\n",
       "      <th>x-yoursite-mailscanner</th>\n",
       "      <th>x-yoursite-mailscanner-information</th>\n",
       "      <th>x-zinester-pid</th>\n",
       "      <th>x_id</th>\n",
       "      <th>x_uid</th>\n",
       "      <th>xid4</th>\n",
       "      <th>xmailing-id</th>\n",
       "      <th>xref</th>\n",
       "    </tr>\n",
       "  </thead>\n",
       "  <tbody>\n",
       "    <tr>\n",
       "      <th>0</th>\n",
       "      <td>NaN</td>\n",
       "      <td>NaN</td>\n",
       "      <td>NaN</td>\n",
       "      <td>NaN</td>\n",
       "      <td>NaN</td>\n",
       "      <td>NaN</td>\n",
       "      <td>NaN</td>\n",
       "      <td>NaN</td>\n",
       "      <td>NaN</td>\n",
       "      <td>NaN</td>\n",
       "      <td>...</td>\n",
       "      <td>NaN</td>\n",
       "      <td>NaN</td>\n",
       "      <td>NaN</td>\n",
       "      <td>NaN</td>\n",
       "      <td>NaN</td>\n",
       "      <td>NaN</td>\n",
       "      <td>NaN</td>\n",
       "      <td>NaN</td>\n",
       "      <td>NaN</td>\n",
       "      <td>NaN</td>\n",
       "    </tr>\n",
       "    <tr>\n",
       "      <th>1</th>\n",
       "      <td>NaN</td>\n",
       "      <td>NaN</td>\n",
       "      <td>NaN</td>\n",
       "      <td>NaN</td>\n",
       "      <td>NaN</td>\n",
       "      <td>NaN</td>\n",
       "      <td>NaN</td>\n",
       "      <td>NaN</td>\n",
       "      <td>NaN</td>\n",
       "      <td>NaN</td>\n",
       "      <td>...</td>\n",
       "      <td>NaN</td>\n",
       "      <td>NaN</td>\n",
       "      <td>NaN</td>\n",
       "      <td>NaN</td>\n",
       "      <td>NaN</td>\n",
       "      <td>NaN</td>\n",
       "      <td>NaN</td>\n",
       "      <td>NaN</td>\n",
       "      <td>NaN</td>\n",
       "      <td>NaN</td>\n",
       "    </tr>\n",
       "    <tr>\n",
       "      <th>2</th>\n",
       "      <td>NaN</td>\n",
       "      <td>NaN</td>\n",
       "      <td>NaN</td>\n",
       "      <td>NaN</td>\n",
       "      <td>Allowed</td>\n",
       "      <td>NaN</td>\n",
       "      <td>NaN</td>\n",
       "      <td>NaN</td>\n",
       "      <td>NaN</td>\n",
       "      <td>NaN</td>\n",
       "      <td>...</td>\n",
       "      <td>NaN</td>\n",
       "      <td>NaN</td>\n",
       "      <td>NaN</td>\n",
       "      <td>NaN</td>\n",
       "      <td>NaN</td>\n",
       "      <td>NaN</td>\n",
       "      <td>NaN</td>\n",
       "      <td>NaN</td>\n",
       "      <td>NaN</td>\n",
       "      <td>NaN</td>\n",
       "    </tr>\n",
       "    <tr>\n",
       "      <th>3</th>\n",
       "      <td>NaN</td>\n",
       "      <td>NaN</td>\n",
       "      <td>NaN</td>\n",
       "      <td>NaN</td>\n",
       "      <td>NaN</td>\n",
       "      <td>NaN</td>\n",
       "      <td>NaN</td>\n",
       "      <td>NaN</td>\n",
       "      <td>NaN</td>\n",
       "      <td>NaN</td>\n",
       "      <td>...</td>\n",
       "      <td>NaN</td>\n",
       "      <td>NaN</td>\n",
       "      <td>NaN</td>\n",
       "      <td>NaN</td>\n",
       "      <td>NaN</td>\n",
       "      <td>NaN</td>\n",
       "      <td>NaN</td>\n",
       "      <td>NaN</td>\n",
       "      <td>NaN</td>\n",
       "      <td>NaN</td>\n",
       "    </tr>\n",
       "    <tr>\n",
       "      <th>4</th>\n",
       "      <td>NaN</td>\n",
       "      <td>NaN</td>\n",
       "      <td>NaN</td>\n",
       "      <td>NaN</td>\n",
       "      <td>NaN</td>\n",
       "      <td>NaN</td>\n",
       "      <td>NaN</td>\n",
       "      <td>NaN</td>\n",
       "      <td>NaN</td>\n",
       "      <td>NaN</td>\n",
       "      <td>...</td>\n",
       "      <td>NaN</td>\n",
       "      <td>NaN</td>\n",
       "      <td>NaN</td>\n",
       "      <td>NaN</td>\n",
       "      <td>NaN</td>\n",
       "      <td>NaN</td>\n",
       "      <td>NaN</td>\n",
       "      <td>NaN</td>\n",
       "      <td>NaN</td>\n",
       "      <td>NaN</td>\n",
       "    </tr>\n",
       "  </tbody>\n",
       "</table>\n",
       "<p>5 rows × 466 columns</p>\n",
       "</div>"
      ],
      "text/plain": [
       "  0x-accept-language    1    2 accreditor alternate-recipient  \\\n",
       "0                NaN  NaN  NaN        NaN                 NaN   \n",
       "1                NaN  NaN  NaN        NaN                 NaN   \n",
       "2                NaN  NaN  NaN        NaN             Allowed   \n",
       "3                NaN  NaN  NaN        NaN                 NaN   \n",
       "4                NaN  NaN  NaN        NaN                 NaN   \n",
       "\n",
       "  andorra-islamabad approved approved-by archenemy-matthew auto-forwarded  \\\n",
       "0               NaN      NaN         NaN               NaN            NaN   \n",
       "1               NaN      NaN         NaN               NaN            NaN   \n",
       "2               NaN      NaN         NaN               NaN            NaN   \n",
       "3               NaN      NaN         NaN               NaN            NaN   \n",
       "4               NaN      NaN         NaN               NaN            NaN   \n",
       "\n",
       "   ... x-yahoo-newman-property x-yahoo-profile x-yoursite-mailscanner  \\\n",
       "0  ...                     NaN             NaN                    NaN   \n",
       "1  ...                     NaN             NaN                    NaN   \n",
       "2  ...                     NaN             NaN                    NaN   \n",
       "3  ...                     NaN             NaN                    NaN   \n",
       "4  ...                     NaN             NaN                    NaN   \n",
       "\n",
       "  x-yoursite-mailscanner-information x-zinester-pid x_id x_uid xid4  \\\n",
       "0                                NaN            NaN  NaN   NaN  NaN   \n",
       "1                                NaN            NaN  NaN   NaN  NaN   \n",
       "2                                NaN            NaN  NaN   NaN  NaN   \n",
       "3                                NaN            NaN  NaN   NaN  NaN   \n",
       "4                                NaN            NaN  NaN   NaN  NaN   \n",
       "\n",
       "  xmailing-id xref  \n",
       "0         NaN  NaN  \n",
       "1         NaN  NaN  \n",
       "2         NaN  NaN  \n",
       "3         NaN  NaN  \n",
       "4         NaN  NaN  \n",
       "\n",
       "[5 rows x 466 columns]"
      ]
     },
     "execution_count": 5,
     "metadata": {},
     "output_type": "execute_result"
    }
   ],
   "source": [
    "dfSpam.head()"
   ]
  },
  {
   "cell_type": "markdown",
   "metadata": {},
   "source": [
    "### Dataset Spam Columns Analyse"
   ]
  },
  {
   "cell_type": "code",
   "execution_count": 6,
   "metadata": {},
   "outputs": [
    {
     "data": {
      "text/html": [
       "<div>\n",
       "<style scoped>\n",
       "    .dataframe tbody tr th:only-of-type {\n",
       "        vertical-align: middle;\n",
       "    }\n",
       "\n",
       "    .dataframe tbody tr th {\n",
       "        vertical-align: top;\n",
       "    }\n",
       "\n",
       "    .dataframe thead th {\n",
       "        text-align: right;\n",
       "    }\n",
       "</style>\n",
       "<table border=\"1\" class=\"dataframe\">\n",
       "  <thead>\n",
       "    <tr style=\"text-align: right;\">\n",
       "      <th></th>\n",
       "      <th>count</th>\n",
       "      <th>unique</th>\n",
       "      <th>top</th>\n",
       "      <th>freq</th>\n",
       "    </tr>\n",
       "  </thead>\n",
       "  <tbody>\n",
       "    <tr>\n",
       "      <th>content-type</th>\n",
       "      <td>32835</td>\n",
       "      <td>7616</td>\n",
       "      <td>text/html; charset=\"iso-8859-7\"</td>\n",
       "      <td>12553</td>\n",
       "    </tr>\n",
       "    <tr>\n",
       "      <th>date</th>\n",
       "      <td>32572</td>\n",
       "      <td>30490</td>\n",
       "      <td>Tue, 19 Jan 2038 11:14:07 +0800</td>\n",
       "      <td>52</td>\n",
       "    </tr>\n",
       "    <tr>\n",
       "      <th>file</th>\n",
       "      <td>32988</td>\n",
       "      <td>32988</td>\n",
       "      <td>/Users/phrc/Documents/Projects/pythonProject/S...</td>\n",
       "      <td>1</td>\n",
       "    </tr>\n",
       "    <tr>\n",
       "      <th>from</th>\n",
       "      <td>32957</td>\n",
       "      <td>27895</td>\n",
       "      <td>COMPUTRON &lt;khatun@emirates.net.ae&gt;</td>\n",
       "      <td>347</td>\n",
       "    </tr>\n",
       "    <tr>\n",
       "      <th>messageStr</th>\n",
       "      <td>29849</td>\n",
       "      <td>27602</td>\n",
       "      <td>Call out Gouranga be happy!!!\\nGouranga Gouran...</td>\n",
       "      <td>79</td>\n",
       "    </tr>\n",
       "    <tr>\n",
       "      <th>messageType</th>\n",
       "      <td>32965</td>\n",
       "      <td>8</td>\n",
       "      <td>text/html</td>\n",
       "      <td>16715</td>\n",
       "    </tr>\n",
       "    <tr>\n",
       "      <th>mime-version</th>\n",
       "      <td>31915</td>\n",
       "      <td>448</td>\n",
       "      <td>1.0</td>\n",
       "      <td>30943</td>\n",
       "    </tr>\n",
       "    <tr>\n",
       "      <th>subject</th>\n",
       "      <td>32831</td>\n",
       "      <td>20625</td>\n",
       "      <td></td>\n",
       "      <td>613</td>\n",
       "    </tr>\n",
       "    <tr>\n",
       "      <th>to</th>\n",
       "      <td>32380</td>\n",
       "      <td>5254</td>\n",
       "      <td>paliourg@iit.demokritos.gr</td>\n",
       "      <td>7068</td>\n",
       "    </tr>\n",
       "  </tbody>\n",
       "</table>\n",
       "</div>"
      ],
      "text/plain": [
       "              count unique                                                top  \\\n",
       "content-type  32835   7616                    text/html; charset=\"iso-8859-7\"   \n",
       "date          32572  30490                    Tue, 19 Jan 2038 11:14:07 +0800   \n",
       "file          32988  32988  /Users/phrc/Documents/Projects/pythonProject/S...   \n",
       "from          32957  27895                 COMPUTRON <khatun@emirates.net.ae>   \n",
       "messageStr    29849  27602  Call out Gouranga be happy!!!\\nGouranga Gouran...   \n",
       "messageType   32965      8                                          text/html   \n",
       "mime-version  31915    448                                                1.0   \n",
       "subject       32831  20625                                                      \n",
       "to            32380   5254                         paliourg@iit.demokritos.gr   \n",
       "\n",
       "               freq  \n",
       "content-type  12553  \n",
       "date             52  \n",
       "file              1  \n",
       "from            347  \n",
       "messageStr       79  \n",
       "messageType   16715  \n",
       "mime-version  30943  \n",
       "subject         613  \n",
       "to             7068  "
      ]
     },
     "execution_count": 6,
     "metadata": {},
     "output_type": "execute_result"
    }
   ],
   "source": [
    "dfSpamDesc = dfSpam.describe(include=['object']).T\n",
    "n = len(dfSpam) * 0.75 \n",
    "dfSpamDesc[dfSpamDesc['count'] > n].head(300)"
   ]
  },
  {
   "cell_type": "markdown",
   "metadata": {},
   "source": [
    "### Dataset Ham Columns Analyse"
   ]
  },
  {
   "cell_type": "code",
   "execution_count": 7,
   "metadata": {},
   "outputs": [
    {
     "data": {
      "text/html": [
       "<div>\n",
       "<style scoped>\n",
       "    .dataframe tbody tr th:only-of-type {\n",
       "        vertical-align: middle;\n",
       "    }\n",
       "\n",
       "    .dataframe tbody tr th {\n",
       "        vertical-align: top;\n",
       "    }\n",
       "\n",
       "    .dataframe thead th {\n",
       "        text-align: right;\n",
       "    }\n",
       "</style>\n",
       "<table border=\"1\" class=\"dataframe\">\n",
       "  <thead>\n",
       "    <tr style=\"text-align: right;\">\n",
       "      <th></th>\n",
       "      <th>count</th>\n",
       "      <th>unique</th>\n",
       "      <th>top</th>\n",
       "      <th>freq</th>\n",
       "    </tr>\n",
       "  </thead>\n",
       "  <tbody>\n",
       "    <tr>\n",
       "      <th>content-transfer-encoding</th>\n",
       "      <td>19079</td>\n",
       "      <td>2</td>\n",
       "      <td>7bit</td>\n",
       "      <td>18363</td>\n",
       "    </tr>\n",
       "    <tr>\n",
       "      <th>content-type</th>\n",
       "      <td>19079</td>\n",
       "      <td>2</td>\n",
       "      <td>text/plain; charset=\"us-ascii\"</td>\n",
       "      <td>17818</td>\n",
       "    </tr>\n",
       "    <tr>\n",
       "      <th>date</th>\n",
       "      <td>19088</td>\n",
       "      <td>18173</td>\n",
       "      <td>Wed, 13 Dec 2000 04:41:00 -0800</td>\n",
       "      <td>5</td>\n",
       "    </tr>\n",
       "    <tr>\n",
       "      <th>file</th>\n",
       "      <td>19089</td>\n",
       "      <td>19089</td>\n",
       "      <td>/Users/phrc/Documents/Projects/pythonProject/S...</td>\n",
       "      <td>1</td>\n",
       "    </tr>\n",
       "    <tr>\n",
       "      <th>from</th>\n",
       "      <td>19088</td>\n",
       "      <td>2349</td>\n",
       "      <td>pete.davis@enron.com</td>\n",
       "      <td>1395</td>\n",
       "    </tr>\n",
       "    <tr>\n",
       "      <th>message-id</th>\n",
       "      <td>19088</td>\n",
       "      <td>19088</td>\n",
       "      <td>&lt;19755470.1075840934613.JavaMail.evans@thyme&gt;</td>\n",
       "      <td>1</td>\n",
       "    </tr>\n",
       "    <tr>\n",
       "      <th>messageStr</th>\n",
       "      <td>19079</td>\n",
       "      <td>18401</td>\n",
       "      <td>\\n\\nTammie Schoppe\\nEnron Americas-Office of ...</td>\n",
       "      <td>5</td>\n",
       "    </tr>\n",
       "    <tr>\n",
       "      <th>messageType</th>\n",
       "      <td>19080</td>\n",
       "      <td>1</td>\n",
       "      <td>text/plain</td>\n",
       "      <td>19080</td>\n",
       "    </tr>\n",
       "    <tr>\n",
       "      <th>mime-version</th>\n",
       "      <td>19079</td>\n",
       "      <td>1</td>\n",
       "      <td>1.0</td>\n",
       "      <td>19079</td>\n",
       "    </tr>\n",
       "    <tr>\n",
       "      <th>subject</th>\n",
       "      <td>19084</td>\n",
       "      <td>14679</td>\n",
       "      <td>Schedule Crawler: HourAhead Failure</td>\n",
       "      <td>343</td>\n",
       "    </tr>\n",
       "    <tr>\n",
       "      <th>to</th>\n",
       "      <td>18417</td>\n",
       "      <td>5449</td>\n",
       "      <td>louise.kitchen@enron.com</td>\n",
       "      <td>1929</td>\n",
       "    </tr>\n",
       "    <tr>\n",
       "      <th>x-bcc</th>\n",
       "      <td>19079</td>\n",
       "      <td>7</td>\n",
       "      <td></td>\n",
       "      <td>19073</td>\n",
       "    </tr>\n",
       "    <tr>\n",
       "      <th>x-cc</th>\n",
       "      <td>19079</td>\n",
       "      <td>4106</td>\n",
       "      <td></td>\n",
       "      <td>10603</td>\n",
       "    </tr>\n",
       "    <tr>\n",
       "      <th>x-filename</th>\n",
       "      <td>19079</td>\n",
       "      <td>20</td>\n",
       "      <td>vkamins.nsf</td>\n",
       "      <td>4056</td>\n",
       "    </tr>\n",
       "    <tr>\n",
       "      <th>x-from</th>\n",
       "      <td>19079</td>\n",
       "      <td>3187</td>\n",
       "      <td>Davis, Pete &lt;/O=ENRON/OU=NA/CN=RECIPIENTS/CN=P...</td>\n",
       "      <td>1392</td>\n",
       "    </tr>\n",
       "    <tr>\n",
       "      <th>x-origin</th>\n",
       "      <td>19079</td>\n",
       "      <td>12</td>\n",
       "      <td>Kaminski-V</td>\n",
       "      <td>4065</td>\n",
       "    </tr>\n",
       "    <tr>\n",
       "      <th>x-to</th>\n",
       "      <td>19079</td>\n",
       "      <td>6400</td>\n",
       "      <td>Davis, Pete &lt;/O=ENRON/OU=NA/CN=RECIPIENTS/CN=P...</td>\n",
       "      <td>1392</td>\n",
       "    </tr>\n",
       "  </tbody>\n",
       "</table>\n",
       "</div>"
      ],
      "text/plain": [
       "                           count unique  \\\n",
       "content-transfer-encoding  19079      2   \n",
       "content-type               19079      2   \n",
       "date                       19088  18173   \n",
       "file                       19089  19089   \n",
       "from                       19088   2349   \n",
       "message-id                 19088  19088   \n",
       "messageStr                 19079  18401   \n",
       "messageType                19080      1   \n",
       "mime-version               19079      1   \n",
       "subject                    19084  14679   \n",
       "to                         18417   5449   \n",
       "x-bcc                      19079      7   \n",
       "x-cc                       19079   4106   \n",
       "x-filename                 19079     20   \n",
       "x-from                     19079   3187   \n",
       "x-origin                   19079     12   \n",
       "x-to                       19079   6400   \n",
       "\n",
       "                                                                         top  \\\n",
       "content-transfer-encoding                                               7bit   \n",
       "content-type                                  text/plain; charset=\"us-ascii\"   \n",
       "date                                         Wed, 13 Dec 2000 04:41:00 -0800   \n",
       "file                       /Users/phrc/Documents/Projects/pythonProject/S...   \n",
       "from                                                    pete.davis@enron.com   \n",
       "message-id                     <19755470.1075840934613.JavaMail.evans@thyme>   \n",
       "messageStr                  \\n\\nTammie Schoppe\\nEnron Americas-Office of ...   \n",
       "messageType                                                       text/plain   \n",
       "mime-version                                                             1.0   \n",
       "subject                                  Schedule Crawler: HourAhead Failure   \n",
       "to                                                  louise.kitchen@enron.com   \n",
       "x-bcc                                                                          \n",
       "x-cc                                                                           \n",
       "x-filename                                                       vkamins.nsf   \n",
       "x-from                     Davis, Pete </O=ENRON/OU=NA/CN=RECIPIENTS/CN=P...   \n",
       "x-origin                                                          Kaminski-V   \n",
       "x-to                       Davis, Pete </O=ENRON/OU=NA/CN=RECIPIENTS/CN=P...   \n",
       "\n",
       "                            freq  \n",
       "content-transfer-encoding  18363  \n",
       "content-type               17818  \n",
       "date                           5  \n",
       "file                           1  \n",
       "from                        1395  \n",
       "message-id                     1  \n",
       "messageStr                     5  \n",
       "messageType                19080  \n",
       "mime-version               19079  \n",
       "subject                      343  \n",
       "to                          1929  \n",
       "x-bcc                      19073  \n",
       "x-cc                       10603  \n",
       "x-filename                  4056  \n",
       "x-from                      1392  \n",
       "x-origin                    4065  \n",
       "x-to                        1392  "
      ]
     },
     "execution_count": 7,
     "metadata": {},
     "output_type": "execute_result"
    }
   ],
   "source": [
    "dfHamDesc = dfHam.describe(include=['object']).T\n",
    "n = len(dfHam) * 0.75 \n",
    "dfHamDesc[dfHamDesc['count']> 15000].head(300)"
   ]
  },
  {
   "cell_type": "markdown",
   "metadata": {},
   "source": [
    "### Removing unnescessary columns"
   ]
  },
  {
   "cell_type": "code",
   "execution_count": 8,
   "metadata": {},
   "outputs": [],
   "source": [
    "dfSpam = dfSpam[['content-type', 'date', 'from', 'messageStr', 'messageType', 'subject', 'to', 'parseError', 'file']]\n",
    "dfHam = dfHam[['content-type', 'date', 'from', 'messageStr', 'messageType', 'subject', 'to', 'parseError', 'file']]\n"
   ]
  },
  {
   "cell_type": "markdown",
   "metadata": {},
   "source": [
    "### Emails with Parser Error "
   ]
  },
  {
   "cell_type": "code",
   "execution_count": 9,
   "metadata": {},
   "outputs": [
    {
     "data": {
      "image/png": "[encoded data removed]",
      "text/plain": [
       "<Figure size 432x288 with 1 Axes>"
      ]
     },
     "metadata": {
      "needs_background": "light"
     },
     "output_type": "display_data"
    }
   ],
   "source": [
    "dfHamP = dfHam[dfHam['parseError'] == True]\n",
    "dfSpamP = dfSpam[dfSpam['parseError'] == True]\n",
    "hamFreq = (len(dfHamP) * 100 / len(dfHam))\n",
    "spamFreq = (len(dfSpamP) * 100 / len(dfSpam))\n",
    "plt.bar(np.arange(2), (hamFreq, spamFreq), align='center')\n",
    "plt.xticks(np.arange(2), ('Ham \\n{0:.2}%'.format(hamFreq), 'Spam \\n{0:.2}%'.format(spamFreq)))\n",
    "\n",
    "plt.show();"
   ]
  },
  {
   "cell_type": "markdown",
   "metadata": {},
   "source": [
    "### Removing emails with parser problems "
   ]
  },
  {
   "cell_type": "code",
   "execution_count": 10,
   "metadata": {},
   "outputs": [],
   "source": [
    "dfSpam = dfSpam[dfSpam['parseError'] == False]\n",
    "dfHam = dfHam[dfHam['parseError'] == False]\n",
    "\n",
    "del dfHam['parseError']\n",
    "del dfSpam['parseError']"
   ]
  },
  {
   "cell_type": "markdown",
   "metadata": {},
   "source": [
    "### Join datasets"
   ]
  },
  {
   "cell_type": "code",
   "execution_count": 11,
   "metadata": {},
   "outputs": [
    {
     "name": "stdout",
     "output_type": "stream",
     "text": [
      "['content-type' 'date' 'from' 'messageStr' 'messageType' 'subject' 'to'\n",
      " 'file' 'isSpam']\n",
      "['content-type' 'date' 'from' 'messageStr' 'messageType' 'subject' 'to'\n",
      " 'file' 'isSpam']\n",
      "50828\n"
     ]
    },
    {
     "data": {
      "text/html": [
       "<div>\n",
       "<style scoped>\n",
       "    .dataframe tbody tr th:only-of-type {\n",
       "        vertical-align: middle;\n",
       "    }\n",
       "\n",
       "    .dataframe tbody tr th {\n",
       "        vertical-align: top;\n",
       "    }\n",
       "\n",
       "    .dataframe thead th {\n",
       "        text-align: right;\n",
       "    }\n",
       "</style>\n",
       "<table border=\"1\" class=\"dataframe\">\n",
       "  <thead>\n",
       "    <tr style=\"text-align: right;\">\n",
       "      <th></th>\n",
       "      <th>content-type</th>\n",
       "      <th>date</th>\n",
       "      <th>from</th>\n",
       "      <th>messageStr</th>\n",
       "      <th>messageType</th>\n",
       "      <th>subject</th>\n",
       "      <th>to</th>\n",
       "      <th>file</th>\n",
       "      <th>isSpam</th>\n",
       "    </tr>\n",
       "  </thead>\n",
       "  <tbody>\n",
       "    <tr>\n",
       "      <th>0</th>\n",
       "      <td>multipart/alternative; boundary=\"=_NextPart_2r...</td>\n",
       "      <td>Fri, 01 Jul 2005 19:26:06 -0500</td>\n",
       "      <td>Computer Shopping Network &lt;csn@qzmail.info&gt;</td>\n",
       "      <td>Content-Type: text/html\\nContent-Transfer-Enco...</td>\n",
       "      <td>multipart/alternative</td>\n",
       "      <td>1000's of Computer Products on Sale Now!</td>\n",
       "      <td>projecthoneypot@projecthoneypot.org</td>\n",
       "      <td>/Users/phrc/Documents/Projects/pythonProject/S...</td>\n",
       "      <td>True</td>\n",
       "    </tr>\n",
       "    <tr>\n",
       "      <th>1</th>\n",
       "      <td>multipart/alternative; boundary=\"----=_NextPar...</td>\n",
       "      <td>Fri, 01 Jul 2005 05:18:08 +0000</td>\n",
       "      <td>Josefa &lt;ian@tesco.net&gt;</td>\n",
       "      <td>Content-Type: text/html;\\n\\tcharset=\"us-ascii\"...</td>\n",
       "      <td>multipart/alternative</td>\n",
       "      <td>You want to submit your website to search engi...</td>\n",
       "      <td>projecthoneypot@projecthoneypot.org</td>\n",
       "      <td>/Users/phrc/Documents/Projects/pythonProject/S...</td>\n",
       "      <td>True</td>\n",
       "    </tr>\n",
       "    <tr>\n",
       "      <th>3</th>\n",
       "      <td>multipart/alternative; boundary=\"=====43578403...</td>\n",
       "      <td>Tue, 19 Jan 2038 11:14:07 +0800</td>\n",
       "      <td>\"888xyz (�P�饻�s�u�P�B�o��A��s�F��!!!)\" &lt;mymjwl...</td>\n",
       "      <td>Content-Type: text/html; charset=ISO-8859-1\\nC...</td>\n",
       "      <td>multipart/alternative</td>\n",
       "      <td>[�۩�]�ӨӨ�..19���饻�֤k���T�۩�~�ӭ�ӭ�~^^(3P)</td>\n",
       "      <td>projecthoneypot@projecthoneypot.org</td>\n",
       "      <td>/Users/phrc/Documents/Projects/pythonProject/S...</td>\n",
       "      <td>True</td>\n",
       "    </tr>\n",
       "    <tr>\n",
       "      <th>4</th>\n",
       "      <td>text/html</td>\n",
       "      <td>Sun, 03 Jul 2005 09:14:20 +0300</td>\n",
       "      <td>support@southtrust.com</td>\n",
       "      <td>Received: from images.superonline.com (HELO po...</td>\n",
       "      <td>text/html</td>\n",
       "      <td>Please Restore Your Account Access</td>\n",
       "      <td>projecthoneypot@projecthoneypot.org</td>\n",
       "      <td>/Users/phrc/Documents/Projects/pythonProject/S...</td>\n",
       "      <td>True</td>\n",
       "    </tr>\n",
       "    <tr>\n",
       "      <th>5</th>\n",
       "      <td>text/plain; charset=\"US-ASCII\"; format=\"flowed\"</td>\n",
       "      <td>Tue, 28 Jun 2005 01:39:07 -0600</td>\n",
       "      <td>Vivien &lt;aggravated@tradewear.com&gt;</td>\n",
       "      <td>Now you can improve your sexual life!\\nhttp://...</td>\n",
       "      <td>text/plain</td>\n",
       "      <td>Best Deals on all Generic Viagra and Generic C...</td>\n",
       "      <td>projecthoneypot@projecthoneypot.org</td>\n",
       "      <td>/Users/phrc/Documents/Projects/pythonProject/S...</td>\n",
       "      <td>True</td>\n",
       "    </tr>\n",
       "  </tbody>\n",
       "</table>\n",
       "</div>"
      ],
      "text/plain": [
       "                                        content-type  \\\n",
       "0  multipart/alternative; boundary=\"=_NextPart_2r...   \n",
       "1  multipart/alternative; boundary=\"----=_NextPar...   \n",
       "3  multipart/alternative; boundary=\"=====43578403...   \n",
       "4                                          text/html   \n",
       "5    text/plain; charset=\"US-ASCII\"; format=\"flowed\"   \n",
       "\n",
       "                              date  \\\n",
       "0  Fri, 01 Jul 2005 19:26:06 -0500   \n",
       "1  Fri, 01 Jul 2005 05:18:08 +0000   \n",
       "3  Tue, 19 Jan 2038 11:14:07 +0800   \n",
       "4  Sun, 03 Jul 2005 09:14:20 +0300   \n",
       "5  Tue, 28 Jun 2005 01:39:07 -0600   \n",
       "\n",
       "                                                from  \\\n",
       "0        Computer Shopping Network <csn@qzmail.info>   \n",
       "1                             Josefa <ian@tesco.net>   \n",
       "3  \"888xyz (�P�饻�s�u�P�B�o��A��s�F��!!!)\" <mymjwl...   \n",
       "4                             support@southtrust.com   \n",
       "5                  Vivien <aggravated@tradewear.com>   \n",
       "\n",
       "                                          messageStr            messageType  \\\n",
       "0  Content-Type: text/html\\nContent-Transfer-Enco...  multipart/alternative   \n",
       "1  Content-Type: text/html;\\n\\tcharset=\"us-ascii\"...  multipart/alternative   \n",
       "3  Content-Type: text/html; charset=ISO-8859-1\\nC...  multipart/alternative   \n",
       "4  Received: from images.superonline.com (HELO po...              text/html   \n",
       "5  Now you can improve your sexual life!\\nhttp://...             text/plain   \n",
       "\n",
       "                                             subject  \\\n",
       "0           1000's of Computer Products on Sale Now!   \n",
       "1  You want to submit your website to search engi...   \n",
       "3           [�۩�]�ӨӨ�..19���饻�֤k���T�۩�~�ӭ�ӭ�~^^(3P)   \n",
       "4                 Please Restore Your Account Access   \n",
       "5  Best Deals on all Generic Viagra and Generic C...   \n",
       "\n",
       "                                    to  \\\n",
       "0  projecthoneypot@projecthoneypot.org   \n",
       "1  projecthoneypot@projecthoneypot.org   \n",
       "3  projecthoneypot@projecthoneypot.org   \n",
       "4  projecthoneypot@projecthoneypot.org   \n",
       "5  projecthoneypot@projecthoneypot.org   \n",
       "\n",
       "                                                file  isSpam  \n",
       "0  /Users/phrc/Documents/Projects/pythonProject/S...    True  \n",
       "1  /Users/phrc/Documents/Projects/pythonProject/S...    True  \n",
       "3  /Users/phrc/Documents/Projects/pythonProject/S...    True  \n",
       "4  /Users/phrc/Documents/Projects/pythonProject/S...    True  \n",
       "5  /Users/phrc/Documents/Projects/pythonProject/S...    True  "
      ]
     },
     "execution_count": 11,
     "metadata": {},
     "output_type": "execute_result"
    }
   ],
   "source": [
    "dfSpam['isSpam'] = True\n",
    "dfHam['isSpam'] = False\n",
    "\n",
    "print(dfHam.columns.values)\n",
    "print(dfSpam.columns.values)\n",
    "\n",
    "dfMaster = pd.concat([dfSpam, dfHam])\n",
    "print(len(dfMaster))\n",
    "dfMaster.head()"
   ]
  },
  {
   "cell_type": "markdown",
   "metadata": {},
   "source": [
    "### Check email message and email type "
   ]
  },
  {
   "cell_type": "code",
   "execution_count": 12,
   "metadata": {},
   "outputs": [
    {
     "data": {
      "image/png": "[encoded data removed]",
      "text/plain": [
       "<Figure size 1152x864 with 3 Axes>"
      ]
     },
     "metadata": {
      "needs_background": "light"
     },
     "output_type": "display_data"
    }
   ],
   "source": [
    "fig = plt.figure(figsize = (16,12))\n",
    "grid = plt.GridSpec(2,4, wspace =0.3, hspace =0.5)\n",
    "barAll = fig.add_subplot(grid[0,0:3])\n",
    "barNonNull = fig.add_subplot(grid[1,0:3])\n",
    "barNull = fig.add_subplot(grid[0:2,3])\n",
    "\n",
    "barAll.bar(\n",
    "    dfMaster['messageType'].unique(), \n",
    "    dfMaster['messageType'].value_counts(), \n",
    "    align='center'\n",
    ")\n",
    "barAll.set_title('All emails')\n",
    "\n",
    "barNonNull.bar(\n",
    "    dfMaster[dfMaster['messageStr'].notnull()]['messageType'].unique(), \n",
    "    dfMaster[dfMaster['messageStr'].notnull()]['messageType'].value_counts(), \n",
    "    align='center'\n",
    ")\n",
    "\n",
    "barNonNull.set_title('Non null meassages')\n",
    "\n",
    "barNull.bar(\n",
    "    dfMaster[dfMaster['messageStr'].isnull()]['messageType'].unique(), \n",
    "    dfMaster[dfMaster['messageStr'].isnull()]['messageType'].value_counts(), \n",
    "    align='center'\n",
    ")\n",
    "\n",
    "barNull.set_title('Null meassages')\n",
    "\n",
    "fig.text(0.5, 0.04, 'Email Type', ha='center', fontsize=15)\n",
    "fig.text(0.04, 0.5, 'Emails', va='center', rotation='vertical', fontsize=15)\n",
    "\n",
    "plt.show()"
   ]
  },
  {
   "cell_type": "markdown",
   "metadata": {},
   "source": [
    "### Null messages proportions"
   ]
  },
  {
   "cell_type": "code",
   "execution_count": 13,
   "metadata": {},
   "outputs": [
    {
     "data": {
      "text/plain": [
       "([<matplotlib.patches.Wedge at 0x1a46d76be0>,\n",
       "  <matplotlib.patches.Wedge at 0x1a82ed80f0>],\n",
       " [Text(-1.1917347975584003, 0.1405993324608573, 'Non Null'),\n",
       "  Text(1.1917347876855027, -0.1405994161445556, 'Null')],\n",
       " [Text(-0.49655616564933347, 0.05858305519202387, '96%'),\n",
       "  Text(0.4965561615356261, -0.0585830900602315, '4%')])"
      ]
     },
     "execution_count": 13,
     "metadata": {},
     "output_type": "execute_result"
    },
    {
     "data": {
      "image/png": "[encoded data removed]",
      "text/plain": [
       "<Figure size 432x288 with 1 Axes>"
      ]
     },
     "metadata": {},
     "output_type": "display_data"
    }
   ],
   "source": [
    "plt.pie([len(dfMaster[dfMaster['messageStr'].notnull()]), len(dfMaster[dfMaster['messageStr'].isnull()])], \n",
    "        labels=['Non Null', 'Null'], autopct='%1.0f%%', pctdistance=0.5, labeldistance=1.2)\n"
   ]
  },
  {
   "cell_type": "markdown",
   "metadata": {},
   "source": [
    "### Remove null messages "
   ]
  },
  {
   "cell_type": "code",
   "execution_count": 14,
   "metadata": {},
   "outputs": [
    {
     "name": "stdout",
     "output_type": "stream",
     "text": [
      "0\n"
     ]
    }
   ],
   "source": [
    "dfMaster = dfMaster[dfMaster['messageStr'].notnull()]\n",
    "print(len(dfMaster[dfMaster['messageStr'].isnull()]))"
   ]
  },
  {
   "cell_type": "markdown",
   "metadata": {},
   "source": [
    "### Remove HTML tags from the messages "
   ]
  },
  {
   "cell_type": "code",
   "execution_count": 127,
   "metadata": {},
   "outputs": [],
   "source": [
    "dfMaster['treatedMessage'] = dfMaster['messageStr'].apply(emailTextCleanner)"
   ]
  },
  {
   "cell_type": "code",
   "execution_count": null,
   "metadata": {},
   "outputs": [],
   "source": [
    "dfMaster.describe(include=['object']).T.head(100)"
   ]
  },
  {
   "cell_type": "code",
   "execution_count": null,
   "metadata": {},
   "outputs": [],
   "source": [
    "dfTemp = dfMaster[dfMaster['messageType'].str.contains('multipart')]\n",
    "len(dfTemp)\n"
   ]
  },
  {
   "cell_type": "code",
   "execution_count": null,
   "metadata": {},
   "outputs": [],
   "source": [
    "dfTemp.head(30)"
   ]
  },
  {
   "cell_type": "markdown",
   "metadata": {},
   "source": [
    "## Preparing the dataset"
   ]
  },
  {
   "cell_type": "code",
   "execution_count": null,
   "metadata": {},
   "outputs": [],
   "source": [
    "#Remove Stop Words\n",
    "stop = text.ENGLISH_STOP_WORDS\n",
    "pat = r'\\b(?:{})\\b'.format('|'.join(stop))\n",
    "dfMaster['treatedMessage'] = dfMaster['treatedMessage'].str.replace(pat, '')\n",
    "\n",
    "#Create a column with list of words\n",
    "dfMaster['wordsList'] = dfMaster['treatedMessage'].str.split().apply(lemmatizeList).apply(revomeWordsWithOneCharacter).apply(removeDigits)\n",
    "\n",
    "\n",
    "\n",
    "#Create a columns to calculate the total amount of words\n",
    "dfMaster['totalTreatedWords'] = dfMaster['wordsList'].apply(lambda x : len(x))\n",
    "dfMaster['treatedTextLen'] = dfMaster['treatedMessage'].apply(lambda x : len(x))\n",
    "dfMaster['textLen'] = dfMaster['messageStr'].apply(lambda x : len(str(x)))\n",
    "dfMaster['uniqueWordsLen'] = dfMaster['wordsList'].apply(lambda x : len(set(x)))\n",
    "\n",
    "dfMaster.head()"
   ]
  },
  {
   "cell_type": "markdown",
   "metadata": {},
   "source": [
    "## Visualisation"
   ]
  },
  {
   "cell_type": "markdown",
   "metadata": {},
   "source": [
    "### Dataset distribution by spam type"
   ]
  },
  {
   "cell_type": "code",
   "execution_count": null,
   "metadata": {},
   "outputs": [],
   "source": [
    "df = dfMaster\n",
    "\n",
    "print(df['isSpam'].value_counts().rename({False: 'Ham', True: 'Spam'}))\n",
    "\n",
    "\n",
    "fig = plt.figure(figsize = (18,6))\n",
    "grid = plt.GridSpec(1,2, wspace =0.1)\n",
    "barPlt = fig.add_subplot(grid[0,0])\n",
    "piePlt = fig.add_subplot(grid[0,1])\n",
    "\n",
    "\n",
    "barPlt.bar(\n",
    "    ('Spam', 'Ham'), \n",
    "    [len(df[df['isSpam'] == True]), len(df[df['isSpam'] == False])], \n",
    "    align='center')\n",
    "barPlt.set_xticks(np.arange(2), ['Spam', 'Ham'])\n",
    "\n",
    "\n",
    "piePlt.pie(df['isSpam'].value_counts(), labels=['Spam', 'Ham'], autopct='%1.0f%%', pctdistance=0.5, labeldistance=1.2)\n",
    "\n",
    "\n",
    "plt.show()"
   ]
  },
  {
   "cell_type": "markdown",
   "metadata": {},
   "source": [
    "### Compare text lenght for ham and spam  "
   ]
  },
  {
   "cell_type": "markdown",
   "metadata": {},
   "source": [
    "There is 4 differents attributes what define the text lengh:\n",
    "\n",
    "- textLen : This is the raw text without any treatment\n",
    "- treatedTextLen: This is the text after removing the stop words and ponctuation\n",
    "- totalTreatedWords: This is the amount of words used in the text after the treatment, basically this exclude space and line breaks\n",
    "- uniqueWordsLen: This is the amount of unique words used in the treated text, basically it removes repited words"
   ]
  },
  {
   "cell_type": "markdown",
   "metadata": {},
   "source": [
    "### Raw Text size lengh comparison  "
   ]
  },
  {
   "cell_type": "code",
   "execution_count": null,
   "metadata": {},
   "outputs": [],
   "source": [
    "fig = plt.figure(figsize = (18,6))\n",
    "grid = plt.GridSpec(1,4, wspace =0.8)\n",
    "histPlt = fig.add_subplot(grid[0,0:2])\n",
    "boxPlt1 = fig.add_subplot(grid[0,2])\n",
    "boxPlt2 = fig.add_subplot(grid[0,3])\n",
    "\n",
    "histPlt.hist(\n",
    "    [\n",
    "        df[df['isSpam'] == True]['textLen'], \n",
    "        df[df['isSpam'] == False]['textLen']\n",
    "    ], \n",
    "    np.linspace(0, df['textLen'].quantile(0.75), 30), \n",
    "    density = True, \n",
    "    label=['Spam', 'Ham']\n",
    ") \n",
    "histPlt.legend(loc='upper right')\n",
    "\n",
    "boxPlt1.boxplot(\n",
    "    (\n",
    "         df[df['isSpam'] == True]['textLen'], \n",
    "         df[df['isSpam'] == False]['textLen'] \n",
    "    ), \n",
    "    labels = ('Spam', 'Ham')\n",
    ")\n",
    "\n",
    "boxPlt2.boxplot(\n",
    "    (\n",
    "        df[(df['isSpam'] == True) & (df['textLen'] < df['textLen'].quantile(0.75))]['textLen'], \n",
    "        df[(df['isSpam'] == False) & (df['textLen'] < df['textLen'].quantile(0.75))]['textLen'] \n",
    "    ), \n",
    "    labels = ('Spam', 'Ham')\n",
    ")\n",
    "\n",
    "plt.show()"
   ]
  },
  {
   "cell_type": "markdown",
   "metadata": {},
   "source": [
    "### Text size without stop words and punctuation "
   ]
  },
  {
   "cell_type": "code",
   "execution_count": null,
   "metadata": {},
   "outputs": [],
   "source": [
    "fig = plt.figure(figsize = (18,6))\n",
    "grid = plt.GridSpec(1,4, wspace =0.8)\n",
    "histPlt = fig.add_subplot(grid[0,0:2])\n",
    "boxPlt1 = fig.add_subplot(grid[0,2])\n",
    "boxPlt2 = fig.add_subplot(grid[0,3])\n",
    "\n",
    "histPlt.hist(\n",
    "    [\n",
    "        df[df['isSpam'] == True]['treatedTextLen'], \n",
    "        df[df['isSpam'] == False]['treatedTextLen']\n",
    "    ],  \n",
    "    np.linspace(0, df['treatedTextLen'].quantile(0.75), 30),\n",
    "    density= True,\n",
    "    label=['Spam', 'Ham']\n",
    ") \n",
    "histPlt.legend(loc='upper right')\n",
    "\n",
    "boxPlt1.boxplot(\n",
    "    (\n",
    "        df[df['isSpam'] == True]['treatedTextLen'], \n",
    "        df[df['isSpam'] == False]['treatedTextLen'] ), \n",
    "    labels = ('Spam', 'Ham')\n",
    ")\n",
    "\n",
    "boxPlt2.boxplot(\n",
    "    (\n",
    "        df[(df['isSpam'] == True) & (df['treatedTextLen'] < df['treatedTextLen'].quantile(0.75))]['treatedTextLen'], \n",
    "        df[(df['isSpam'] == False) & (df['treatedTextLen'] < df['treatedTextLen'].quantile(0.75))]['treatedTextLen'] \n",
    "    ), \n",
    "    labels = ('Spam', 'Ham')\n",
    ")\n",
    "\n",
    "plt.show()\n",
    "\n"
   ]
  },
  {
   "cell_type": "markdown",
   "metadata": {},
   "source": [
    "### Total words used"
   ]
  },
  {
   "cell_type": "code",
   "execution_count": null,
   "metadata": {},
   "outputs": [],
   "source": [
    "fig = plt.figure(figsize = (18,6))\n",
    "grid = plt.GridSpec(1,4, wspace =0.8)\n",
    "histPlt = fig.add_subplot(grid[0,0:2])\n",
    "boxPlt1 = fig.add_subplot(grid[0,2])\n",
    "boxPlt2 = fig.add_subplot(grid[0,3])\n",
    "\n",
    "histPlt.hist(\n",
    "    [\n",
    "        df[df['isSpam'] == True]['totalTreatedWords'], \n",
    "        df[df['isSpam'] == False]['totalTreatedWords']\n",
    "    ],  \n",
    "    np.linspace(0, df['totalTreatedWords'].quantile(0.75), 30),\n",
    "    density= True,\n",
    "    label=['Spam', 'Ham']\n",
    ") \n",
    "histPlt.legend(loc='upper right')\n",
    "\n",
    "boxPlt1.boxplot(\n",
    "    (\n",
    "        df[df['isSpam'] == True]['totalTreatedWords'], \n",
    "        df[df['isSpam'] == False]['totalTreatedWords'] \n",
    "    ), \n",
    "    labels = ('Spam', 'Ham')\n",
    ")\n",
    "\n",
    "boxPlt2.boxplot(\n",
    "    (\n",
    "        df[(df['isSpam'] == True) & (df['totalTreatedWords'] < df['totalTreatedWords'].quantile(0.75))]['totalTreatedWords'], \n",
    "        df[(df['isSpam'] == False) & (df['totalTreatedWords'] < df['totalTreatedWords'].quantile(0.75))]['totalTreatedWords'] \n",
    "    ), \n",
    "    labels = ('Spam', 'Ham')\n",
    ")\n",
    "\n",
    "plt.show()\n"
   ]
  },
  {
   "cell_type": "markdown",
   "metadata": {},
   "source": [
    "### Total unique words used"
   ]
  },
  {
   "cell_type": "code",
   "execution_count": null,
   "metadata": {
    "scrolled": true
   },
   "outputs": [],
   "source": [
    "fig = plt.figure(figsize = (18,6))\n",
    "grid = plt.GridSpec(1,4, wspace =0.8)\n",
    "histPlt = fig.add_subplot(grid[0,0:2])\n",
    "boxPlt1 = fig.add_subplot(grid[0,2])\n",
    "boxPlt2 = fig.add_subplot(grid[0,3])\n",
    "\n",
    "histPlt.hist(\n",
    "    [\n",
    "        df[df['isSpam'] == True]['uniqueWordsLen'], \n",
    "        df[df['isSpam'] == False]['uniqueWordsLen']\n",
    "    ],  \n",
    "    np.linspace(0, df['uniqueWordsLen'].quantile(0.75), 30),\n",
    "    density= True,\n",
    "    label=['Spam', 'Ham']\n",
    ") \n",
    "histPlt.legend(loc='upper right')\n",
    "\n",
    "boxPlt1.boxplot(\n",
    "    (\n",
    "        df[df['isSpam'] == True]['uniqueWordsLen'], \n",
    "        df[df['isSpam'] == False]['uniqueWordsLen'] \n",
    "    ), \n",
    "    labels = ('Spam', 'Ham')\n",
    ")\n",
    "\n",
    "boxPlt2.boxplot(\n",
    "    (\n",
    "        df[(df['isSpam'] == True) & (df['uniqueWordsLen'] < df['uniqueWordsLen'].quantile(0.75))]['uniqueWordsLen'], \n",
    "        df[(df['isSpam'] == False) & (df['uniqueWordsLen'] < df['uniqueWordsLen'].quantile(0.75))]['uniqueWordsLen'] \n",
    "    ), \n",
    "    labels = ('Spam', 'Ham')\n",
    ")\n",
    "\n",
    "plt.show()\n"
   ]
  },
  {
   "cell_type": "markdown",
   "metadata": {},
   "source": [
    "### Conclusion\n",
    "\n",
    "# Need to do \n",
    "\n",
    "----It's not clear the text size can influence into the classification of the email in spam or ham.\n",
    "\n"
   ]
  },
  {
   "cell_type": "markdown",
   "metadata": {},
   "source": [
    "## Words Visualization"
   ]
  },
  {
   "cell_type": "markdown",
   "metadata": {},
   "source": [
    "### Total uniques words"
   ]
  },
  {
   "cell_type": "code",
   "execution_count": null,
   "metadata": {},
   "outputs": [],
   "source": [
    "count = Counter(list(chain(*df[\"wordsList\"].values)))\n",
    "\n",
    "countSpam = Counter(list(chain(*df[df['isSpam'] == True][\"wordsList\"].values)))\n",
    "\n",
    "countHam = Counter(list(chain(*df[df['isSpam'] == False][\"wordsList\"].values)))\n",
    "\n",
    "fig = plt.figure(figsize = (18,6))\n",
    "grid = plt.GridSpec(1,2, wspace =0.2)\n",
    "pltBar = fig.add_subplot(grid[0,0])\n",
    "pltText = fig.add_subplot(grid[0,1])\n",
    "\n",
    "\n",
    "pltBar.bar(\n",
    "    ['Total unique words', 'Spam unique words', 'Ham unique words'], \n",
    "    [len(count), len(countSpam), len(countHam)], \n",
    "    align='center'\n",
    ")\n",
    "\n",
    "textWords = ['Total unique words:              {}'.format(len(count)), \n",
    "             'Total spam unique words:    {}'.format(len(countSpam)), \n",
    "             'Total ham unique words:      {}'.format(len(countHam))]\n",
    "\n",
    "\n",
    "pltText.text(x=0, y=0.5, s = '\\n'.join(textWords), fontsize = 18) \n",
    "pltText.axis('off')\n",
    "plt.show()"
   ]
  },
  {
   "cell_type": "code",
   "execution_count": null,
   "metadata": {},
   "outputs": [],
   "source": [
    "countSpam"
   ]
  },
  {
   "cell_type": "markdown",
   "metadata": {},
   "source": [
    "### 20 Most common words"
   ]
  },
  {
   "cell_type": "code",
   "execution_count": null,
   "metadata": {},
   "outputs": [],
   "source": [
    "dfWords = pd.DataFrame(list(dict(count).items()))\n",
    "dfWords.columns = ['word', 'occur'] \n",
    "totalOcurr = dfWords['occur'].sum()\n",
    "dfWords['freq'] = dfWords['occur'] / totalOcurr  \n",
    "dfWords = dfWords.sort_values(by='freq', ascending=False)\n",
    "dfWords = dfWords.reset_index(drop=True)\n",
    "dfWords['freqAcum'] = dfWords['freq'].cumsum()\n",
    "\n",
    "\n",
    "fig = plt.figure(figsize = (18,12))\n",
    "grid = plt.GridSpec(4,2, wspace =0.2, hspace = 0.5)\n",
    "pltLine = fig.add_subplot(grid[0:2,0])\n",
    "pltBar = fig.add_subplot(grid[2:4,0:2])\n",
    "pltTable = fig.add_subplot(grid[0:2,1])\n",
    "\n",
    "pltLine.plot(dfWords['freqAcum'], range(len(dfWords)))\n",
    "pltLine.set_ylabel('Number of Words')\n",
    "pltLine.set_xlabel('Acumulative Frequence')\n",
    "pltLine.set_title('Line Graph of acumulative frequence')\n",
    "pltLine.grid(True)\n",
    "\n",
    "\n",
    "dfTWord = dfWords.loc[[0,20,50,100,500,1000,5000,10000,15000]][['freqAcum']]\n",
    "\n",
    "pltTable.table(cellText=dfTWord.values, rowLabels= dfTWord.index, colLabels = dfTWord.columns, loc='best')\n",
    "pltTable.axis('off')\n",
    "pltTable.set_title('Table of acumulative frequence')\n",
    "\n",
    "\n",
    "\n",
    "pltBar.bar(dfWords.head(20)['word'], dfWords.head(20)['freq'])\n",
    "pltBar.set_title('20 Most Used word')\n",
    "\n",
    "yPos = np.arange(20)\n",
    "pltBar.set_xticklabels(dfWords.head(20)[\"word\"], rotation=60)\n",
    "pltBar.set_xticks(yPos)\n",
    "\n",
    "\n",
    "plt.show()\n",
    "\n"
   ]
  },
  {
   "cell_type": "markdown",
   "metadata": {},
   "source": [
    "### 20 Most common words on Spam emails"
   ]
  },
  {
   "cell_type": "code",
   "execution_count": null,
   "metadata": {},
   "outputs": [],
   "source": [
    "dfSpamWords = pd.DataFrame(list(dict(countSpam).items()))\n",
    "dfSpamWords.columns = ['word', 'occur'] \n",
    "totalSpamOcurr = dfSpamWords['occur'].sum()\n",
    "dfSpamWords['freq'] = dfSpamWords['occur'] / totalSpamOcurr  \n",
    "dfSpamWords = dfSpamWords.sort_values(by='freq', ascending=False)\n",
    "dfSpamWords = dfSpamWords.reset_index(drop=True)\n",
    "dfSpamWords['freqAcum'] = dfSpamWords['freq'].cumsum()\n",
    "\n",
    "\n",
    "fig = plt.figure(figsize = (18,12))\n",
    "grid = plt.GridSpec(4,2, wspace =0.2, hspace = 0.5)\n",
    "pltLine = fig.add_subplot(grid[0:2,0])\n",
    "pltBar = fig.add_subplot(grid[2:4,0:2])\n",
    "pltTable = fig.add_subplot(grid[0:2,1])\n",
    "\n",
    "pltLine.plot(dfSpamWords['freqAcum'], range(len(dfSpamWords)))\n",
    "pltLine.set_ylabel('Number of Words')\n",
    "pltLine.set_xlabel('Acumulative Frequence')\n",
    "pltLine.set_title('Line Graph of acumulative frequence')\n",
    "pltLine.grid(True)\n",
    "\n",
    "\n",
    "dfSWord = dfSpamWords.loc[[0,20,50,100,500,1000,5000,10000,15000]][['freqAcum']]\n",
    "\n",
    "pltTable.table(cellText=dfSWord.values, rowLabels= dfSWord.index, colLabels = dfSWord.columns, loc='best')\n",
    "pltTable.axis('off')\n",
    "pltTable.set_title('Table of acumulative frequence')\n",
    "\n",
    "\n",
    "\n",
    "pltBar.bar(dfSpamWords.head(20)['word'], dfSpamWords.head(20)['freq'], align='center')\n",
    "pltBar.set_title('20 Most Used word')\n",
    "\n",
    "yPos = np.arange(20)\n",
    "pltBar.set_xticklabels(dfSpamWords.head(20)[\"word\"], rotation=60)\n",
    "pltBar.set_xticks(yPos)\n",
    "\n",
    "plt.show()\n",
    "\n"
   ]
  },
  {
   "cell_type": "markdown",
   "metadata": {},
   "source": [
    "### 20 Most common words on Ham emails"
   ]
  },
  {
   "cell_type": "code",
   "execution_count": null,
   "metadata": {},
   "outputs": [],
   "source": [
    "dfHamWords = pd.DataFrame(list(dict(countHam).items()))\n",
    "dfHamWords.columns = ['word', 'occur'] \n",
    "totalHamOcurr = dfHamWords['occur'].sum()\n",
    "dfHamWords['freq'] = dfHamWords['occur'] / totalHamOcurr  \n",
    "dfHamWords = dfHamWords.sort_values(by='freq', ascending=False)\n",
    "dfHamWords = dfHamWords.reset_index(drop=True)\n",
    "dfHamWords['freqAcum'] = dfHamWords['freq'].cumsum()\n",
    "\n",
    "\n",
    "fig = plt.figure(figsize = (18,12))\n",
    "grid = plt.GridSpec(4,2, wspace =0.2, hspace = 0.5)\n",
    "pltLine = fig.add_subplot(grid[0:2,0])\n",
    "pltBar = fig.add_subplot(grid[2:4,0:2])\n",
    "pltTable = fig.add_subplot(grid[0:2,1])\n",
    "\n",
    "pltLine.plot(dfHamWords['freqAcum'], range(len(dfHamWords)))\n",
    "pltLine.set_ylabel('Number of Words')\n",
    "pltLine.set_xlabel('Acumulative Frequence')\n",
    "pltLine.set_title('Line Graph of acumulative frequence')\n",
    "pltLine.grid(True)\n",
    "\n",
    "\n",
    "dfHWord = dfHamWords.loc[[0,20,50,100,500,1000,5000,10000,15000]][['freqAcum']]\n",
    "\n",
    "pltTable.table(cellText=dfHWord.values, rowLabels= dfHWord.index, colLabels = dfHWord.columns, loc='best')\n",
    "pltTable.axis('off')\n",
    "pltTable.set_title('Table of acumulative frequence')\n",
    "\n",
    "\n",
    "\n",
    "pltBar.bar(dfHamWords.head(20)['word'], dfHamWords.head(20)['freq'], align='center')\n",
    "pltBar.set_title('20 Most Used word')\n",
    "\n",
    "yPos = np.arange(20)\n",
    "pltBar.set_xticklabels(dfHamWords.head(20)[\"word\"], rotation=60)\n",
    "pltBar.set_xticks(yPos)\n",
    "\n",
    "plt.show()\n",
    "\n"
   ]
  },
  {
   "cell_type": "markdown",
   "metadata": {},
   "source": [
    "#### Word List"
   ]
  },
  {
   "cell_type": "code",
   "execution_count": 123,
   "metadata": {},
   "outputs": [
    {
     "name": "stderr",
     "output_type": "stream",
     "text": [
      "IOPub data rate exceeded.\n",
      "The notebook server will temporarily stop sending output\n",
      "to the client in order to avoid crashing it.\n",
      "To change this limit, set the config variable\n",
      "`--NotebookApp.iopub_data_rate_limit`.\n",
      "\n",
      "Current values:\n",
      "NotebookApp.iopub_data_rate_limit=1000000.0 (bytes/sec)\n",
      "NotebookApp.rate_limit_window=3.0 (secs)\n",
      "\n"
     ]
    }
   ],
   "source": [
    "tempSet = sorted(set(list(chain(*df[df['isSpam'] == True][\"wordsList\"].values))))\n",
    "\n",
    "\n",
    "print(tempSet)"
   ]
  },
  {
   "cell_type": "code",
   "execution_count": 124,
   "metadata": {},
   "outputs": [
    {
     "ename": "ModuleNotFoundError",
     "evalue": "No module named 'spellchecker'",
     "output_type": "error",
     "traceback": [
      "\u001b[0;31m---------------------------------------------------------------------------\u001b[0m",
      "\u001b[0;31mModuleNotFoundError\u001b[0m                       Traceback (most recent call last)",
      "\u001b[0;32m<ipython-input-124-3d5f3acb13d0>\u001b[0m in \u001b[0;36m<module>\u001b[0;34m\u001b[0m\n\u001b[0;32m----> 1\u001b[0;31m \u001b[0;32mfrom\u001b[0m \u001b[0mspellchecker\u001b[0m \u001b[0;32mimport\u001b[0m \u001b[0mSpellChecker\u001b[0m\u001b[0;34m\u001b[0m\u001b[0;34m\u001b[0m\u001b[0m\n\u001b[0m\u001b[1;32m      2\u001b[0m \u001b[0;34m\u001b[0m\u001b[0m\n\u001b[1;32m      3\u001b[0m \u001b[0mspell\u001b[0m \u001b[0;34m=\u001b[0m \u001b[0mSpellChecker\u001b[0m\u001b[0;34m(\u001b[0m\u001b[0;34m)\u001b[0m\u001b[0;34m\u001b[0m\u001b[0;34m\u001b[0m\u001b[0m\n\u001b[1;32m      4\u001b[0m \u001b[0;34m\u001b[0m\u001b[0m\n\u001b[1;32m      5\u001b[0m \u001b[0;31m# find those words that may be misspelled\u001b[0m\u001b[0;34m\u001b[0m\u001b[0;34m\u001b[0m\u001b[0;34m\u001b[0m\u001b[0m\n",
      "\u001b[0;31mModuleNotFoundError\u001b[0m: No module named 'spellchecker'"
     ]
    }
   ],
   "source": [
    "from spellchecker import SpellChecker\n",
    "\n",
    "spell = SpellChecker()\n",
    "\n",
    "# find those words that may be misspelled\n",
    "misspelled = spell.unknown(tempSet)\n",
    "\n",
    "print(misspelled)"
   ]
  },
  {
   "cell_type": "code",
   "execution_count": null,
   "metadata": {},
   "outputs": [],
   "source": [
    "lem = WordNetLemmatizer()\n",
    "words = lem.lemmatize('accommodations')\n",
    "\n",
    "words"
   ]
  },
  {
   "cell_type": "markdown",
   "metadata": {},
   "source": [
    "## Modeling"
   ]
  },
  {
   "cell_type": "markdown",
   "metadata": {},
   "source": [
    "### Spliting prepare data set for modeling "
   ]
  },
  {
   "cell_type": "code",
   "execution_count": null,
   "metadata": {},
   "outputs": [],
   "source": []
  },
  {
   "cell_type": "code",
   "execution_count": null,
   "metadata": {},
   "outputs": [],
   "source": [
    "l = list(chain(*df[\"wordsList\"].values))\n",
    "\n",
    "l = set(filter(lambda k : len(k) == 1, l))\n",
    "\n",
    "l"
   ]
  },
  {
   "cell_type": "code",
   "execution_count": null,
   "metadata": {},
   "outputs": [],
   "source": [
    "\n"
   ]
  },
  {
   "cell_type": "code",
   "execution_count": null,
   "metadata": {},
   "outputs": [],
   "source": []
  },
  {
   "cell_type": "code",
   "execution_count": null,
   "metadata": {},
   "outputs": [],
   "source": []
  },
  {
   "cell_type": "code",
   "execution_count": null,
   "metadata": {},
   "outputs": [],
   "source": []
  },
  {
   "cell_type": "code",
   "execution_count": null,
   "metadata": {},
   "outputs": [],
   "source": []
  },
  {
   "cell_type": "code",
   "execution_count": null,
   "metadata": {},
   "outputs": [],
   "source": [
    "dfWordsG = pd.DataFrame(list(dict(count).items()))\n",
    "dfWordsG.columns = ['word', 'occur'] \n",
    "totalOcurrG = dfWordsG['occur'].sum()\n",
    "dfWordsG['freq'] = dfWordsG['occur'] / totalOcurrG  \n",
    "dfWordsG = dfWordsG.sort_values(by='freq', ascending=False)\n",
    "dfWordsG = dfWordsG.reset_index(drop=True)\n",
    "dfWordsG['freqAcum'] = dfWordsG['freq'].cumsum()\n",
    "\n",
    "dfSpamWordsG = pd.DataFrame(list(dict(countSpam).items()))\n",
    "dfSpamWordsG.columns = ['word', 'occur'] \n",
    "totalSpamOcurrG = dfSpamWordsG['occur'].sum()\n",
    "dfSpamWordsG['freq'] = dfSpamWordsG['occur'] / totalOcurrG  \n",
    "dfSpamWordsG = dfSpamWordsG.sort_values(by='freq', ascending=False)\n",
    "dfSpamWordsG = dfSpamWordsG.reset_index(drop=True)\n",
    "dfSpamWordsG['freqAcum'] = dfSpamWordsG['freq'].cumsum()\n",
    "\n",
    "dfHamWordsG = pd.DataFrame(list(dict(countHam).items()))\n",
    "dfHamWordsG.columns = ['word', 'occur'] \n",
    "totalHamOcurrG = dfHamWordsG['occur'].sum()\n",
    "dfHamWordsG['freq'] = dfHamWordsG['occur'] / totalOcurrG  \n",
    "dfHamWordsG = dfHamWordsG.sort_values(by='freq', ascending=False)\n",
    "dfHamWordsG = dfHamWordsG.reset_index(drop=True)\n",
    "dfHamWordsG['freqAcum'] = dfHamWordsG['freq'].cumsum()\n",
    "\n",
    "fig = plt.figure(figsize = (18,6))\n",
    "grid = plt.GridSpec(1,3, wspace =0.2)\n",
    "pltTotal = fig.add_subplot(grid[0,0])\n",
    "pltSpam = fig.add_subplot(grid[0,1])\n",
    "pltHam = fig.add_subplot(grid[0,2])\n",
    "\n",
    "pltTotal.plot(dfWords['freqAcum'], range(len(dfWordsG)))\n",
    "pltTotal.set_ylabel('Total Words')\n",
    "pltTotal.set_xlabel('Acumulative Frequence')\n",
    "pltTotal.set_title('All Words')\n",
    "pltTotal.grid(True)\n",
    "\n",
    "pltSpam.plot(dfSpamWords['freqAcum'], range(len(dfSpamWordsG)))\n",
    "pltSpam.set_ylabel('Total Spam Words')\n",
    "pltSpam.set_xlabel('Acumulative Frequence')\n",
    "pltSpam.set_title('Spam Words')\n",
    "pltSpam.grid(True)\n",
    "\n",
    "pltHam.plot(dfHamWords['freqAcum'], range(len(dfHamWordsG)))\n",
    "pltHam.set_ylabel('Total Ham Words')\n",
    "pltHam.set_xlabel('Acumulative Frequence')\n",
    "pltHam.set_title('Ham Words')\n",
    "pltHam.grid(True)\n",
    "\n",
    "\n",
    "fig2 = plt.figure(figsize = (18,6))\n",
    "grid2 = plt.GridSpec(1,6, wspace =0.4)\n",
    "\n",
    "pltTotalTableG = fig2.add_subplot(grid2[0,0:2])\n",
    "pltSpamTableG = fig2.add_subplot(grid2[0,2:4])\n",
    "pltHamTableG = fig2.add_subplot(grid2[0,4:6])\n",
    "\n",
    "dfTWordG = dfWordsG.loc[[0,50,100,500,1000,5000,10000,15000]][['freqAcum']]\n",
    "\n",
    "pltTotalTableG.table(cellText=dfTWordG.values, rowLabels= dfTWordG.index, colLabels = dfTWordG.columns, loc='best')\n",
    "pltTotalTableG.axis('off')\n",
    "\n",
    "dfSWordG = dfSpamWordsG.loc[[0,50,100,500,1000,5000,10000,15000]][['freqAcum']]\n",
    "\n",
    "pltSpamTableG.table(cellText=dfSWordG.values, rowLabels= dfSWordG.index, colLabels = dfSWordG.columns, loc='best')\n",
    "pltSpamTableG.axis('off')\n",
    "\n",
    "dfHWordG = dfHamWordsG.loc[[0,50,100,500,1000,5000,10000,15000]][['freqAcum']]\n",
    "\n",
    "pltHamTableG.table(cellText=dfHWordG.values, rowLabels= dfHWordG.index, colLabels = dfHWordG.columns, loc='best')\n",
    "pltHamTableG.axis('off')\n",
    "\n",
    "\n",
    "plt.show()\n"
   ]
  },
  {
   "cell_type": "code",
   "execution_count": null,
   "metadata": {},
   "outputs": [],
   "source": []
  }
 ],
 "metadata": {
  "kernelspec": {
   "display_name": "Python 3",
   "language": "python",
   "name": "python3"
  },
  "language_info": {
   "codemirror_mode": {
    "name": "ipython",
    "version": 3
   },
   "file_extension": ".py",
   "mimetype": "text/x-python",
   "name": "python",
   "nbconvert_exporter": "python",
   "pygments_lexer": "ipython3",
   "version": "3.6.7"
  }
 },
 "nbformat": 4,
 "nbformat_minor": 2
}
