{
 "cells": [
  {
   "cell_type": "markdown",
   "metadata": {},
   "source": [
    "# Spam Classification"
   ]
  },
  {
   "cell_type": "markdown",
   "metadata": {},
   "source": [
    "The objective of it is to generate a model capable to classify a email as spam or not spam (Ham).\n",
    "\n",
    "The dataset used was from http://www2.aueb.gr/users/ion/data/enron-spam/"
   ]
  },
  {
   "cell_type": "markdown",
   "metadata": {},
   "source": [
    "#### Imports"
   ]
  },
  {
   "cell_type": "code",
   "execution_count": 1,
   "metadata": {},
   "outputs": [
    {
     "name": "stderr",
     "output_type": "stream",
     "text": [
      "[nltk_data] Downloading package stopwords to /home/phrc/nltk_data...\n",
      "[nltk_data]   Package stopwords is already up-to-date!\n",
      "[nltk_data] Downloading package wordnet to /home/phrc/nltk_data...\n",
      "[nltk_data]   Package wordnet is already up-to-date!\n"
     ]
    }
   ],
   "source": [
    "import pandas as pd\n",
    "import os\n",
    "from sklearn.feature_extraction.text import CountVectorizer\n",
    "from sklearn.feature_extraction import text as txt\n",
    "import string\n",
    "import numpy as np\n",
    "import matplotlib.pyplot as plt\n",
    "from collections import Counter\n",
    "from itertools import chain\n",
    "import nltk\n",
    "from nltk.corpus import stopwords\n",
    "nltk.download('stopwords')\n",
    "nltk.download('wordnet')\n",
    "from nltk.stem.wordnet import WordNetLemmatizer\n",
    "from textblob import TextBlob\n",
    "import email\n",
    "from email.message import EmailMessage\n",
    "from email.parser import BytesParser, Parser\n",
    "from email.policy import default\n",
    "import ast\n",
    "import re\n",
    "import datetime\n",
    "from sklearn import model_selection, preprocessing, linear_model, naive_bayes, metrics, svm\n",
    "from sklearn.feature_extraction.text import TfidfVectorizer, CountVectorizer\n",
    "from sklearn import decomposition, ensemble\n",
    "from sklearn.model_selection import train_test_split\n"
   ]
  },
  {
   "cell_type": "markdown",
   "metadata": {},
   "source": [
    "#### Functions"
   ]
  },
  {
   "cell_type": "code",
   "execution_count": 2,
   "metadata": {},
   "outputs": [],
   "source": [
    "def createDf(path):\n",
    "    \"\"\"\n",
    "    Read all email files and convert to a dataframe\n",
    "\n",
    "    Parameters\n",
    "    ----------\n",
    "    path: str\n",
    "        Path to a root directory to be read\n",
    "\n",
    "    Returns\n",
    "    ----------\n",
    "    dataframe\n",
    "        a dataframe with x columns based in all emails properties\n",
    "    \"\"\"\n",
    "    os.chdir(path)\n",
    "    data = []\n",
    "    for root, dirs, files in os.walk(path):\n",
    "         for file in files:\n",
    "            with open(os.path.join(root, file), \"rb\") as openFile:\n",
    "                dictTemp = {}\n",
    "                try:\n",
    "                    message = email.message_from_binary_file(openFile, policy=default)\n",
    "                    #Parser(policy=default).parsestr(openFile.read())\n",
    "                    dictTemp['file'] = openFile.name\n",
    "                    for key in message.keys():\n",
    "                        dictTemp[key.lower()] = message[key]\n",
    "                    dictTemp['messageType'] = message.get_content_type()\n",
    "                    body = message.get_body()\n",
    "                    if body['content-type'].maintype == 'text':\n",
    "                        if body['content-type'].subtype == 'plain':\n",
    "                            dictTemp['messageStr'] = str(body.get_content())\n",
    "                        elif body['content-type'].subtype == 'html':\n",
    "                            dictTemp['messageStr'] = str(body)\n",
    "                    elif body['content-type'].content_type in 'multipart':\n",
    "                        dictTemp['messageStr'] = str(body.get_body(preferencelist=('html')))\n",
    "                    dictTemp['parseError'] = False                 \n",
    "                except:\n",
    "                    dictTemp['parseError'] = True\n",
    "                data.append(dictTemp)\n",
    "    df = pd.DataFrame(data)\n",
    "    return df\n",
    "\n",
    "def emailTextCleanner(text):\n",
    "    \"\"\"\n",
    "    Remove:\n",
    "        Html Tags\n",
    "        Email headers\n",
    "        Ponctuation\n",
    "        break lines and tabs\n",
    "    \n",
    "    And convert the string to lower case \n",
    "\n",
    "    Parameters\n",
    "    ----------\n",
    "    text: str\n",
    "\n",
    "    Returns\n",
    "    ----------\n",
    "    str\n",
    "    \"\"\"\n",
    "    try:\n",
    "        text = str(text).lower()\n",
    "        text = text.replace(\"\\\\\", \" \")\n",
    "        text = text.replace(\"\\x01\", \" \")\n",
    "        clean = re.compile('charset.*\\n')\n",
    "        text = re.sub(clean, '', text)\n",
    "        clean = re.compile('content-.*\\n')\n",
    "        text = re.sub(clean, '', text)\n",
    "        clean = re.compile('received: from.*\\n')\n",
    "        text = re.sub(clean, '', text)\n",
    "        text = text.replace('\\n', ' ')\n",
    "        text = text.replace('\\t', ' ')\n",
    "        clean = re.compile('<.*?>')\n",
    "        text = re.sub(clean, '', str(text))\n",
    "        clean = re.compile('['+string.punctuation+']')\n",
    "        text = re.sub(clean, ' ', text)\n",
    "        clean = re.compile(\"[0-9]\")\n",
    "        text = re.sub(clean, \" \", text)\n",
    "        toRemove = frozenset(['xpriority','nbsp', 'enron','xmsmailpriority','xmimeole','mimeole','cc','enrons', 'fw', 're'])\n",
    "        pattern = re.compile(r'\\b(' + r'|'.join(toRemove) + r')\\b\\s*')\n",
    "        text = pattern.sub(' ', text)\n",
    " \n",
    "        return text\n",
    "    except:\n",
    "        print(type(text))\n",
    "        return \"\"\n",
    "    #text = TextBlob(text)\n",
    "    #text = str(text.correct())\n",
    "    \n",
    "def lemmatizeList(words):\n",
    "    \"\"\"\n",
    "    Lemmatize a list of string\n",
    "\n",
    "    Parameters\n",
    "    ----------\n",
    "    words: list of str\n",
    "\n",
    "    Returns\n",
    "    ----------\n",
    "    list of str\n",
    "    \"\"\"\n",
    "    lem = WordNetLemmatizer()\n",
    "    for i in range(len(words)):\n",
    "        words[i] = lem.lemmatize(words[i], 'v')\n",
    "        words[i] = lem.lemmatize(words[i], 'n')\n",
    "    return words\n",
    "\n",
    "def revomeWordsWithOneCharacter(words):\n",
    "    return list(filter(lambda x : len(x) > 1, words))\n",
    "\n",
    "def removeDigits(words):\n",
    "    return list(filter(lambda x : x.isdigit() == False, words))\n",
    "\n",
    "def createPlotLenghtDist(col, df):\n",
    "    fig = plt.figure(figsize = (18,6))\n",
    "    grid = plt.GridSpec(1,4, wspace =0.8)\n",
    "    histPlt = fig.add_subplot(grid[0,0:2])\n",
    "    boxPlt1 = fig.add_subplot(grid[0,2])\n",
    "    boxPlt2 = fig.add_subplot(grid[0,3])\n",
    "\n",
    "    histPlt.hist(\n",
    "        [\n",
    "            df[df['isSpam'] == True][col], \n",
    "            df[df['isSpam'] == False][col]\n",
    "        ], \n",
    "        np.linspace(0, df[col].quantile(0.75), 30), \n",
    "        density = True, \n",
    "        label=['Spam', 'Ham']\n",
    "    ) \n",
    "    histPlt.legend(loc='upper right')\n",
    "\n",
    "    boxPlt1.boxplot(\n",
    "        (\n",
    "             df[df['isSpam'] == True][col], \n",
    "             df[df['isSpam'] == False][col] \n",
    "        ), \n",
    "        labels = ('Spam', 'Ham')\n",
    "    )\n",
    "\n",
    "    boxPlt2.boxplot(\n",
    "        (\n",
    "            df[(df['isSpam'] == True) & (df[col] < df[col].quantile(0.75))][col], \n",
    "            df[(df['isSpam'] == False) & (df[col] < df[col].quantile(0.75))][col] \n",
    "        ), \n",
    "        labels = ('Spam', 'Ham')\n",
    "    )\n",
    "\n",
    "    plt.show()\n",
    "\n",
    "def plot20MostWord(counter):\n",
    "    df = pd.DataFrame(list(dict(counter).items()))\n",
    "    df.columns = ['word', 'occur'] \n",
    "    totalOcurr = df['occur'].sum()\n",
    "    df['freq'] = df['occur'] / totalOcurr  \n",
    "    df = df.sort_values(by='freq', ascending=False)\n",
    "    df = df.reset_index(drop=True)\n",
    "    df['freqAcum'] = df['freq'].cumsum()\n",
    "\n",
    "\n",
    "    fig = plt.figure(figsize = (18,12))\n",
    "    grid = plt.GridSpec(4,2, wspace =0.2, hspace = 0.5)\n",
    "    pltLine = fig.add_subplot(grid[0:2,0])\n",
    "    pltBar = fig.add_subplot(grid[2:4,0:2])\n",
    "    pltTable = fig.add_subplot(grid[0:2,1])\n",
    "\n",
    "    pltLine.plot(df['freqAcum'], range(len(df)))\n",
    "    pltLine.set_ylabel('Number of Words')\n",
    "    pltLine.set_xlabel('Acumulative Frequence')\n",
    "    pltLine.set_title('Line Graph of acumulative frequence')\n",
    "    pltLine.grid(True)\n",
    "\n",
    "\n",
    "    dfTWord = df.loc[[0,20,50,100,500,1000,5000,6204,10000,15000]][['freqAcum']]\n",
    "\n",
    "    pltTable.table(cellText=dfTWord.values, rowLabels= dfTWord.index, colLabels = dfTWord.columns, loc='best')\n",
    "    pltTable.axis('off')\n",
    "    pltTable.set_title('Table of acumulative frequence')\n",
    "\n",
    "\n",
    "\n",
    "    pltBar.bar(df.head(20)['word'], df.head(20)['freq'])\n",
    "    pltBar.set_title('20 Most Used word')\n",
    "\n",
    "    yPos = np.arange(20)\n",
    "    pltBar.set_xticklabels(df.head(20)[\"word\"], rotation=60)\n",
    "    pltBar.set_xticks(yPos)\n",
    "\n",
    "\n",
    "    plt.show()\n",
    "    \n",
    "def totalUniqueWordsPlot(l1,l2,l3):\n",
    "    fig = plt.figure(figsize = (18,6))\n",
    "    grid = plt.GridSpec(1,2, wspace =0.2)\n",
    "    pltBar = fig.add_subplot(grid[0,0])\n",
    "    pltText = fig.add_subplot(grid[0,1])\n",
    "\n",
    "    pltBar.bar(\n",
    "        ['Total unique words', 'Spam unique words', 'Ham unique words'], \n",
    "        [l1,l2,l3], \n",
    "        align='center'\n",
    "    )\n",
    "\n",
    "    textWords = ['Total unique words:              {}'.format(l1), \n",
    "                 'Total spam unique words:    {}'.format(l2), \n",
    "                 'Total ham unique words:      {}'.format(l3)]\n",
    "\n",
    "\n",
    "\n",
    "    pltText.text(x=0, y=0.5, s = '\\n'.join(textWords), fontsize = 18) \n",
    "    pltText.axis('off')\n",
    "    plt.show()\n",
    "\n",
    "def getEmailRoot(email):\n",
    "    try:\n",
    "        email1 = email.replace(\".\", \" \")\n",
    "        emailVet = email1.split()\n",
    "        matching = [s for s in emailVet if \"@\" in s] \n",
    "        return matching[0].replace(\"<\", \"\").replace(\">\", \"\")\n",
    "    except:\n",
    "        return \"None\" \n",
    "\n",
    "def getEmailPartRoot(root, i):\n",
    "    try:\n",
    "        return root.split(\"@\")[i]\n",
    "    except:\n",
    "        return \"None\"\n",
    "\n",
    "def train_model(classifier, feature_vector_train, label, feature_vector_valid, ytest):\n",
    "    classifier.fit(feature_vector_train, label)\n",
    "    predictions = classifier.predict(feature_vector_valid)\n",
    "    return metrics.accuracy_score(predictions, ytest)"
   ]
  },
  {
   "cell_type": "markdown",
   "metadata": {},
   "source": [
    "## Dataset generation"
   ]
  },
  {
   "cell_type": "code",
   "execution_count": 3,
   "metadata": {},
   "outputs": [],
   "source": [
    "root = '/home/phrc/Python Project/Spam Email Classifier/'\n",
    "#root = '/Users/phrc/Documents/Projects/pythonProject/SpamEmailClassifier/'\n",
    "\n",
    "spamPath = root+'emails/spam/'\n",
    "hamPath = root+'emails/ham/'\n",
    "\n",
    "\n",
    "dfSpam = createDf(spamPath)\n",
    "dfHam = createDf(hamPath)\n",
    "\n",
    "dfSpam['isSpam'] = True\n",
    "dfHam['isSpam'] = False"
   ]
  },
  {
   "cell_type": "code",
   "execution_count": 4,
   "metadata": {},
   "outputs": [],
   "source": [
    "dfSpamCopy = dfSpam.copy()\n",
    "dfHamCopy = dfHam.copy()"
   ]
  },
  {
   "cell_type": "code",
   "execution_count": 5,
   "metadata": {},
   "outputs": [],
   "source": [
    "dfSpam = dfSpamCopy\n",
    "dfHam = dfHamCopy"
   ]
  },
  {
   "cell_type": "markdown",
   "metadata": {},
   "source": [
    "# Dataset Visualisation and Preparation "
   ]
  },
  {
   "cell_type": "markdown",
   "metadata": {},
   "source": [
    "## Dataset Size"
   ]
  },
  {
   "cell_type": "code",
   "execution_count": 6,
   "metadata": {},
   "outputs": [
    {
     "name": "stdout",
     "output_type": "stream",
     "text": [
      "Total emails 52076\n"
     ]
    },
    {
     "data": {
      "image/png": "[encoded data removed]",
      "text/plain": [
       "<Figure size 1296x432 with 2 Axes>"
      ]
     },
     "metadata": {
      "needs_background": "light"
     },
     "output_type": "display_data"
    }
   ],
   "source": [
    "print(\"Total emails {}\".format(len(dfHam) + len(dfSpam)))\n",
    "\n",
    "initTotalSpam = len(dfSpam)\n",
    "initTotalHam = len(dfHam)\n",
    "\n",
    "fig = plt.figure(figsize = (18,6))\n",
    "grid = plt.GridSpec(1,2, wspace =0.1)\n",
    "barPlt = fig.add_subplot(grid[0,0])\n",
    "piePlt = fig.add_subplot(grid[0,1])\n",
    "\n",
    "\n",
    "barPlt.bar(np.arange(2), (len(dfHam), len(dfSpam)), align='center')\n",
    "barPlt.set_xticklabels(('Ham \\n{}'.format(len(dfHam)), 'Spam \\n{}'.format(len(dfSpam))))\n",
    "barPlt.set_xticks(np.arange(2))\n",
    "barPlt.set_title(\"Total Emails\")\n",
    "\n",
    "\n",
    "piePlt.pie((len(dfHam), len(dfSpam)), labels=['Ham', 'Spam'], autopct='%1.0f%%', pctdistance=0.5, labeldistance=1.2)\n",
    "piePlt.set_title(\"Emails Distributions\")\n",
    "\n",
    "plt.show()"
   ]
  },
  {
   "cell_type": "markdown",
   "metadata": {},
   "source": [
    "## Parser Emails Error Analyse "
   ]
  },
  {
   "cell_type": "code",
   "execution_count": 7,
   "metadata": {},
   "outputs": [
    {
     "data": {
      "image/png": "[encoded data removed]",
      "text/plain": [
       "<Figure size 864x1008 with 4 Axes>"
      ]
     },
     "metadata": {
      "needs_background": "light"
     },
     "output_type": "display_data"
    }
   ],
   "source": [
    "fig = plt.figure(figsize = (12,14))\n",
    "grid = plt.GridSpec(2,2, wspace =0.1)\n",
    "barPlt = fig.add_subplot(grid[0,0])\n",
    "piePlt = fig.add_subplot(grid[0,1])\n",
    "stackBar = fig.add_subplot(grid[1,0:2])\n",
    "line = stackBar.twinx()\n",
    "\n",
    "\n",
    "hamFreq = (len(dfHam[dfHam['parseError'] == True]) * 100 / len(dfHam))\n",
    "spamFreq = (len(dfSpam[dfSpam['parseError'] == True]) * 100 / len(dfSpam))\n",
    "\n",
    "\n",
    "p1 = barPlt.bar(np.arange(2), \n",
    "           (len(dfHam),\n",
    "            len(dfSpam)\n",
    "           ), align='center')\n",
    "\n",
    "p2 = barPlt.bar(np.arange(2), \n",
    "           (len(dfHam[dfHam['parseError'] == True]),\n",
    "            len(dfSpam[dfSpam['parseError'] == True])\n",
    "           ), align='center')\n",
    "\n",
    "barPlt.set_xticks(np.arange(2))\n",
    "barPlt.set_xticklabels(('Ham \\n{0:.2}%'.format(hamFreq), 'Spam \\n{0:.2}%'.format(spamFreq)))\n",
    "barPlt.set_title(\"Email Parced Proportions\")\n",
    "barPlt.legend((p1[0], p2[0]), ('No Error', 'Error'))\n",
    "\n",
    "\n",
    "piePlt.pie(\n",
    "    (\n",
    "        len(dfHam[dfHam['parseError'] == False]), \n",
    "        len(dfSpam[dfSpam['parseError'] == False])), \n",
    "    labels=['Ham', 'Spam'], \n",
    "    autopct='%1.0f%%', \n",
    "    pctdistance=0.5, \n",
    "    labeldistance=1.2)\n",
    "piePlt.set_title(\"Emails Distributions without parse error\")\n",
    "\n",
    "dfParse = pd.concat(\n",
    "    [dfSpam[['messageType', 'isSpam', 'parseError']], \n",
    "     dfHam[['messageType', 'isSpam', 'parseError']]], \n",
    "    sort=True)\n",
    "\n",
    "dfGroup2 = dfParse.groupby(['messageType', 'parseError']).size()\n",
    "dfG2 = dfGroup2.unstack().fillna(0)\n",
    "dfG2['ParseErrorRate'] = dfG2[True] / (dfG2[True] + dfG2[False])  \n",
    "\n",
    "p22 =stackBar.bar(range(len(dfG2)), dfG2[False], edgecolor='white', width=0.85)\n",
    "p23 =stackBar.bar(range(len(dfG2)), dfG2[True], bottom = dfG2[False], edgecolor='white', width=0.85)\n",
    "\n",
    "\n",
    "stackBar.set_xticks(range(len(dfG2)))\n",
    "stackBar.set_xticklabels(dfG2.index.values, rotation='vertical')\n",
    "stackBar.spines['top'].set_visible(False)\n",
    "stackBar.spines['right'].set_visible(False)\n",
    "stackBar.get_xaxis().tick_bottom()\n",
    "stackBar.get_yaxis().tick_left()\n",
    "stackBar.set_title(\"Emails by type\")\n",
    "stackBar.legend((p22[0], p23[0]), ('No Error','Error'))\n",
    "stackBar.set_ylabel('Total emails', color='black')\n",
    "\n",
    "line.plot(range(len(dfG2)), dfG2['ParseErrorRate'], color = 'black')\n",
    "line.get_yaxis().tick_right()\n",
    "line.set_ylim(0, 1)\n",
    "line.set_ylabel('Parce Error Rate', color='black')\n",
    "\n",
    "\n",
    "\n",
    "\n",
    "plt.show();"
   ]
  },
  {
   "cell_type": "code",
   "execution_count": 8,
   "metadata": {},
   "outputs": [
    {
     "data": {
      "text/html": [
       "<div>\n",
       "<style scoped>\n",
       "    .dataframe tbody tr th:only-of-type {\n",
       "        vertical-align: middle;\n",
       "    }\n",
       "\n",
       "    .dataframe tbody tr th {\n",
       "        vertical-align: top;\n",
       "    }\n",
       "\n",
       "    .dataframe thead th {\n",
       "        text-align: right;\n",
       "    }\n",
       "</style>\n",
       "<table border=\"1\" class=\"dataframe\">\n",
       "  <thead>\n",
       "    <tr style=\"text-align: right;\">\n",
       "      <th>parseError</th>\n",
       "      <th>False</th>\n",
       "      <th>True</th>\n",
       "      <th>ParseErrorRate</th>\n",
       "    </tr>\n",
       "    <tr>\n",
       "      <th>messageType</th>\n",
       "      <th></th>\n",
       "      <th></th>\n",
       "      <th></th>\n",
       "    </tr>\n",
       "  </thead>\n",
       "  <tbody>\n",
       "    <tr>\n",
       "      <th>multipart/alternative</th>\n",
       "      <td>6564.0</td>\n",
       "      <td>673.0</td>\n",
       "      <td>0.092994</td>\n",
       "    </tr>\n",
       "    <tr>\n",
       "      <th>multipart/mixed</th>\n",
       "      <td>1717.0</td>\n",
       "      <td>34.0</td>\n",
       "      <td>0.019417</td>\n",
       "    </tr>\n",
       "    <tr>\n",
       "      <th>multipart/mixed  boundary=\"--7812626238793735\"</th>\n",
       "      <td>0.0</td>\n",
       "      <td>1.0</td>\n",
       "      <td>1.000000</td>\n",
       "    </tr>\n",
       "    <tr>\n",
       "      <th>multipart/related</th>\n",
       "      <td>1892.0</td>\n",
       "      <td>0.0</td>\n",
       "      <td>0.000000</td>\n",
       "    </tr>\n",
       "    <tr>\n",
       "      <th>multipart/report</th>\n",
       "      <td>70.0</td>\n",
       "      <td>36.0</td>\n",
       "      <td>0.339623</td>\n",
       "    </tr>\n",
       "    <tr>\n",
       "      <th>text/html</th>\n",
       "      <td>16431.0</td>\n",
       "      <td>284.0</td>\n",
       "      <td>0.016991</td>\n",
       "    </tr>\n",
       "    <tr>\n",
       "      <th>text/plain</th>\n",
       "      <td>24154.0</td>\n",
       "      <td>187.0</td>\n",
       "      <td>0.007683</td>\n",
       "    </tr>\n",
       "    <tr>\n",
       "      <th>text/plain charset=us-ascii</th>\n",
       "      <td>0.0</td>\n",
       "      <td>1.0</td>\n",
       "      <td>1.000000</td>\n",
       "    </tr>\n",
       "  </tbody>\n",
       "</table>\n",
       "</div>"
      ],
      "text/plain": [
       "parseError                                        False   True  ParseErrorRate\n",
       "messageType                                                                   \n",
       "multipart/alternative                            6564.0  673.0        0.092994\n",
       "multipart/mixed                                  1717.0   34.0        0.019417\n",
       "multipart/mixed  boundary=\"--7812626238793735\"      0.0    1.0        1.000000\n",
       "multipart/related                                1892.0    0.0        0.000000\n",
       "multipart/report                                   70.0   36.0        0.339623\n",
       "text/html                                       16431.0  284.0        0.016991\n",
       "text/plain                                      24154.0  187.0        0.007683\n",
       "text/plain charset=us-ascii                         0.0    1.0        1.000000"
      ]
     },
     "execution_count": 8,
     "metadata": {},
     "output_type": "execute_result"
    }
   ],
   "source": [
    "dfG2"
   ]
  },
  {
   "cell_type": "markdown",
   "metadata": {},
   "source": [
    "## Check for Empty e-mail messages without parce error"
   ]
  },
  {
   "cell_type": "code",
   "execution_count": 9,
   "metadata": {},
   "outputs": [],
   "source": [
    "dfMsg = pd.concat([dfSpam[['messageStr', 'messageType', 'isSpam', 'parseError']], dfHam[['messageType', 'messageStr', 'isSpam', 'parseError']]], sort=True)\n",
    "dfMsg = dfMsg[dfMsg['parseError'] == False]\n",
    "dfMsg['msgIsNull'] = dfMsg['messageStr'].isnull()\n"
   ]
  },
  {
   "cell_type": "code",
   "execution_count": 10,
   "metadata": {},
   "outputs": [
    {
     "data": {
      "image/png": "[encoded data removed]",
      "text/plain": [
       "<Figure size 864x1008 with 4 Axes>"
      ]
     },
     "metadata": {
      "needs_background": "light"
     },
     "output_type": "display_data"
    }
   ],
   "source": [
    "fig = plt.figure(figsize = (12,14))\n",
    "grid = plt.GridSpec(2,2, wspace =0.1)\n",
    "barPlt = fig.add_subplot(grid[0,0])\n",
    "piePlt = fig.add_subplot(grid[0,1])\n",
    "stackBar = fig.add_subplot(grid[1,0:2])\n",
    "line = stackBar.twinx()\n",
    "\n",
    "hamFreq = (len(dfMsg[(dfMsg['isSpam'] == False) & (dfMsg['msgIsNull'] == True)]) * 100 / len(dfMsg[dfMsg['isSpam'] == False]))\n",
    "spamFreq = (len(dfMsg[(dfMsg['isSpam'] == True) & (dfMsg['msgIsNull'] == True)]) * 100 / len(dfMsg[dfMsg['isSpam'] == True]))\n",
    "\n",
    "\n",
    "p1 = barPlt.bar(np.arange(2), \n",
    "           (len(dfMsg[dfMsg['isSpam'] == False]),\n",
    "            len(dfMsg[dfMsg['isSpam'] == True])\n",
    "           ), align='center')\n",
    "\n",
    "p2 = barPlt.bar(np.arange(2), \n",
    "           (len(dfMsg[(dfMsg['isSpam'] == False) & (dfMsg['msgIsNull'] == True)]),\n",
    "            len(dfMsg[(dfMsg['isSpam'] == True) & (dfMsg['msgIsNull'] == True)])\n",
    "           ), align='center')\n",
    "\n",
    "barPlt.set_xticks(np.arange(2))\n",
    "barPlt.set_xticklabels(('Ham \\n{0:.2}%'.format(hamFreq), 'Spam \\n{0:.2}%'.format(spamFreq)))\n",
    "barPlt.set_title(\"Null Email Proportions\")\n",
    "barPlt.legend((p1[0], p2[0]), ('Not null message','Null message'))\n",
    "\n",
    "\n",
    "piePlt.pie(\n",
    "    (\n",
    "        len(dfMsg[(dfMsg['isSpam'] == False) & (dfMsg['msgIsNull'] == False)]), \n",
    "        len(dfMsg[(dfMsg['isSpam'] == True) & (dfMsg['msgIsNull'] == False)])), \n",
    "    labels=['Ham', 'Spam'], \n",
    "    autopct='%1.2f%%', \n",
    "    pctdistance=0.5, \n",
    "    labeldistance=1.2)\n",
    "piePlt.set_title(\"Emails Distributions without Null Message\")\n",
    "\n",
    "dfGroup2 = dfMsg.groupby(['messageType', 'msgIsNull']).size()\n",
    "dfG2 = dfGroup2.unstack().fillna(0)\n",
    "dfG2['NullMsgRate'] = dfG2[True] / (dfG2[True] + dfG2[False])  \n",
    "\n",
    "p22 =stackBar.bar(range(len(dfG2)), dfG2[False], edgecolor='white', width=0.85)\n",
    "p23 =stackBar.bar(range(len(dfG2)), dfG2[True], bottom = dfG2[False], edgecolor='white', width=0.85)\n",
    "\n",
    "\n",
    "stackBar.set_xticks(range(len(dfG2)))\n",
    "stackBar.set_xticklabels(dfG2.index.values, rotation='vertical')\n",
    "stackBar.spines['top'].set_visible(False)\n",
    "stackBar.spines['right'].set_visible(False)\n",
    "stackBar.get_xaxis().tick_bottom()\n",
    "stackBar.get_yaxis().tick_left()\n",
    "stackBar.set_title(\"Emails by type\")\n",
    "stackBar.legend((p22[0], p23[0]), ('Not null message','Null message'))\n",
    "stackBar.set_ylabel('Total emails', color='black')\n",
    "\n",
    "line.plot(range(len(dfG2)), dfG2['NullMsgRate'], color = 'black')\n",
    "line.get_yaxis().tick_right()\n",
    "line.set_ylim(0, 1)\n",
    "line.spines['top'].set_visible(False)\n",
    "line.set_ylabel('Null Message Rate', color='black')\n",
    "\n",
    "\n",
    "\n",
    "\n",
    "plt.show();"
   ]
  },
  {
   "cell_type": "code",
   "execution_count": 11,
   "metadata": {},
   "outputs": [
    {
     "data": {
      "text/html": [
       "<div>\n",
       "<style scoped>\n",
       "    .dataframe tbody tr th:only-of-type {\n",
       "        vertical-align: middle;\n",
       "    }\n",
       "\n",
       "    .dataframe tbody tr th {\n",
       "        vertical-align: top;\n",
       "    }\n",
       "\n",
       "    .dataframe thead th {\n",
       "        text-align: right;\n",
       "    }\n",
       "</style>\n",
       "<table border=\"1\" class=\"dataframe\">\n",
       "  <thead>\n",
       "    <tr style=\"text-align: right;\">\n",
       "      <th>msgIsNull</th>\n",
       "      <th>False</th>\n",
       "      <th>True</th>\n",
       "      <th>NullMsgRate</th>\n",
       "    </tr>\n",
       "    <tr>\n",
       "      <th>messageType</th>\n",
       "      <th></th>\n",
       "      <th></th>\n",
       "      <th></th>\n",
       "    </tr>\n",
       "  </thead>\n",
       "  <tbody>\n",
       "    <tr>\n",
       "      <th>multipart/alternative</th>\n",
       "      <td>6564.0</td>\n",
       "      <td>0.0</td>\n",
       "      <td>0.000000</td>\n",
       "    </tr>\n",
       "    <tr>\n",
       "      <th>multipart/mixed</th>\n",
       "      <td>1709.0</td>\n",
       "      <td>8.0</td>\n",
       "      <td>0.004659</td>\n",
       "    </tr>\n",
       "    <tr>\n",
       "      <th>multipart/related</th>\n",
       "      <td>0.0</td>\n",
       "      <td>1892.0</td>\n",
       "      <td>1.000000</td>\n",
       "    </tr>\n",
       "    <tr>\n",
       "      <th>multipart/report</th>\n",
       "      <td>70.0</td>\n",
       "      <td>0.0</td>\n",
       "      <td>0.000000</td>\n",
       "    </tr>\n",
       "    <tr>\n",
       "      <th>text/html</th>\n",
       "      <td>16431.0</td>\n",
       "      <td>0.0</td>\n",
       "      <td>0.000000</td>\n",
       "    </tr>\n",
       "    <tr>\n",
       "      <th>text/plain</th>\n",
       "      <td>24154.0</td>\n",
       "      <td>0.0</td>\n",
       "      <td>0.000000</td>\n",
       "    </tr>\n",
       "  </tbody>\n",
       "</table>\n",
       "</div>"
      ],
      "text/plain": [
       "msgIsNull                False    True  NullMsgRate\n",
       "messageType                                        \n",
       "multipart/alternative   6564.0     0.0     0.000000\n",
       "multipart/mixed         1709.0     8.0     0.004659\n",
       "multipart/related          0.0  1892.0     1.000000\n",
       "multipart/report          70.0     0.0     0.000000\n",
       "text/html              16431.0     0.0     0.000000\n",
       "text/plain             24154.0     0.0     0.000000"
      ]
     },
     "execution_count": 11,
     "metadata": {},
     "output_type": "execute_result"
    }
   ],
   "source": [
    "dfG2"
   ]
  },
  {
   "cell_type": "markdown",
   "metadata": {},
   "source": [
    "## Remove Empty e-mail messages "
   ]
  },
  {
   "cell_type": "code",
   "execution_count": 12,
   "metadata": {},
   "outputs": [
    {
     "name": "stdout",
     "output_type": "stream",
     "text": [
      "Total size of dataset: 48928\n"
     ]
    }
   ],
   "source": [
    "dfNoError = dfMsg[(dfMsg['parseError'] == False) & (dfMsg['msgIsNull'] == False)]\n",
    "\n",
    "print('Total size of dataset: {}'.format(len(dfNoError)))\n"
   ]
  },
  {
   "cell_type": "markdown",
   "metadata": {},
   "source": [
    "## Emails losted analyse"
   ]
  },
  {
   "cell_type": "code",
   "execution_count": 13,
   "metadata": {},
   "outputs": [
    {
     "data": {
      "image/png": "[encoded data removed]",
      "text/plain": [
       "<Figure size 1152x720 with 4 Axes>"
      ]
     },
     "metadata": {
      "needs_background": "light"
     },
     "output_type": "display_data"
    }
   ],
   "source": [
    "fig = plt.figure(figsize = (16,10))\n",
    "grid = plt.GridSpec(2,6, wspace =0.8, hspace =0.8)\n",
    "stackBar = fig.add_subplot(grid[0:2,0:3])\n",
    "piePlt = fig.add_subplot(grid[0,3:6])\n",
    "piePlt2 = fig.add_subplot(grid[1,3:6])\n",
    "line = stackBar.twinx()\n",
    "\n",
    "\n",
    "p1 = stackBar.bar(np.arange(2), \n",
    "           (initTotalHam,\n",
    "            initTotalSpam\n",
    "           ), align='center')\n",
    "\n",
    "p2 = stackBar.bar(np.arange(2), \n",
    "           (len(dfNoError[dfNoError['isSpam'] == False]),\n",
    "            len(dfNoError[dfNoError['isSpam'] == True])\n",
    "           ), align='center')\n",
    "\n",
    "stackBar.set_xticklabels(\n",
    "    ('Rate Ham {0:.2}'.format(((initTotalHam - len(dfNoError[dfNoError['isSpam'] == False])) / initTotalHam)), \n",
    "     'Rate Spam {0:.2}'.format(((initTotalSpam - len(dfNoError[dfNoError['isSpam'] == True])) / initTotalSpam))))\n",
    "\n",
    "stackBar.legend((p1[0], p2[0]), ('Losted', 'Usable'))\n",
    "stackBar.set_xticks(np.arange(2))\n",
    "stackBar.set_title(\"Total Emails rate\")\n",
    "\n",
    "\n",
    "line.plot(\n",
    "    range(2), \n",
    "    (((initTotalHam - len(dfNoError[dfNoError['isSpam'] == False])) / initTotalHam), \n",
    "     ((initTotalSpam - len(dfNoError[dfNoError['isSpam'] == True])) / initTotalSpam)), \n",
    "    color = 'black')\n",
    "line.get_yaxis().tick_right()\n",
    "line.set_ylim(0, 1)\n",
    "line.spines['top'].set_visible(False)\n",
    "line.set_ylabel('Losted Message Rate', color='black')\n",
    "\n",
    "\n",
    "\n",
    "piePlt.pie(\n",
    "    (\n",
    "        len(dfNoError[dfNoError['isSpam'] == False]), \n",
    "        (initTotalHam - len(dfNoError[dfNoError['isSpam'] == False])),\n",
    "        len(dfNoError[dfNoError['isSpam'] == True]), \n",
    "        (initTotalSpam - len(dfNoError[dfNoError['isSpam'] == True]))), \n",
    "    labels=['Usable Ham', 'Losted Ham', 'Usable Spam', 'Losted Spam'], \n",
    "    autopct='%1.2f%%', \n",
    "    pctdistance=0.5, \n",
    "    labeldistance=1.2,\n",
    "    explode = (0.1, 0.1, 0.1, 0.1))\n",
    "piePlt.set_title(\"Emails Distribution\")\n",
    "\n",
    "\n",
    "\n",
    "\n",
    "\n",
    "\n",
    "\n",
    "piePlt2.pie(dfNoError['isSpam'].value_counts(), labels=['Spam', 'Ham'], autopct='%1.0f%%', pctdistance=0.5, labeldistance=1.2)\n",
    "piePlt2.set_title(\"Emails Distribution without parse error and null message\")\n",
    "\n",
    "plt.show()\n",
    "\n",
    "\n",
    "\n"
   ]
  },
  {
   "cell_type": "markdown",
   "metadata": {},
   "source": [
    "#### conclusion\n",
    "\n",
    "\n",
    "The Spam datset was reduced in 9.5%, the Ham in less than 0.07%, overall, the full dataset was reduced in 6.05%.\n",
    "\n",
    "The current emails proportion is 61% spam email by 39% ham, since the most email losted and the biggest data set were the same, and considering having a evenly proportion can be helpfull to produce a better model, the solutions to improve the email reading was not made nescessary. \n"
   ]
  },
  {
   "cell_type": "markdown",
   "metadata": {},
   "source": [
    "## Dataset Spam Columns Analyse"
   ]
  },
  {
   "cell_type": "code",
   "execution_count": 14,
   "metadata": {},
   "outputs": [
    {
     "name": "stdout",
     "output_type": "stream",
     "text": [
      "Total of Spam attributes 467\n"
     ]
    },
    {
     "data": {
      "text/html": [
       "<div>\n",
       "<style scoped>\n",
       "    .dataframe tbody tr th:only-of-type {\n",
       "        vertical-align: middle;\n",
       "    }\n",
       "\n",
       "    .dataframe tbody tr th {\n",
       "        vertical-align: top;\n",
       "    }\n",
       "\n",
       "    .dataframe thead th {\n",
       "        text-align: right;\n",
       "    }\n",
       "</style>\n",
       "<table border=\"1\" class=\"dataframe\">\n",
       "  <thead>\n",
       "    <tr style=\"text-align: right;\">\n",
       "      <th></th>\n",
       "      <th>count</th>\n",
       "      <th>unique</th>\n",
       "      <th>top</th>\n",
       "      <th>freq</th>\n",
       "    </tr>\n",
       "  </thead>\n",
       "  <tbody>\n",
       "    <tr>\n",
       "      <th>content-type</th>\n",
       "      <td>32835</td>\n",
       "      <td>7616</td>\n",
       "      <td>text/html; charset=\"iso-8859-7\"</td>\n",
       "      <td>12553</td>\n",
       "    </tr>\n",
       "    <tr>\n",
       "      <th>date</th>\n",
       "      <td>32572</td>\n",
       "      <td>30490</td>\n",
       "      <td>Tue, 19 Jan 2038 11:14:07 +0800</td>\n",
       "      <td>52</td>\n",
       "    </tr>\n",
       "    <tr>\n",
       "      <th>file</th>\n",
       "      <td>32988</td>\n",
       "      <td>32988</td>\n",
       "      <td>/home/phrc/Python Project/Spam Email Classifie...</td>\n",
       "      <td>1</td>\n",
       "    </tr>\n",
       "    <tr>\n",
       "      <th>from</th>\n",
       "      <td>32957</td>\n",
       "      <td>27895</td>\n",
       "      <td>COMPUTRON &lt;khatun@emirates.net.ae&gt;</td>\n",
       "      <td>347</td>\n",
       "    </tr>\n",
       "    <tr>\n",
       "      <th>messageStr</th>\n",
       "      <td>29849</td>\n",
       "      <td>27602</td>\n",
       "      <td>Call out Gouranga be happy!!!\\nGouranga Gouran...</td>\n",
       "      <td>79</td>\n",
       "    </tr>\n",
       "    <tr>\n",
       "      <th>messageType</th>\n",
       "      <td>32965</td>\n",
       "      <td>8</td>\n",
       "      <td>text/html</td>\n",
       "      <td>16715</td>\n",
       "    </tr>\n",
       "    <tr>\n",
       "      <th>mime-version</th>\n",
       "      <td>31915</td>\n",
       "      <td>448</td>\n",
       "      <td>1.0</td>\n",
       "      <td>30943</td>\n",
       "    </tr>\n",
       "    <tr>\n",
       "      <th>parseError</th>\n",
       "      <td>32988</td>\n",
       "      <td>2</td>\n",
       "      <td>False</td>\n",
       "      <td>31749</td>\n",
       "    </tr>\n",
       "    <tr>\n",
       "      <th>subject</th>\n",
       "      <td>32831</td>\n",
       "      <td>20625</td>\n",
       "      <td></td>\n",
       "      <td>613</td>\n",
       "    </tr>\n",
       "    <tr>\n",
       "      <th>to</th>\n",
       "      <td>32380</td>\n",
       "      <td>5254</td>\n",
       "      <td>paliourg@iit.demokritos.gr</td>\n",
       "      <td>7068</td>\n",
       "    </tr>\n",
       "    <tr>\n",
       "      <th>isSpam</th>\n",
       "      <td>32988</td>\n",
       "      <td>1</td>\n",
       "      <td>True</td>\n",
       "      <td>32988</td>\n",
       "    </tr>\n",
       "  </tbody>\n",
       "</table>\n",
       "</div>"
      ],
      "text/plain": [
       "              count unique                                                top  \\\n",
       "content-type  32835   7616                    text/html; charset=\"iso-8859-7\"   \n",
       "date          32572  30490                    Tue, 19 Jan 2038 11:14:07 +0800   \n",
       "file          32988  32988  /home/phrc/Python Project/Spam Email Classifie...   \n",
       "from          32957  27895                 COMPUTRON <khatun@emirates.net.ae>   \n",
       "messageStr    29849  27602  Call out Gouranga be happy!!!\\nGouranga Gouran...   \n",
       "messageType   32965      8                                          text/html   \n",
       "mime-version  31915    448                                                1.0   \n",
       "parseError    32988      2                                              False   \n",
       "subject       32831  20625                                                      \n",
       "to            32380   5254                         paliourg@iit.demokritos.gr   \n",
       "isSpam        32988      1                                               True   \n",
       "\n",
       "               freq  \n",
       "content-type  12553  \n",
       "date             52  \n",
       "file              1  \n",
       "from            347  \n",
       "messageStr       79  \n",
       "messageType   16715  \n",
       "mime-version  30943  \n",
       "parseError    31749  \n",
       "subject         613  \n",
       "to             7068  \n",
       "isSpam        32988  "
      ]
     },
     "execution_count": 14,
     "metadata": {},
     "output_type": "execute_result"
    }
   ],
   "source": [
    "dfSpamDesc = dfSpam.describe().T\n",
    "print('Total of Spam attributes {}'.format(len(dfSpamDesc)))\n",
    "n = len(dfSpam) * 0.75 \n",
    "dfSpamDesc[dfSpamDesc['count'] > n].head(300)"
   ]
  },
  {
   "cell_type": "code",
   "execution_count": 15,
   "metadata": {},
   "outputs": [
    {
     "data": {
      "text/html": [
       "<div>\n",
       "<style scoped>\n",
       "    .dataframe tbody tr th:only-of-type {\n",
       "        vertical-align: middle;\n",
       "    }\n",
       "\n",
       "    .dataframe tbody tr th {\n",
       "        vertical-align: top;\n",
       "    }\n",
       "\n",
       "    .dataframe thead th {\n",
       "        text-align: right;\n",
       "    }\n",
       "</style>\n",
       "<table border=\"1\" class=\"dataframe\">\n",
       "  <thead>\n",
       "    <tr style=\"text-align: right;\">\n",
       "      <th></th>\n",
       "      <th>count</th>\n",
       "      <th>unique</th>\n",
       "      <th>top</th>\n",
       "      <th>freq</th>\n",
       "    </tr>\n",
       "  </thead>\n",
       "  <tbody>\n",
       "    <tr>\n",
       "      <th>cc</th>\n",
       "      <td>1896</td>\n",
       "      <td>955</td>\n",
       "      <td></td>\n",
       "      <td>323</td>\n",
       "    </tr>\n",
       "    <tr>\n",
       "      <th>bcc</th>\n",
       "      <td>63</td>\n",
       "      <td>5</td>\n",
       "      <td></td>\n",
       "      <td>59</td>\n",
       "    </tr>\n",
       "    <tr>\n",
       "      <th>fcc</th>\n",
       "      <td>62</td>\n",
       "      <td>56</td>\n",
       "      <td>mailbox://cdvkfvltrbzc@yahoo.com/Sent</td>\n",
       "      <td>3</td>\n",
       "    </tr>\n",
       "  </tbody>\n",
       "</table>\n",
       "</div>"
      ],
      "text/plain": [
       "    count unique                                    top freq\n",
       "cc   1896    955                                         323\n",
       "bcc    63      5                                          59\n",
       "fcc    62     56  mailbox://cdvkfvltrbzc@yahoo.com/Sent    3"
      ]
     },
     "execution_count": 15,
     "metadata": {},
     "output_type": "execute_result"
    }
   ],
   "source": [
    "dfSpamDesc.loc[['cc', 'bcc', 'fcc']].head()"
   ]
  },
  {
   "cell_type": "markdown",
   "metadata": {},
   "source": [
    "There is in total 467 attributes on spam emails, but only 11 atributes contain less than 25% of missing data, from the 11 attributes, 3 will have to be removed, because:\n",
    "\n",
    "- content-type and messageType has the same information\n",
    "- file is a indentifier\n",
    "- ParseError represent emails wasn't able to read, and by conseguence doesn't have information. \n",
    "\n",
    "Beside it, there are other 3 attributes (cc, bcc and fcc) what has most null or empty data, but the fact of those attributos is null or empty is relevant information for the analyse."
   ]
  },
  {
   "cell_type": "markdown",
   "metadata": {},
   "source": [
    "## Dataset Ham Columns Analyse"
   ]
  },
  {
   "cell_type": "code",
   "execution_count": 16,
   "metadata": {},
   "outputs": [
    {
     "name": "stdout",
     "output_type": "stream",
     "text": [
      "Total of Ham attributes 21\n"
     ]
    },
    {
     "data": {
      "text/html": [
       "<div>\n",
       "<style scoped>\n",
       "    .dataframe tbody tr th:only-of-type {\n",
       "        vertical-align: middle;\n",
       "    }\n",
       "\n",
       "    .dataframe tbody tr th {\n",
       "        vertical-align: top;\n",
       "    }\n",
       "\n",
       "    .dataframe thead th {\n",
       "        text-align: right;\n",
       "    }\n",
       "</style>\n",
       "<table border=\"1\" class=\"dataframe\">\n",
       "  <thead>\n",
       "    <tr style=\"text-align: right;\">\n",
       "      <th></th>\n",
       "      <th>count</th>\n",
       "      <th>unique</th>\n",
       "      <th>top</th>\n",
       "      <th>freq</th>\n",
       "    </tr>\n",
       "  </thead>\n",
       "  <tbody>\n",
       "    <tr>\n",
       "      <th>content-transfer-encoding</th>\n",
       "      <td>19079</td>\n",
       "      <td>2</td>\n",
       "      <td>7bit</td>\n",
       "      <td>18363</td>\n",
       "    </tr>\n",
       "    <tr>\n",
       "      <th>content-type</th>\n",
       "      <td>19079</td>\n",
       "      <td>2</td>\n",
       "      <td>text/plain; charset=\"us-ascii\"</td>\n",
       "      <td>17818</td>\n",
       "    </tr>\n",
       "    <tr>\n",
       "      <th>date</th>\n",
       "      <td>19088</td>\n",
       "      <td>18173</td>\n",
       "      <td>Wed, 13 Dec 2000 04:41:00 -0800</td>\n",
       "      <td>5</td>\n",
       "    </tr>\n",
       "    <tr>\n",
       "      <th>file</th>\n",
       "      <td>19088</td>\n",
       "      <td>19088</td>\n",
       "      <td>/home/phrc/Python Project/Spam Email Classifie...</td>\n",
       "      <td>1</td>\n",
       "    </tr>\n",
       "    <tr>\n",
       "      <th>from</th>\n",
       "      <td>19088</td>\n",
       "      <td>2349</td>\n",
       "      <td>pete.davis@enron.com</td>\n",
       "      <td>1395</td>\n",
       "    </tr>\n",
       "    <tr>\n",
       "      <th>message-id</th>\n",
       "      <td>19088</td>\n",
       "      <td>19088</td>\n",
       "      <td>&lt;13254445.1075840879461.JavaMail.evans@thyme&gt;</td>\n",
       "      <td>1</td>\n",
       "    </tr>\n",
       "    <tr>\n",
       "      <th>messageStr</th>\n",
       "      <td>19079</td>\n",
       "      <td>18401</td>\n",
       "      <td>\\n\\nTammie Schoppe\\nEnron Americas-Office of ...</td>\n",
       "      <td>5</td>\n",
       "    </tr>\n",
       "    <tr>\n",
       "      <th>messageType</th>\n",
       "      <td>19079</td>\n",
       "      <td>1</td>\n",
       "      <td>text/plain</td>\n",
       "      <td>19079</td>\n",
       "    </tr>\n",
       "    <tr>\n",
       "      <th>mime-version</th>\n",
       "      <td>19079</td>\n",
       "      <td>1</td>\n",
       "      <td>1.0</td>\n",
       "      <td>19079</td>\n",
       "    </tr>\n",
       "    <tr>\n",
       "      <th>parseError</th>\n",
       "      <td>19088</td>\n",
       "      <td>2</td>\n",
       "      <td>False</td>\n",
       "      <td>19079</td>\n",
       "    </tr>\n",
       "    <tr>\n",
       "      <th>subject</th>\n",
       "      <td>19084</td>\n",
       "      <td>14679</td>\n",
       "      <td>Schedule Crawler: HourAhead Failure</td>\n",
       "      <td>343</td>\n",
       "    </tr>\n",
       "    <tr>\n",
       "      <th>to</th>\n",
       "      <td>18417</td>\n",
       "      <td>5449</td>\n",
       "      <td>louise.kitchen@enron.com</td>\n",
       "      <td>1929</td>\n",
       "    </tr>\n",
       "    <tr>\n",
       "      <th>x-bcc</th>\n",
       "      <td>19079</td>\n",
       "      <td>7</td>\n",
       "      <td></td>\n",
       "      <td>19073</td>\n",
       "    </tr>\n",
       "    <tr>\n",
       "      <th>x-cc</th>\n",
       "      <td>19079</td>\n",
       "      <td>4106</td>\n",
       "      <td></td>\n",
       "      <td>10603</td>\n",
       "    </tr>\n",
       "    <tr>\n",
       "      <th>x-filename</th>\n",
       "      <td>19079</td>\n",
       "      <td>20</td>\n",
       "      <td>vkamins.nsf</td>\n",
       "      <td>4056</td>\n",
       "    </tr>\n",
       "    <tr>\n",
       "      <th>x-from</th>\n",
       "      <td>19079</td>\n",
       "      <td>3187</td>\n",
       "      <td>Davis, Pete &lt;/O=ENRON/OU=NA/CN=RECIPIENTS/CN=P...</td>\n",
       "      <td>1392</td>\n",
       "    </tr>\n",
       "    <tr>\n",
       "      <th>x-origin</th>\n",
       "      <td>19079</td>\n",
       "      <td>12</td>\n",
       "      <td>Kaminski-V</td>\n",
       "      <td>4065</td>\n",
       "    </tr>\n",
       "    <tr>\n",
       "      <th>x-to</th>\n",
       "      <td>19079</td>\n",
       "      <td>6400</td>\n",
       "      <td>Davis, Pete &lt;/O=ENRON/OU=NA/CN=RECIPIENTS/CN=P...</td>\n",
       "      <td>1392</td>\n",
       "    </tr>\n",
       "    <tr>\n",
       "      <th>isSpam</th>\n",
       "      <td>19088</td>\n",
       "      <td>1</td>\n",
       "      <td>False</td>\n",
       "      <td>19088</td>\n",
       "    </tr>\n",
       "  </tbody>\n",
       "</table>\n",
       "</div>"
      ],
      "text/plain": [
       "                           count unique  \\\n",
       "content-transfer-encoding  19079      2   \n",
       "content-type               19079      2   \n",
       "date                       19088  18173   \n",
       "file                       19088  19088   \n",
       "from                       19088   2349   \n",
       "message-id                 19088  19088   \n",
       "messageStr                 19079  18401   \n",
       "messageType                19079      1   \n",
       "mime-version               19079      1   \n",
       "parseError                 19088      2   \n",
       "subject                    19084  14679   \n",
       "to                         18417   5449   \n",
       "x-bcc                      19079      7   \n",
       "x-cc                       19079   4106   \n",
       "x-filename                 19079     20   \n",
       "x-from                     19079   3187   \n",
       "x-origin                   19079     12   \n",
       "x-to                       19079   6400   \n",
       "isSpam                     19088      1   \n",
       "\n",
       "                                                                         top  \\\n",
       "content-transfer-encoding                                               7bit   \n",
       "content-type                                  text/plain; charset=\"us-ascii\"   \n",
       "date                                         Wed, 13 Dec 2000 04:41:00 -0800   \n",
       "file                       /home/phrc/Python Project/Spam Email Classifie...   \n",
       "from                                                    pete.davis@enron.com   \n",
       "message-id                     <13254445.1075840879461.JavaMail.evans@thyme>   \n",
       "messageStr                  \\n\\nTammie Schoppe\\nEnron Americas-Office of ...   \n",
       "messageType                                                       text/plain   \n",
       "mime-version                                                             1.0   \n",
       "parseError                                                             False   \n",
       "subject                                  Schedule Crawler: HourAhead Failure   \n",
       "to                                                  louise.kitchen@enron.com   \n",
       "x-bcc                                                                          \n",
       "x-cc                                                                           \n",
       "x-filename                                                       vkamins.nsf   \n",
       "x-from                     Davis, Pete </O=ENRON/OU=NA/CN=RECIPIENTS/CN=P...   \n",
       "x-origin                                                          Kaminski-V   \n",
       "x-to                       Davis, Pete </O=ENRON/OU=NA/CN=RECIPIENTS/CN=P...   \n",
       "isSpam                                                                 False   \n",
       "\n",
       "                            freq  \n",
       "content-transfer-encoding  18363  \n",
       "content-type               17818  \n",
       "date                           5  \n",
       "file                           1  \n",
       "from                        1395  \n",
       "message-id                     1  \n",
       "messageStr                     5  \n",
       "messageType                19079  \n",
       "mime-version               19079  \n",
       "parseError                 19079  \n",
       "subject                      343  \n",
       "to                          1929  \n",
       "x-bcc                      19073  \n",
       "x-cc                       10603  \n",
       "x-filename                  4056  \n",
       "x-from                      1392  \n",
       "x-origin                    4065  \n",
       "x-to                        1392  \n",
       "isSpam                     19088  "
      ]
     },
     "execution_count": 16,
     "metadata": {},
     "output_type": "execute_result"
    }
   ],
   "source": [
    "dfHamDesc = dfHam.describe().T\n",
    "print('Total of Ham attributes {}'.format(len(dfHamDesc)))\n",
    "n = len(dfHam) * 0.75 \n",
    "dfHamDesc[dfHamDesc['count']> n].head(300)"
   ]
  },
  {
   "cell_type": "markdown",
   "metadata": {},
   "source": [
    "There is in total 21 attributes on ham emails, only, 2 atributes contain more than 25% of missing data, from the 21 attributes remaining:\n",
    "\n",
    "- there are 3 what represents a ID (file, message-id and x-filename) \n",
    "- there are two what represents the mesage type(content-type, messageType)\n",
    "- there are two what represents the who sent the email (from, x-from)\n",
    "- there are 3 who represents the origin of the email (x-to, x-origin, to)\n",
    "- there are one who represent emails what contain error (ParceError)\n",
    "\n",
    "At the end there is 13 useful attributes."
   ]
  },
  {
   "cell_type": "markdown",
   "metadata": {},
   "source": [
    "## Join Dataset and Remove unnescessary columns and rows"
   ]
  },
  {
   "cell_type": "code",
   "execution_count": 17,
   "metadata": {},
   "outputs": [
    {
     "name": "stdout",
     "output_type": "stream",
     "text": [
      "Total size of dataset 48928\n"
     ]
    },
    {
     "data": {
      "text/html": [
       "<div>\n",
       "<style scoped>\n",
       "    .dataframe tbody tr th:only-of-type {\n",
       "        vertical-align: middle;\n",
       "    }\n",
       "\n",
       "    .dataframe tbody tr th {\n",
       "        vertical-align: top;\n",
       "    }\n",
       "\n",
       "    .dataframe thead th {\n",
       "        text-align: right;\n",
       "    }\n",
       "</style>\n",
       "<table border=\"1\" class=\"dataframe\">\n",
       "  <thead>\n",
       "    <tr style=\"text-align: right;\">\n",
       "      <th></th>\n",
       "      <th>bcc</th>\n",
       "      <th>cc</th>\n",
       "      <th>date</th>\n",
       "      <th>fcc</th>\n",
       "      <th>from</th>\n",
       "      <th>isSpam</th>\n",
       "      <th>messageStr</th>\n",
       "      <th>messageType</th>\n",
       "      <th>subject</th>\n",
       "      <th>to</th>\n",
       "      <th>x-bcc</th>\n",
       "      <th>x-cc</th>\n",
       "    </tr>\n",
       "  </thead>\n",
       "  <tbody>\n",
       "    <tr>\n",
       "      <th>0</th>\n",
       "      <td>NaN</td>\n",
       "      <td>NaN</td>\n",
       "      <td>Fri, 24 Jun 2005 23:29:50 +0600</td>\n",
       "      <td>NaN</td>\n",
       "      <td>Semen Analysis &lt;ezcnppih@rogers.com&gt;</td>\n",
       "      <td>True</td>\n",
       "      <td>\"My girlfriend and me have been really enjoyin...</td>\n",
       "      <td>text/plain</td>\n",
       "      <td>squirts like a fountain</td>\n",
       "      <td>projecthoneypot@projecthoneypot.org</td>\n",
       "      <td>NaN</td>\n",
       "      <td>NaN</td>\n",
       "    </tr>\n",
       "    <tr>\n",
       "      <th>1</th>\n",
       "      <td>NaN</td>\n",
       "      <td>NaN</td>\n",
       "      <td>Fri, 24 Jun 2005 06:36:39 -0500</td>\n",
       "      <td>NaN</td>\n",
       "      <td>GoTo My Meeting &lt;meeting@zoolant.com&gt;</td>\n",
       "      <td>True</td>\n",
       "      <td>Content-Type: text/html\\nContent-Transfer-Enco...</td>\n",
       "      <td>multipart/alternative</td>\n",
       "      <td>The next generation in online meetings!</td>\n",
       "      <td>projecthoneypot@projecthoneypot.org</td>\n",
       "      <td>NaN</td>\n",
       "      <td>NaN</td>\n",
       "    </tr>\n",
       "    <tr>\n",
       "      <th>3</th>\n",
       "      <td>NaN</td>\n",
       "      <td>NaN</td>\n",
       "      <td>Wed, 13 Jul 2005 09:06:59 -0400</td>\n",
       "      <td>NaN</td>\n",
       "      <td>Donovan Wilson &lt;KHTIQA@yahoo.com&gt;</td>\n",
       "      <td>True</td>\n",
       "      <td>Content-Type: text/html;\\nContent-Transfer-Enc...</td>\n",
       "      <td>multipart/alternative</td>\n",
       "      <td>New challenges! [ref:438]           Wed, 13 Ju...</td>\n",
       "      <td>projecthoneypot@projecthoneypot.org</td>\n",
       "      <td>NaN</td>\n",
       "      <td>NaN</td>\n",
       "    </tr>\n",
       "    <tr>\n",
       "      <th>4</th>\n",
       "      <td>NaN</td>\n",
       "      <td>NaN</td>\n",
       "      <td>Sun, 03 Jul 2005 21:45:26 +0000</td>\n",
       "      <td>NaN</td>\n",
       "      <td>Olene Nash &lt;assisneto2003@nteu35.org&gt;</td>\n",
       "      <td>True</td>\n",
       "      <td>Received: from unknown (HELO @matrixmailserver...</td>\n",
       "      <td>text/html</td>\n",
       "      <td>Save your money buy getting this thing here</td>\n",
       "      <td>projecthoneypot@projecthoneypot.org</td>\n",
       "      <td>NaN</td>\n",
       "      <td>NaN</td>\n",
       "    </tr>\n",
       "    <tr>\n",
       "      <th>5</th>\n",
       "      <td>NaN</td>\n",
       "      <td>NaN</td>\n",
       "      <td>Wed, 22 Jun 2005 05:57:20 -0500</td>\n",
       "      <td>NaN</td>\n",
       "      <td>Barclays Bank PLC &lt;account@Barclays.co.uk&gt;</td>\n",
       "      <td>True</td>\n",
       "      <td>\\n\\n</td>\n",
       "      <td>multipart/alternative</td>\n",
       "      <td>Important Notice: June 22, 2005</td>\n",
       "      <td>projecthoneypot@projecthoneypot.org</td>\n",
       "      <td>NaN</td>\n",
       "      <td>NaN</td>\n",
       "    </tr>\n",
       "  </tbody>\n",
       "</table>\n",
       "</div>"
      ],
      "text/plain": [
       "   bcc   cc                             date  fcc  \\\n",
       "0  NaN  NaN  Fri, 24 Jun 2005 23:29:50 +0600  NaN   \n",
       "1  NaN  NaN  Fri, 24 Jun 2005 06:36:39 -0500  NaN   \n",
       "3  NaN  NaN  Wed, 13 Jul 2005 09:06:59 -0400  NaN   \n",
       "4  NaN  NaN  Sun, 03 Jul 2005 21:45:26 +0000  NaN   \n",
       "5  NaN  NaN  Wed, 22 Jun 2005 05:57:20 -0500  NaN   \n",
       "\n",
       "                                         from  isSpam  \\\n",
       "0        Semen Analysis <ezcnppih@rogers.com>    True   \n",
       "1       GoTo My Meeting <meeting@zoolant.com>    True   \n",
       "3           Donovan Wilson <KHTIQA@yahoo.com>    True   \n",
       "4       Olene Nash <assisneto2003@nteu35.org>    True   \n",
       "5  Barclays Bank PLC <account@Barclays.co.uk>    True   \n",
       "\n",
       "                                          messageStr            messageType  \\\n",
       "0  \"My girlfriend and me have been really enjoyin...             text/plain   \n",
       "1  Content-Type: text/html\\nContent-Transfer-Enco...  multipart/alternative   \n",
       "3  Content-Type: text/html;\\nContent-Transfer-Enc...  multipart/alternative   \n",
       "4  Received: from unknown (HELO @matrixmailserver...              text/html   \n",
       "5                                               \\n\\n  multipart/alternative   \n",
       "\n",
       "                                             subject  \\\n",
       "0                            squirts like a fountain   \n",
       "1            The next generation in online meetings!   \n",
       "3  New challenges! [ref:438]           Wed, 13 Ju...   \n",
       "4        Save your money buy getting this thing here   \n",
       "5                   Important Notice: June 22, 2005    \n",
       "\n",
       "                                    to x-bcc x-cc  \n",
       "0  projecthoneypot@projecthoneypot.org   NaN  NaN  \n",
       "1  projecthoneypot@projecthoneypot.org   NaN  NaN  \n",
       "3  projecthoneypot@projecthoneypot.org   NaN  NaN  \n",
       "4  projecthoneypot@projecthoneypot.org   NaN  NaN  \n",
       "5  projecthoneypot@projecthoneypot.org   NaN  NaN  "
      ]
     },
     "execution_count": 17,
     "metadata": {},
     "output_type": "execute_result"
    }
   ],
   "source": [
    "dfMaster = pd.concat([\n",
    "    dfSpam[['date', 'from', 'messageStr', 'messageType', 'subject', 'to', 'isSpam', 'cc', 'bcc', 'fcc', 'parseError']], \n",
    "    dfHam[['date', 'from', 'messageStr', 'messageType', 'subject', 'to', 'isSpam', 'x-bcc', 'x-cc', 'parseError']]], sort = True)\n",
    "\n",
    "dfMaster = dfMaster[(dfMaster['parseError'] == False) & (dfMaster['messageStr'].notnull())]\n",
    "#dfMaster = dfMaster[dfMaster['parseError'] == False]\n",
    "\n",
    "del dfMaster['parseError']\n",
    "print('Total size of dataset {}'.format(len(dfMaster)))\n",
    "dfMaster.head()"
   ]
  },
  {
   "cell_type": "markdown",
   "metadata": {},
   "source": [
    "## Dataset distribution by spam type"
   ]
  },
  {
   "cell_type": "markdown",
   "metadata": {},
   "source": [
    "## -- Size"
   ]
  },
  {
   "cell_type": "code",
   "execution_count": 18,
   "metadata": {},
   "outputs": [
    {
     "name": "stdout",
     "output_type": "stream",
     "text": [
      "Spam    29849\n",
      "Ham     19079\n",
      "Name: isSpam, dtype: int64\n"
     ]
    },
    {
     "data": {
      "image/png": "[encoded data removed]",
      "text/plain": [
       "<Figure size 1296x432 with 2 Axes>"
      ]
     },
     "metadata": {
      "needs_background": "light"
     },
     "output_type": "display_data"
    }
   ],
   "source": [
    "print(dfMaster['isSpam'].value_counts().rename({False: 'Ham', True: 'Spam'}))\n",
    "\n",
    "\n",
    "fig = plt.figure(figsize = (18,6))\n",
    "grid = plt.GridSpec(1,2, wspace =0.1)\n",
    "barPlt = fig.add_subplot(grid[0,0])\n",
    "piePlt = fig.add_subplot(grid[0,1])\n",
    "\n",
    "\n",
    "barPlt.bar(\n",
    "    ('Spam', 'Ham'), \n",
    "    [len(dfMaster[dfMaster['isSpam'] == True]), len(dfMaster[dfMaster['isSpam'] == False])], \n",
    "    align='center')\n",
    "barPlt.set_xticks(np.arange(2), ['Spam', 'Ham'])\n",
    "\n",
    "\n",
    "piePlt.pie(dfMaster['isSpam'].value_counts(), labels=['Spam', 'Ham'], autopct='%1.0f%%', pctdistance=0.5, labeldistance=1.2)\n",
    "\n",
    "\n",
    "plt.show()"
   ]
  },
  {
   "cell_type": "markdown",
   "metadata": {},
   "source": [
    "#### conclusion\n",
    "\n",
    "The objective of this project it's create a algorithm capable to classify if a email is a spam and having a evenly proportion of email can helps in the training and reduce the changes of miss classification.\n",
    "\n",
    "The ham and spam email doesn't have a perfect even proportion (61 by 39), the difference between them represent 22% from the total of emails. \n",
    "\n",
    "The differences seems to be moderate to low and for this case it is being assumed won't cause a significant difference in the model.\n",
    "\n",
    "This project will use differents types of models and one of those types will considere the relative frequence what will solve this problem and the comparison between models can explain if this distribution is causing effect or not."
   ]
  },
  {
   "cell_type": "markdown",
   "metadata": {},
   "source": [
    "## -- Message Type"
   ]
  },
  {
   "cell_type": "code",
   "execution_count": 19,
   "metadata": {},
   "outputs": [
    {
     "name": "stdout",
     "output_type": "stream",
     "text": [
      "messageType            isSpam\n",
      "multipart/alternative  True       6564\n",
      "multipart/mixed        True       1709\n",
      "multipart/report       True         70\n",
      "text/html              True      16431\n",
      "text/plain             False     19079\n",
      "                       True       5075\n",
      "dtype: int64\n",
      "isPlain  isSpam\n",
      "False    True      24774\n",
      "True     False     19079\n",
      "         True       5075\n",
      "dtype: int64\n"
     ]
    },
    {
     "data": {
      "text/plain": [
       "<matplotlib.axes._subplots.AxesSubplot at 0x7f352a637b00>"
      ]
     },
     "execution_count": 19,
     "metadata": {},
     "output_type": "execute_result"
    },
    {
     "data": {
      "image/png": "[encoded data removed]",
      "text/plain": [
       "<Figure size 864x576 with 2 Axes>"
      ]
     },
     "metadata": {
      "needs_background": "light"
     },
     "output_type": "display_data"
    }
   ],
   "source": [
    "fig, axs = plt.subplots(1, 2, figsize=(12, 8), sharey=True)\n",
    "\n",
    "dfGroup = dfMaster.groupby(['messageType', 'isSpam']).size()\n",
    "print(dfGroup)\n",
    "dfGroup.unstack().plot(kind='bar', legend=True, ax= axs[0])\n",
    "\n",
    "\n",
    "dfMaster['isPlain'] = dfMaster['messageType'].apply(lambda x : True if x == 'text/plain' else False)\n",
    "\n",
    "dfGroup = dfMaster.groupby(['isPlain', 'isSpam']).size()\n",
    "print(dfGroup)\n",
    "dfGroup.unstack().plot(kind='bar', legend=True, ax= axs[1])"
   ]
  },
  {
   "cell_type": "markdown",
   "metadata": {},
   "source": [
    "#### Conclusion\n",
    "\n",
    "The email content can contain html elements, images, attachemnts, plain text or a mix of everthing and it is classify in content types, like text/plain, text/html, multipart/alternative... \n",
    "\n",
    "The comparison between the content type and spam resulted in **all ham email is text/plain but not all text/plain is ham** and because of this deduction, all the types was divided between is text plain or not.\n",
    "\n",
    "This treatement has the objective to simplfy the model.\n"
   ]
  },
  {
   "cell_type": "markdown",
   "metadata": {},
   "source": [
    "## -- Day Hour"
   ]
  },
  {
   "cell_type": "code",
   "execution_count": 20,
   "metadata": {},
   "outputs": [],
   "source": [
    "#Convert Date to a date time object\n",
    "dfMaster['date'] = dfMaster['date'].apply(lambda x : str(x)).apply(lambda x : None if x == 'nan' else datetime.datetime.strptime(x, '%a, %d %b %Y %H:%M:%S %z'))\n",
    "#Create a Hour Column\n",
    "dfMaster['hour'] = dfMaster['date'].apply(lambda x : None if x == None else x.hour)"
   ]
  },
  {
   "cell_type": "code",
   "execution_count": 21,
   "metadata": {},
   "outputs": [
    {
     "data": {
      "image/png": "[encoded data removed]",
      "text/plain": [
       "<Figure size 1296x432 with 2 Axes>"
      ]
     },
     "metadata": {
      "needs_background": "light"
     },
     "output_type": "display_data"
    }
   ],
   "source": [
    "fig = plt.figure(figsize = (18,6))\n",
    "grid = plt.GridSpec(1,4, wspace =0.8)\n",
    "histPlt = fig.add_subplot(grid[0,0:2])\n",
    "boxPlt1 = fig.add_subplot(grid[0,2:4])\n",
    "\n",
    "histPlt.hist(\n",
    "    [\n",
    "        dfMaster[dfMaster['isSpam'] == True]['hour'].dropna(), \n",
    "        dfMaster[dfMaster['isSpam'] == False]['hour']\n",
    "    ], \n",
    "    np.linspace(0, dfMaster['hour'].max(), 24), \n",
    "    density = True, \n",
    "    label=['Spam', 'Ham']\n",
    ") \n",
    "histPlt.legend(loc='upper right')\n",
    "\n",
    "boxPlt1.boxplot(\n",
    "    (\n",
    "        dfMaster[dfMaster['isSpam'] == True]['hour'].dropna(),\n",
    "        dfMaster[dfMaster['isSpam'] == False]['hour']\n",
    "    ), \n",
    "    labels = ('Spam', 'Ham')\n",
    ")\n",
    "\n",
    "\n",
    "plt.show()"
   ]
  },
  {
   "cell_type": "markdown",
   "metadata": {},
   "source": [
    "#### Conclusion\n",
    "\n",
    "The objective of this analyse is to find a relation between the period of the day the user receive the email and the email type and because of that, the time zone was disconsidereing during the cleaning.\n",
    "\n",
    "\n",
    "The ham email is more frequently sent during the firsts hours of the morning (between 8-10 am) and has the day pass, the amount of email sent decrease, having another small pick around of 3 am.\n",
    "\n",
    "The spam email seems to have the same proportion during all day except at midnight when it shows a huge pick."
   ]
  },
  {
   "cell_type": "markdown",
   "metadata": {},
   "source": [
    "## -- How many person this email was send TO "
   ]
  },
  {
   "cell_type": "code",
   "execution_count": 22,
   "metadata": {},
   "outputs": [],
   "source": [
    "#Create a count to\n",
    "dfMaster['toCount'] = dfMaster['to'].str.split(',').apply(lambda x : len(x) if isinstance(x, list) else 0)"
   ]
  },
  {
   "cell_type": "markdown",
   "metadata": {},
   "source": [
    "### --- Description for send to"
   ]
  },
  {
   "cell_type": "code",
   "execution_count": 23,
   "metadata": {},
   "outputs": [
    {
     "data": {
      "text/plain": [
       "count    48928.000000\n",
       "mean         3.165284\n",
       "std         13.404586\n",
       "min          0.000000\n",
       "25%          1.000000\n",
       "50%          1.000000\n",
       "75%          1.000000\n",
       "max        595.000000\n",
       "Name: toCount, dtype: float64"
      ]
     },
     "execution_count": 23,
     "metadata": {},
     "output_type": "execute_result"
    }
   ],
   "source": [
    "dfMaster['toCount'].describe()"
   ]
  },
  {
   "cell_type": "markdown",
   "metadata": {},
   "source": [
    "### --- Description for send to for more than one"
   ]
  },
  {
   "cell_type": "code",
   "execution_count": null,
   "metadata": {},
   "outputs": [
    {
     "data": {
      "text/plain": [
       "count    8038.000000\n",
       "mean       14.333167\n",
       "std        30.731960\n",
       "min         2.000000\n",
       "25%         3.000000\n",
       "50%         6.000000\n",
       "75%        12.000000\n",
       "max       595.000000\n",
       "Name: toCount, dtype: float64"
      ]
     },
     "execution_count": 24,
     "metadata": {},
     "output_type": "execute_result"
    }
   ],
   "source": [
    "dfMaster[dfMaster['toCount'] > 1]['toCount'].describe()"
   ]
  },
  {
   "cell_type": "markdown",
   "metadata": {},
   "source": [
    "### --- Proportion direct email and group email"
   ]
  },
  {
   "cell_type": "code",
   "execution_count": null,
   "metadata": {},
   "outputs": [
    {
     "name": "stdout",
     "output_type": "stream",
     "text": [
      "1       39661\n",
      "2-15     7678\n",
      "15+      1589\n",
      "Name: toCountG2, dtype: int64\n"
     ]
    },
    {
     "data": {
      "image/png": "[encoded data removed]",
      "text/plain": [
       "<Figure size 1296x432 with 2 Axes>"
      ]
     },
     "metadata": {},
     "output_type": "display_data"
    }
   ],
   "source": [
    "dfTemp = dfMaster.loc[:, ['toCount', 'isSpam']]\n",
    "dfTemp['toCountG1'] = dfTemp['toCount'].apply(lambda x : '1' if x == 1 else '1+')\n",
    "dfTemp['toCountG2'] = dfTemp['toCount'].apply(lambda x : '1' if x == 1 else ('15+' if x > 15 else '2-15'))\n",
    "\n",
    "print(dfTemp['toCountG2'].value_counts())\n",
    "\n",
    "fig = plt.figure(figsize = (18,6))\n",
    "grid = plt.GridSpec(1,4, wspace =0.8)\n",
    "pie1 = fig.add_subplot(grid[0,0:2])\n",
    "pie2 = fig.add_subplot(grid[0,2:4])\n",
    "\n",
    "pie1.pie(dfTemp['toCountG1'].value_counts(), labels=['1', '1+'], autopct='%1.0f%%', pctdistance=0.5, labeldistance=1.2)\n",
    "\n",
    "pie2.pie(dfTemp['toCountG2'].value_counts(), labels=['1', '2-15', '15+'], autopct='%1.0f%%', pctdistance=0.5, labeldistance=1.2)\n",
    "\n",
    "\n",
    "plt.show()"
   ]
  },
  {
   "cell_type": "markdown",
   "metadata": {},
   "source": [
    "### --- Distribution of 'To Group' by Spam"
   ]
  },
  {
   "cell_type": "code",
   "execution_count": null,
   "metadata": {},
   "outputs": [],
   "source": [
    "dfMaster['toCountGroup'] = dfMaster['toCount'].apply(lambda x: 'Direct' if x == 1 else ('Small Group' if x < 15 else 'Big Group')) "
   ]
  },
  {
   "cell_type": "code",
   "execution_count": null,
   "metadata": {},
   "outputs": [
    {
     "name": "stdout",
     "output_type": "stream",
     "text": [
      "[False True]\n"
     ]
    },
    {
     "data": {
      "text/html": [
       "<div>\n",
       "<style scoped>\n",
       "    .dataframe tbody tr th:only-of-type {\n",
       "        vertical-align: middle;\n",
       "    }\n",
       "\n",
       "    .dataframe tbody tr th {\n",
       "        vertical-align: top;\n",
       "    }\n",
       "\n",
       "    .dataframe thead th {\n",
       "        text-align: right;\n",
       "    }\n",
       "</style>\n",
       "<table border=\"1\" class=\"dataframe\">\n",
       "  <thead>\n",
       "    <tr style=\"text-align: right;\">\n",
       "      <th></th>\n",
       "      <th>Not Spam</th>\n",
       "      <th>Spam</th>\n",
       "      <th>Rate Not Spam</th>\n",
       "      <th>Rate Spam</th>\n",
       "    </tr>\n",
       "    <tr>\n",
       "      <th>toCountGroup</th>\n",
       "      <th></th>\n",
       "      <th></th>\n",
       "      <th></th>\n",
       "      <th></th>\n",
       "    </tr>\n",
       "  </thead>\n",
       "  <tbody>\n",
       "    <tr>\n",
       "      <th>Big Group</th>\n",
       "      <td>1632</td>\n",
       "      <td>63</td>\n",
       "      <td>0.962832</td>\n",
       "      <td>0.037168</td>\n",
       "    </tr>\n",
       "    <tr>\n",
       "      <th>Direct</th>\n",
       "      <td>11703</td>\n",
       "      <td>27958</td>\n",
       "      <td>0.295076</td>\n",
       "      <td>0.704924</td>\n",
       "    </tr>\n",
       "    <tr>\n",
       "      <th>Small Group</th>\n",
       "      <td>5744</td>\n",
       "      <td>1828</td>\n",
       "      <td>0.758584</td>\n",
       "      <td>0.241416</td>\n",
       "    </tr>\n",
       "  </tbody>\n",
       "</table>\n",
       "</div>"
      ],
      "text/plain": [
       "              Not Spam   Spam  Rate Not Spam  Rate Spam\n",
       "toCountGroup                                           \n",
       "Big Group         1632     63       0.962832   0.037168\n",
       "Direct           11703  27958       0.295076   0.704924\n",
       "Small Group       5744   1828       0.758584   0.241416"
      ]
     },
     "execution_count": 27,
     "metadata": {},
     "output_type": "execute_result"
    }
   ],
   "source": [
    "dfGroupTo = dfMaster.groupby(['toCountGroup', 'isSpam']).size()\n",
    "print(dfGroupTo.unstack().columns.values)\n",
    "dfGT = dfGroupTo.unstack()\n",
    "dfGT['rateF'] = dfGT[False] / (dfGT[False] + dfGT[True])\n",
    "dfGT['rateT'] = dfGT[True] / (dfGT[False] + dfGT[True])\n",
    "\n",
    "dfGT.columns = ['Not Spam', 'Spam', 'Rate Not Spam', 'Rate Spam']\n",
    "\n",
    "dfGT.head()"
   ]
  },
  {
   "cell_type": "code",
   "execution_count": null,
   "metadata": {},
   "outputs": [
    {
     "data": {
      "image/png": "[encoded data removed]",
      "text/plain": [
       "<Figure size 432x288 with 2 Axes>"
      ]
     },
     "metadata": {
      "needs_background": "light"
     },
     "output_type": "display_data"
    }
   ],
   "source": [
    "width = .25\n",
    "\n",
    "dfGT[['Not Spam', 'Spam']].plot(kind='bar')\n",
    "dfGT['Rate Spam'].plot(secondary_y=True)\n",
    "\n",
    "ax = plt.gca()\n",
    "plt.xlim([-width, len(dfGT)-width])\n",
    "ax.set_xticklabels(dfGT.index.values)\n",
    "ax.set_xlabel('Groups')\n",
    "plt.show()\n",
    "\n",
    "#.plot(kind='bar', legend=False)"
   ]
  },
  {
   "cell_type": "markdown",
   "metadata": {},
   "source": [
    "#### Conclusion\n",
    "\n",
    "A email can be sent to one or more people, the reason of this analyse is to find a relation betweent it and the type of email. \n",
    "\n",
    "This variable, already starts with a issue, becasue there is two ways to include a person in a email, it can be occult and/or normal, in case of it being occult, this information will be missing.\n",
    "\n",
    "In the first stage was found 81% of the email from our dataset was send to one person, 16% between 2 and 15 people and 3 % for more than 15 people\n",
    "\n",
    "It was expected spam emails to be sent to more than one person, but in this analyse, Spam email has a bigger rate for one person as the ham email is the opposite, and this maybe can be explian by the copy occulty and/or the new technologies who try send a spam email more personalised with a few user info inside and the fact of this dataset comes from a company emails and very offeten employee send email to multiples people to keep a all the sector inform.\n"
   ]
  },
  {
   "cell_type": "markdown",
   "metadata": {},
   "source": [
    "## -- Compare email message lenght for ham and spam  "
   ]
  },
  {
   "cell_type": "code",
   "execution_count": null,
   "metadata": {},
   "outputs": [],
   "source": [
    "dfMaster['textLen'] = dfMaster['messageStr'].apply(lambda x : len(str(x)))"
   ]
  },
  {
   "cell_type": "code",
   "execution_count": null,
   "metadata": {},
   "outputs": [
    {
     "data": {
      "image/png": "[encoded data removed]",
      "text/plain": [
       "<Figure size 1296x432 with 3 Axes>"
      ]
     },
     "metadata": {
      "needs_background": "light"
     },
     "output_type": "display_data"
    }
   ],
   "source": [
    "createPlotLenghtDist('textLen', dfMaster) "
   ]
  },
  {
   "cell_type": "markdown",
   "metadata": {},
   "source": [
    "## -- Compare clean email message lenght for ham and spam  "
   ]
  },
  {
   "cell_type": "code",
   "execution_count": null,
   "metadata": {},
   "outputs": [],
   "source": [
    "#Apply cleaning method\n",
    "dfMaster['treatedMessage'] = dfMaster['messageStr'].apply(emailTextCleanner)\n",
    "\n",
    "#Remove stop words\n",
    "stop = txt.ENGLISH_STOP_WORDS\n",
    "dfMaster['treatedMessage'] = dfMaster['treatedMessage'].apply(\n",
    "    lambda x: ' '.join([word for word in x.split() if word not in (stop)]))\n",
    "\n",
    "stop = stopwords.words('english')\n",
    "dfMaster['treatedMessage'] = dfMaster['treatedMessage'].apply(\n",
    "    lambda x: ' '.join([word for word in x.split() if word not in (stop)]))\n",
    "\n",
    "dfMaster['treatedTextLen'] = dfMaster['treatedMessage'].apply(lambda x : len(x)) "
   ]
  },
  {
   "cell_type": "code",
   "execution_count": null,
   "metadata": {},
   "outputs": [
    {
     "data": {
      "image/png": "[encoded data removed]",
      "text/plain": [
       "<Figure size 1296x432 with 3 Axes>"
      ]
     },
     "metadata": {
      "needs_background": "light"
     },
     "output_type": "display_data"
    }
   ],
   "source": [
    "createPlotLenghtDist('treatedTextLen', dfMaster)"
   ]
  },
  {
   "cell_type": "markdown",
   "metadata": {},
   "source": [
    "## -- Compare total words in a email message for ham and spam  "
   ]
  },
  {
   "cell_type": "code",
   "execution_count": null,
   "metadata": {},
   "outputs": [],
   "source": [
    "#Create a column with list of words\n",
    "dfMaster['wordsList'] = dfMaster['treatedMessage'].str.split().apply(lemmatizeList).apply(revomeWordsWithOneCharacter)\n",
    "\n",
    "#Create a columns to calculate the total amount of words\n",
    "dfMaster['totalTreatedWords'] = dfMaster['wordsList'].apply(lambda x : len(x))"
   ]
  },
  {
   "cell_type": "code",
   "execution_count": null,
   "metadata": {},
   "outputs": [
    {
     "data": {
      "image/png": "[encoded data removed]",
      "text/plain": [
       "<Figure size 1296x432 with 3 Axes>"
      ]
     },
     "metadata": {
      "needs_background": "light"
     },
     "output_type": "display_data"
    }
   ],
   "source": [
    "createPlotLenghtDist('totalTreatedWords', dfMaster)"
   ]
  },
  {
   "cell_type": "markdown",
   "metadata": {},
   "source": [
    "## -- Compare total unique words in a email message for ham and spam  "
   ]
  },
  {
   "cell_type": "code",
   "execution_count": null,
   "metadata": {},
   "outputs": [],
   "source": [
    "dfMaster['uniqueWordsLen'] = dfMaster['wordsList'].apply(lambda x : len(set(x)))"
   ]
  },
  {
   "cell_type": "code",
   "execution_count": null,
   "metadata": {},
   "outputs": [
    {
     "data": {
      "image/png": "[encoded data removed]",
      "text/plain": [
       "<Figure size 1296x432 with 3 Axes>"
      ]
     },
     "metadata": {
      "needs_background": "light"
     },
     "output_type": "display_data"
    }
   ],
   "source": [
    "createPlotLenghtDist('uniqueWordsLen', dfMaster)"
   ]
  },
  {
   "cell_type": "markdown",
   "metadata": {},
   "source": [
    "#### Conclusion\n",
    "\n",
    "\n",
    "Emails are a text and all the text has a total number of words and a total of number of characters and this analyse has a intention to find a relation between the text size and the email type. \n",
    "\n",
    "To calculate the text size was used 4 different logics:\n",
    "\n",
    "*First*: The text size whitout any treatement\n",
    "It consist in count the total of characters of the raw data. \n",
    "Nothing was removed. \n",
    "\n",
    "*Second*: The text size after treatement\n",
    "It consist in count the total of characters after removing break lines, html tags, digit, stop words, extra space, break lines and some commom words.\n",
    "\n",
    "*third*:\n",
    "It consist in removing the words with one charater and lemmatize the words and count the total of words after it \n",
    "\n",
    "*Fourth*:\n",
    "It consist in count the total unique of words from the thid case.\n",
    "\n",
    "\n",
    "All the four logics present the same result.\n",
    "\n",
    "Usualy, the total words in the ham email is between 10 and 40 words as the spam email is between 30 and 80.\n",
    "\n",
    "In other owthers, spam emails are usualy bigger than ham email\n"
   ]
  },
  {
   "cell_type": "markdown",
   "metadata": {},
   "source": [
    "## Email message Words Visualization"
   ]
  },
  {
   "cell_type": "markdown",
   "metadata": {},
   "source": [
    "## -- Total uniques words"
   ]
  },
  {
   "cell_type": "code",
   "execution_count": null,
   "metadata": {},
   "outputs": [
    {
     "data": {
      "image/png": "[encoded data removed]",
      "text/plain": [
       "<Figure size 1296x432 with 2 Axes>"
      ]
     },
     "metadata": {
      "needs_background": "light"
     },
     "output_type": "display_data"
    }
   ],
   "source": [
    "count = Counter(list(chain(*dfMaster[\"wordsList\"].values)))\n",
    "\n",
    "countSpam = Counter(list(chain(*dfMaster[dfMaster['isSpam'] == True][\"wordsList\"].values)))\n",
    "\n",
    "countHam = Counter(list(chain(*dfMaster[dfMaster['isSpam'] == False][\"wordsList\"].values)))\n",
    "\n",
    "totalUniqueWordsPlot(len(count), len(countSpam), len(countHam))"
   ]
  },
  {
   "cell_type": "markdown",
   "metadata": {},
   "source": [
    "## -- Total Unique words with more the 100 repetitions"
   ]
  },
  {
   "cell_type": "code",
   "execution_count": null,
   "metadata": {},
   "outputs": [
    {
     "data": {
      "image/png": "[encoded data removed]",
      "text/plain": [
       "<Figure size 1296x432 with 2 Axes>"
      ]
     },
     "metadata": {
      "needs_background": "light"
     },
     "output_type": "display_data"
    }
   ],
   "source": [
    "dfCounter = pd.DataFrame.from_dict(data = dict(count),orient='index', columns = ['freq'])\n",
    "\n",
    "dfCounterSpam = pd.DataFrame.from_dict(data = dict(countSpam),orient='index', columns = ['freq'])\n",
    "\n",
    "dfCounterHam = pd.DataFrame.from_dict(data = dict(countHam),orient='index', columns = ['freq'])\n",
    "\n",
    "totalUniqueWordsPlot(\n",
    "    len(dfCounter[dfCounter['freq'] > 100]),\n",
    "    len(dfCounterSpam[dfCounterSpam['freq'] > 100]),\n",
    "    len(dfCounterHam[dfCounterHam['freq'] > 100]))\n"
   ]
  },
  {
   "cell_type": "markdown",
   "metadata": {},
   "source": [
    "## -- 20 Most common words"
   ]
  },
  {
   "cell_type": "code",
   "execution_count": null,
   "metadata": {},
   "outputs": [],
   "source": [
    "plot20MostWord(count)"
   ]
  },
  {
   "cell_type": "markdown",
   "metadata": {},
   "source": [
    "## -- 20 Most common words on Spam emails"
   ]
  },
  {
   "cell_type": "code",
   "execution_count": null,
   "metadata": {},
   "outputs": [],
   "source": [
    "plot20MostWord(countSpam) "
   ]
  },
  {
   "cell_type": "markdown",
   "metadata": {},
   "source": [
    "## -- 20 Most common words on Ham emails"
   ]
  },
  {
   "cell_type": "code",
   "execution_count": null,
   "metadata": {},
   "outputs": [],
   "source": [
    "plot20MostWord(countHam)"
   ]
  },
  {
   "cell_type": "markdown",
   "metadata": {},
   "source": [
    "#### Conclusion\n",
    "\n",
    "In this analyse is looking for the most frequent words and how frequently they are, the intention is improve the model precision removing the words less frequently.\n",
    "\n",
    "There are more than 220 thousand different words, but only 6204 who repeats more than 100 times.\n",
    "This project is analysing around of 50 thousand email and a word who repeats 100 times, supposing this words is being in 100 different emails, it means, this words is present, at the maximum, in 5% of the emails.\n",
    "\n",
    "When looking to the accumulative frequency, 6204 words achieve around of 84% of all the frequency, to increse 6% is needed roughly 150% more words, the fact of adding more words, result in add more features to the model and by conseguence more complexity.\n",
    "\n",
    "The accumulative frequency has a exponetial curve, where after a point to obtein better result needs too much, in the reason to find the better cost benefit, it's recomend get the curve point. In this case 6204. \n",
    "\n",
    "\n",
    "Looking into all the words, without considering the email type, 6204 words has 84% of the frequency,   \n",
    "\n",
    "The ham email has a smaller vocabulary than spam email, and because that the amount of\n",
    "\n",
    "This analyse considered type of email.\n",
    "\n",
    "At the 6204 words the spam has 81.7% as ham email has 93.1%\n",
    "\n",
    "\n",
    "FYI: To find the accumulative frenquency was calculated the frequency of each word and then sorted to the biggest frequency to the smallest."
   ]
  },
  {
   "cell_type": "code",
   "execution_count": null,
   "metadata": {},
   "outputs": [],
   "source": [
    "dfCounter.head()"
   ]
  },
  {
   "cell_type": "markdown",
   "metadata": {},
   "source": [
    "## Calculate word frequence for subject"
   ]
  },
  {
   "cell_type": "markdown",
   "metadata": {},
   "source": [
    "## -- Compare email subject lenght for ham and spam"
   ]
  },
  {
   "cell_type": "code",
   "execution_count": null,
   "metadata": {},
   "outputs": [],
   "source": [
    "dfMaster['subLen'] = dfMaster['subject'].apply(lambda x : len(str(x)))"
   ]
  },
  {
   "cell_type": "code",
   "execution_count": null,
   "metadata": {},
   "outputs": [],
   "source": [
    "createPlotLenghtDist('subLen', dfMaster)"
   ]
  },
  {
   "cell_type": "markdown",
   "metadata": {},
   "source": [
    "## -- Compare clean email subject lenght for ham and spam  "
   ]
  },
  {
   "cell_type": "code",
   "execution_count": null,
   "metadata": {},
   "outputs": [],
   "source": [
    "#Apply cleaning method\n",
    "dfMaster['treatedSub'] = dfMaster['subject'].apply(emailTextCleanner)\n",
    "\n",
    "#Remove stop words\n",
    "stop = txt.ENGLISH_STOP_WORDS\n",
    "dfMaster['treatedSub'] = dfMaster['treatedSub'].apply(\n",
    "    lambda x: ' '.join([word for word in x.split() if word not in (stop)]))\n",
    "\n",
    "stop = stopwords.words('english')\n",
    "dfMaster['treatedSub'] = dfMaster['treatedSub'].apply(\n",
    "    lambda x: ' '.join([word for word in x.split() if word not in (stop)]))\n",
    "\n",
    "dfMaster['treatedSubLen'] = dfMaster['treatedSub'].apply(lambda x : len(x))"
   ]
  },
  {
   "cell_type": "code",
   "execution_count": null,
   "metadata": {},
   "outputs": [],
   "source": [
    "createPlotLenghtDist('treatedSubLen', dfMaster)"
   ]
  },
  {
   "cell_type": "markdown",
   "metadata": {},
   "source": [
    "## -- Compare total words in a email subject for ham and spam  "
   ]
  },
  {
   "cell_type": "code",
   "execution_count": null,
   "metadata": {},
   "outputs": [],
   "source": [
    "#Create a column with list of words\n",
    "dfMaster['subWordsList'] = dfMaster['treatedSub'].str.split().apply(lemmatizeList).apply(revomeWordsWithOneCharacter)\n",
    "\n",
    "#Create a columns to calculate the total amount of words\n",
    "dfMaster['totalTreatedSubWords'] = dfMaster['subWordsList'].apply(lambda x : len(x))"
   ]
  },
  {
   "cell_type": "code",
   "execution_count": null,
   "metadata": {},
   "outputs": [],
   "source": [
    "createPlotLenghtDist('totalTreatedSubWords', dfMaster)"
   ]
  },
  {
   "cell_type": "markdown",
   "metadata": {},
   "source": [
    "## -- Compare total unique words in a email subject for ham and spam  "
   ]
  },
  {
   "cell_type": "code",
   "execution_count": null,
   "metadata": {},
   "outputs": [],
   "source": [
    "dfMaster['uniqueSubWordsLen'] = dfMaster['subWordsList'].apply(lambda x : len(set(x)))"
   ]
  },
  {
   "cell_type": "code",
   "execution_count": null,
   "metadata": {},
   "outputs": [],
   "source": [
    "createPlotLenghtDist('uniqueSubWordsLen', dfMaster)"
   ]
  },
  {
   "cell_type": "markdown",
   "metadata": {},
   "source": [
    "## Email Subject Words Visualization"
   ]
  },
  {
   "cell_type": "markdown",
   "metadata": {},
   "source": [
    "## -- Total uniques words"
   ]
  },
  {
   "cell_type": "code",
   "execution_count": null,
   "metadata": {},
   "outputs": [],
   "source": [
    "subCount = Counter(list(chain(*dfMaster[\"subWordsList\"].values)))\n",
    "\n",
    "subCountSpam = Counter(list(chain(*dfMaster[dfMaster['isSpam'] == True][\"subWordsList\"].values)))\n",
    "\n",
    "subCountHam = Counter(list(chain(*dfMaster[dfMaster['isSpam'] == False][\"subWordsList\"].values)))\n",
    "\n",
    "totalUniqueWordsPlot(len(subCount), len(subCountSpam), len(subCountHam))"
   ]
  },
  {
   "cell_type": "markdown",
   "metadata": {},
   "source": [
    "## -- Total Unique words with more the 100 repetitions"
   ]
  },
  {
   "cell_type": "code",
   "execution_count": null,
   "metadata": {},
   "outputs": [],
   "source": [
    "dfSubCounter = pd.DataFrame.from_dict(data = dict(subCount),orient='index', columns = ['freq'])\n",
    "\n",
    "dfSubCounterSpam = pd.DataFrame.from_dict(data = dict(subCountSpam),orient='index', columns = ['freq'])\n",
    "\n",
    "dfSubCounterHam = pd.DataFrame.from_dict(data = dict(subCountHam),orient='index', columns = ['freq'])\n",
    "\n",
    "totalUniqueWordsPlot(\n",
    "    len(dfSubCounter[dfSubCounter['freq'] > 100]),\n",
    "    len(dfSubCounterSpam[dfSubCounterSpam['freq'] > 100]),\n",
    "    len(dfSubCounterHam[dfSubCounterHam['freq'] > 100]))"
   ]
  },
  {
   "cell_type": "markdown",
   "metadata": {},
   "source": [
    "## -- 20 Most common words"
   ]
  },
  {
   "cell_type": "code",
   "execution_count": null,
   "metadata": {},
   "outputs": [],
   "source": [
    "plot20MostWord(subCount)"
   ]
  },
  {
   "cell_type": "markdown",
   "metadata": {},
   "source": [
    "## -- 20 Most common words on Spam subject emails"
   ]
  },
  {
   "cell_type": "code",
   "execution_count": null,
   "metadata": {},
   "outputs": [],
   "source": [
    "plot20MostWord(subCountSpam)"
   ]
  },
  {
   "cell_type": "markdown",
   "metadata": {},
   "source": [
    "## -- 20 Most common words on Ham subject emails"
   ]
  },
  {
   "cell_type": "code",
   "execution_count": null,
   "metadata": {},
   "outputs": [],
   "source": [
    "plot20MostWord(subCountHam)"
   ]
  },
  {
   "cell_type": "markdown",
   "metadata": {},
   "source": [
    "## Forward email distribution by spam and ham"
   ]
  },
  {
   "cell_type": "code",
   "execution_count": null,
   "metadata": {},
   "outputs": [],
   "source": [
    "dfMaster['containFW'] = dfMaster['subject'].apply(lambda x : True if \"FW:\" in str(x) else False)"
   ]
  },
  {
   "cell_type": "code",
   "execution_count": null,
   "metadata": {},
   "outputs": [],
   "source": [
    "print(dfMaster['containFW'].value_counts())\n",
    "\n",
    "plt.pie(dfMaster['containFW'].value_counts(), labels=dfMaster['containFW'].unique(), autopct='%1.0f%%', pctdistance=0.5, labeldistance=1.2)"
   ]
  },
  {
   "cell_type": "code",
   "execution_count": null,
   "metadata": {},
   "outputs": [],
   "source": [
    "dfGroupTo = dfMaster.groupby(['containFW', 'isSpam']).size()\n",
    "print(dfGroupTo.unstack().columns.values)\n",
    "dfGT = dfGroupTo.unstack()\n",
    "dfGT['rateF'] = dfGT[False] / (dfGT[False] + dfGT[True])\n",
    "dfGT['rateT'] = dfGT[True] / (dfGT[False] + dfGT[True])\n",
    "\n",
    "dfGT.columns = ['Not Spam', 'Spam', 'Rate Not Spam', 'Rate Spam']\n",
    "\n",
    "dfGT.head()\n",
    "\n"
   ]
  },
  {
   "cell_type": "code",
   "execution_count": null,
   "metadata": {},
   "outputs": [],
   "source": [
    "width = .25\n",
    "\n",
    "dfGT[['Not Spam', 'Spam']].plot(kind='bar')\n",
    "dfGT['Rate Spam'].plot(secondary_y=True)\n",
    "\n",
    "ax = plt.gca()\n",
    "plt.xlim([-width, len(dfGT)-width])\n",
    "ax.set_xticklabels(dfGT.index.values)\n",
    "ax.set_xlabel('Groups')\n",
    "plt.show()"
   ]
  },
  {
   "cell_type": "markdown",
   "metadata": {},
   "source": [
    "## Response email distribution by spam and ham"
   ]
  },
  {
   "cell_type": "code",
   "execution_count": null,
   "metadata": {},
   "outputs": [],
   "source": [
    "dfMaster['containRE'] = dfMaster['subject'].apply(lambda x : True if \"RE:\" in str(x) else False)"
   ]
  },
  {
   "cell_type": "code",
   "execution_count": null,
   "metadata": {},
   "outputs": [],
   "source": [
    "print(dfMaster['containRE'].value_counts())\n",
    "\n",
    "plt.pie(dfMaster['containRE'].value_counts(), labels=dfMaster['containRE'].unique(), autopct='%1.0f%%', pctdistance=0.5, labeldistance=1.2)"
   ]
  },
  {
   "cell_type": "code",
   "execution_count": null,
   "metadata": {},
   "outputs": [],
   "source": [
    "dfGroupTo = dfMaster.groupby(['containRE', 'isSpam']).size()\n",
    "print(dfGroupTo.unstack().columns.values)\n",
    "dfGT = dfGroupTo.unstack()\n",
    "dfGT['rateF'] = dfGT[False] / (dfGT[False] + dfGT[True])\n",
    "dfGT['rateT'] = dfGT[True] / (dfGT[False] + dfGT[True])\n",
    "\n",
    "dfGT.columns = ['Not Spam', 'Spam', 'Rate Not Spam', 'Rate Spam']\n",
    "\n",
    "dfGT.head()"
   ]
  },
  {
   "cell_type": "code",
   "execution_count": null,
   "metadata": {},
   "outputs": [],
   "source": [
    "width = .25\n",
    "\n",
    "dfGT[['Not Spam', 'Spam']].plot(kind='bar')\n",
    "dfGT['Rate Spam'].plot(secondary_y=True)\n",
    "\n",
    "ax = plt.gca()\n",
    "plt.xlim([-width, len(dfGT)-width])\n",
    "ax.set_xticklabels(dfGT.index.values)\n",
    "ax.set_xlabel('Groups')\n",
    "plt.show()"
   ]
  },
  {
   "cell_type": "markdown",
   "metadata": {},
   "source": [
    "## Origin Email Server Visualization"
   ]
  },
  {
   "cell_type": "code",
   "execution_count": null,
   "metadata": {},
   "outputs": [],
   "source": [
    "dfMaster[\"orgEmailRoot\"] = dfMaster[\"from\"].apply(getEmailRoot)"
   ]
  },
  {
   "cell_type": "code",
   "execution_count": null,
   "metadata": {},
   "outputs": [],
   "source": [
    "dfMaster[\"orgEmailServer\"] = dfMaster[\"orgEmailRoot\"].apply(lambda x : getEmailPartRoot(x,1))"
   ]
  },
  {
   "cell_type": "markdown",
   "metadata": {},
   "source": [
    "## -- Total Unique words"
   ]
  },
  {
   "cell_type": "code",
   "execution_count": null,
   "metadata": {},
   "outputs": [],
   "source": [
    "emailServerCount = Counter(list(dfMaster[\"orgEmailServer\"].values))\n",
    "\n",
    "emailServerCountSpam = Counter(list(dfMaster[dfMaster['isSpam'] == True][\"orgEmailServer\"].values))\n",
    "\n",
    "emailServerCountHam = Counter(list(dfMaster[dfMaster['isSpam'] == False][\"orgEmailServer\"].values))\n",
    "\n",
    "totalUniqueWordsPlot(len(emailServerCount), len(emailServerCountSpam), len(emailServerCountHam))"
   ]
  },
  {
   "cell_type": "markdown",
   "metadata": {},
   "source": [
    "## -- Total Unique words with more the 100 repetitions"
   ]
  },
  {
   "cell_type": "code",
   "execution_count": null,
   "metadata": {},
   "outputs": [],
   "source": [
    "dfEmailServerCounter = pd.DataFrame.from_dict(data = dict(emailServerCount),orient='index', columns = ['freq'])\n",
    "\n",
    "dfEmailServerCounterSpam = pd.DataFrame.from_dict(data = dict(emailServerCountSpam),orient='index', columns = ['freq'])\n",
    "\n",
    "dfEmailServerCounterHam = pd.DataFrame.from_dict(data = dict(emailServerCountHam),orient='index', columns = ['freq'])\n",
    "\n",
    "totalUniqueWordsPlot(\n",
    "    len(dfEmailServerCounter[dfEmailServerCounter['freq'] > 100]),\n",
    "    len(dfEmailServerCounterSpam[dfEmailServerCounterSpam['freq'] > 100]),\n",
    "    len(dfEmailServerCounterHam[dfEmailServerCounterHam['freq'] > 100]))"
   ]
  },
  {
   "cell_type": "markdown",
   "metadata": {},
   "source": [
    "## -- 20 Most common words"
   ]
  },
  {
   "cell_type": "code",
   "execution_count": null,
   "metadata": {},
   "outputs": [],
   "source": [
    "plot20MostWord(emailServerCount) "
   ]
  },
  {
   "cell_type": "markdown",
   "metadata": {},
   "source": [
    "## -- 20 Most common words on Spam emails"
   ]
  },
  {
   "cell_type": "code",
   "execution_count": null,
   "metadata": {},
   "outputs": [],
   "source": [
    "plot20MostWord(emailServerCountSpam) "
   ]
  },
  {
   "cell_type": "markdown",
   "metadata": {},
   "source": [
    "## -- 20 Most common words on Ham emails"
   ]
  },
  {
   "cell_type": "code",
   "execution_count": null,
   "metadata": {},
   "outputs": [],
   "source": [
    "plot20MostWord(emailServerCountHam) "
   ]
  },
  {
   "cell_type": "markdown",
   "metadata": {},
   "source": [
    "## Origin Email Name Visualization"
   ]
  },
  {
   "cell_type": "code",
   "execution_count": null,
   "metadata": {},
   "outputs": [],
   "source": [
    "dfMaster[\"orgEmailName\"] = dfMaster[\"orgEmailRoot\"].apply(lambda x : getEmailPartRoot(x,0))"
   ]
  },
  {
   "cell_type": "markdown",
   "metadata": {},
   "source": [
    "## -- Total Unique words"
   ]
  },
  {
   "cell_type": "code",
   "execution_count": null,
   "metadata": {},
   "outputs": [],
   "source": [
    "emailNameCount = Counter(list(dfMaster[\"orgEmailName\"].values))\n",
    "\n",
    "emailNameCountSpam = Counter(list(dfMaster[dfMaster['isSpam'] == True][\"orgEmailName\"].values))\n",
    "\n",
    "emailNameCountHam = Counter(list(dfMaster[dfMaster['isSpam'] == False][\"orgEmailName\"].values))\n",
    "\n",
    "totalUniqueWordsPlot(len(emailNameCount), len(emailNameCountSpam), len(emailNameCountHam))"
   ]
  },
  {
   "cell_type": "markdown",
   "metadata": {},
   "source": [
    "## -- Total Unique words with more the 100 repetitions"
   ]
  },
  {
   "cell_type": "code",
   "execution_count": null,
   "metadata": {},
   "outputs": [],
   "source": [
    "dfEmailNameCounter = pd.DataFrame.from_dict(data = dict(emailNameCount),orient='index', columns = ['freq'])\n",
    "\n",
    "dfEmailNameCounterSpam = pd.DataFrame.from_dict(data = dict(emailNameCountSpam),orient='index', columns = ['freq'])\n",
    "\n",
    "dfEmailNameCounterHam = pd.DataFrame.from_dict(data = dict(emailNameCountHam),orient='index', columns = ['freq'])\n",
    "\n",
    "totalUniqueWordsPlot(\n",
    "    len(dfEmailNameCounter[dfEmailNameCounter['freq'] > 100]),\n",
    "    len(dfEmailNameCounterSpam[dfEmailNameCounterSpam['freq'] > 100]),\n",
    "    len(dfEmailNameCounterHam[dfEmailNameCounterHam['freq'] > 100]))\n"
   ]
  },
  {
   "cell_type": "markdown",
   "metadata": {},
   "source": [
    "## -- 20 Most common words"
   ]
  },
  {
   "cell_type": "code",
   "execution_count": null,
   "metadata": {},
   "outputs": [],
   "source": [
    "plot20MostWord(emailNameCount) "
   ]
  },
  {
   "cell_type": "markdown",
   "metadata": {},
   "source": [
    "## -- 20 Most common words on Spam emails"
   ]
  },
  {
   "cell_type": "code",
   "execution_count": null,
   "metadata": {},
   "outputs": [],
   "source": [
    "plot20MostWord(emailNameCountSpam)"
   ]
  },
  {
   "cell_type": "markdown",
   "metadata": {},
   "source": [
    "## -- 20 Most common words on Ham emails"
   ]
  },
  {
   "cell_type": "code",
   "execution_count": null,
   "metadata": {},
   "outputs": [],
   "source": [
    "plot20MostWord(emailNameCountHam) "
   ]
  },
  {
   "cell_type": "markdown",
   "metadata": {},
   "source": [
    "# Modeling"
   ]
  },
  {
   "cell_type": "markdown",
   "metadata": {},
   "source": [
    "## -- Create a modeling dataset"
   ]
  },
  {
   "cell_type": "code",
   "execution_count": null,
   "metadata": {},
   "outputs": [],
   "source": [
    "dfModeling = dfMaster.loc[:,[\"isSpam\", \"hour\", \"isPlain\",\"toCountGroup\", \"containFW\", \"containRE\", \"orgEmailServer\", \"orgEmailName\", \"uniqueSubWordsLen\", \"uniqueWordsLen\",  'subLen', \"textLen\", 'treatedSub','treatedMessage' ]]\n"
   ]
  },
  {
   "cell_type": "code",
   "execution_count": null,
   "metadata": {},
   "outputs": [],
   "source": [
    "dfModeling.head()"
   ]
  },
  {
   "cell_type": "markdown",
   "metadata": {},
   "source": [
    "## -- Check for null values and remove it"
   ]
  },
  {
   "cell_type": "code",
   "execution_count": null,
   "metadata": {},
   "outputs": [],
   "source": [
    "print(\"Total dataset size: {}\".format(len(dfModeling)))\n",
    "print(\"Total dataset size withou null values: {}\".format(len(dfModeling.dropna())))\n",
    "dfModeling = dfModeling.dropna() "
   ]
  },
  {
   "cell_type": "markdown",
   "metadata": {},
   "source": [
    "## -- Split modeling dataset"
   ]
  },
  {
   "cell_type": "code",
   "execution_count": null,
   "metadata": {},
   "outputs": [],
   "source": [
    "#train_x, valid_x, train_y, valid_y = model_selection.train_test_split(trainDF['text'], trainD\n",
    "x_train, x_test, y_train, y_test = train_test_split(dfModeling[[\"hour\", \"isPlain\",\"toCountGroup\", \"containFW\", \"containRE\", \"orgEmailServer\", \"orgEmailName\", \"uniqueSubWordsLen\", \"uniqueWordsLen\",  'subLen', \"textLen\", 'treatedSub','treatedMessage']],dfModeling['isSpam'])"
   ]
  },
  {
   "cell_type": "markdown",
   "metadata": {},
   "source": [
    "## -- Convert message to feature"
   ]
  },
  {
   "cell_type": "markdown",
   "metadata": {},
   "source": [
    "## ---  Count Vectors as features"
   ]
  },
  {
   "cell_type": "code",
   "execution_count": null,
   "metadata": {},
   "outputs": [],
   "source": [
    "count_vect = CountVectorizer(analyzer='word', min_df= 100, token_pattern=r'\\w{1,}')\n",
    "count_vect.fit(x_train['treatedMessage'])\n",
    "xtrain_count =  count_vect.transform(x_train['treatedMessage'])\n",
    "xtest_count =  count_vect.transform(x_test['treatedMessage'])\n"
   ]
  },
  {
   "cell_type": "markdown",
   "metadata": {},
   "source": [
    "## --- TF-IDF"
   ]
  },
  {
   "cell_type": "code",
   "execution_count": null,
   "metadata": {},
   "outputs": [],
   "source": [
    "# word level tf-idf\n",
    "tfidf_vect = TfidfVectorizer(analyzer='word', token_pattern=r'\\w{1,}', max_features=6200)\n",
    "tfidf_vect.fit(dfModeling['treatedMessage'])\n",
    "xtrain_tfidf =  tfidf_vect.transform(x_train['treatedMessage'])\n",
    "xtest_tfidf =  tfidf_vect.transform(x_test['treatedMessage'])\n",
    "\n",
    "# ngram level tf-idf \n",
    "tfidf_vect_ngram = TfidfVectorizer(analyzer='word', token_pattern=r'\\w{1,}', ngram_range=(1,3), max_features=6200)\n",
    "tfidf_vect_ngram.fit(dfModeling['treatedMessage'])\n",
    "xtrain_tfidf_ngram =  tfidf_vect_ngram.transform(x_train['treatedMessage'])\n",
    "xtest_tfidf_ngram =  tfidf_vect_ngram.transform(x_test['treatedMessage'])\n",
    "\n",
    "# characters level tf-idf\n",
    "tfidf_vect_ngram_chars = TfidfVectorizer(analyzer='char', token_pattern=r'\\w{1,}', ngram_range=(1,3), max_features=6200)\n",
    "tfidf_vect_ngram_chars.fit(dfModeling['treatedMessage'])\n",
    "xtrain_tfidf_ngram_chars =  tfidf_vect_ngram_chars.transform(x_train['treatedMessage']) \n",
    "xtest_tfidf_ngram_chars =  tfidf_vect_ngram_chars.transform(x_test['treatedMessage']) "
   ]
  },
  {
   "cell_type": "markdown",
   "metadata": {},
   "source": [
    "## -- Create Models based in only email message feature"
   ]
  },
  {
   "cell_type": "markdown",
   "metadata": {},
   "source": [
    "## --- Naive Bayes"
   ]
  },
  {
   "cell_type": "code",
   "execution_count": null,
   "metadata": {},
   "outputs": [],
   "source": [
    "# Naive Bayes on Count Vectors\n",
    "countVectAccuracy = train_model(naive_bayes.MultinomialNB(), xtrain_count, y_train, xtest_count, y_test)\n",
    "print (\"Count Vectors: {}\".format(countVectAccuracy))\n",
    "\n",
    "# Naive Bayes on Word Level TF IDF Vectors\n",
    "tfWLAccuracy = train_model(naive_bayes.MultinomialNB(), xtrain_tfidf, y_train, xtest_tfidf, y_test)\n",
    "print (\"WordLevel TF-IDF:  {}\".format(tfWLAccuracy))\n",
    "\n",
    "# Naive Bayes on Ngram Level TF IDF Vectors\n",
    "tfNGAccuracy = train_model(naive_bayes.MultinomialNB(), xtrain_tfidf_ngram, y_train, xtest_tfidf_ngram, y_test)\n",
    "print (\"N-Gram Vectors:  {}\".format(tfNGAccuracy))\n",
    "\n",
    "# Naive Bayes on Character Level TF IDF Vectors\n",
    "tfCLAccuracy = train_model(naive_bayes.MultinomialNB(), xtrain_tfidf_ngram_chars, y_train, xtest_tfidf_ngram_chars, y_test)\n",
    "print (\"CharLevel Vectors:  {}\".format(tfCLAccuracy))"
   ]
  },
  {
   "cell_type": "markdown",
   "metadata": {},
   "source": [
    "## --- SVM Model"
   ]
  },
  {
   "cell_type": "code",
   "execution_count": null,
   "metadata": {},
   "outputs": [],
   "source": [
    "svmAccuracy = train_model(svm.SVC(), xtrain_tfidf_ngram, y_train, xtest_tfidf_ngram, y_test)\n",
    "print(\"N-Gram Vectors: {}\".format(svmAccuracy))"
   ]
  },
  {
   "cell_type": "markdown",
   "metadata": {},
   "source": [
    "## --- Random Forest (Bagging Model)"
   ]
  },
  {
   "cell_type": "code",
   "execution_count": null,
   "metadata": {},
   "outputs": [],
   "source": [
    "# RF on Count Vectors\n",
    "rfCountAccuracy = train_model(ensemble.RandomForestClassifier(), xtrain_count, y_train, xtest_count, y_test)\n",
    "print (\"Count Vectors: {}\".format(rfCountAccuracy))\n",
    "\n",
    "# RF on Word Level TF IDF Vectors\n",
    "rfWLAccuracy = train_model(ensemble.RandomForestClassifier(), xtrain_tfidf, y_train, xtest_tfidf, y_test)\n",
    "print (\"WordLevel TF-IDF: {}\".format(rfWLAccuracy))\n"
   ]
  },
  {
   "cell_type": "markdown",
   "metadata": {},
   "source": [
    "## -- Model Comparison"
   ]
  },
  {
   "cell_type": "code",
   "execution_count": null,
   "metadata": {},
   "outputs": [],
   "source": []
  },
  {
   "cell_type": "code",
   "execution_count": null,
   "metadata": {},
   "outputs": [],
   "source": []
  },
  {
   "cell_type": "code",
   "execution_count": null,
   "metadata": {},
   "outputs": [],
   "source": []
  },
  {
   "cell_type": "code",
   "execution_count": null,
   "metadata": {},
   "outputs": [],
   "source": []
  },
  {
   "cell_type": "markdown",
   "metadata": {},
   "source": [
    "## Correlation"
   ]
  },
  {
   "cell_type": "code",
   "execution_count": null,
   "metadata": {},
   "outputs": [],
   "source": [
    "stop / here"
   ]
  },
  {
   "cell_type": "code",
   "execution_count": null,
   "metadata": {},
   "outputs": [],
   "source": [
    "print(dfMaster.columns)\n",
    "dfModeling = dfMaster.loc[:,[\"isSpam\", \"hour\", \"toCountGroup\", \"containFW\", \"containRE\", \"uniqueSubWordsLen\", 'textLen', 'subLen', 'uniqueWordsLen' ]]"
   ]
  },
  {
   "cell_type": "code",
   "execution_count": null,
   "metadata": {},
   "outputs": [],
   "source": [
    "dfModeling.describe()\n",
    "\n"
   ]
  },
  {
   "cell_type": "code",
   "execution_count": null,
   "metadata": {},
   "outputs": [],
   "source": [
    "corr = dfModeling.corr()\n",
    "corr.style.background_gradient(cmap='coolwarm')\n"
   ]
  },
  {
   "cell_type": "code",
   "execution_count": null,
   "metadata": {},
   "outputs": [],
   "source": [
    "from statsmodels.formula.api import ols"
   ]
  },
  {
   "cell_type": "code",
   "execution_count": null,
   "metadata": {},
   "outputs": [],
   "source": [
    "import statsmodels\n",
    "\n",
    "formula = 'isSpam ~ C(hour)+ C(toCountGroup)+ C(containFW)+ C(containRE)+ C(uniqueSubWordsLen)+ C(textLen)+ C(subLen)+ C(uniqueWordsLen)'\n",
    "model = ols(formula, dfModeling).fit()\n"
   ]
  },
  {
   "cell_type": "code",
   "execution_count": null,
   "metadata": {},
   "outputs": [],
   "source": [
    "model.summary()"
   ]
  },
  {
   "cell_type": "code",
   "execution_count": null,
   "metadata": {},
   "outputs": [],
   "source": [
    "import statsmodels.api as sm\n",
    "\n",
    "aov_table = sm.stats.anova_lm(model)\n",
    "print(aov_table)"
   ]
  },
  {
   "cell_type": "code",
   "execution_count": null,
   "metadata": {},
   "outputs": [],
   "source": []
  },
  {
   "cell_type": "code",
   "execution_count": null,
   "metadata": {},
   "outputs": [],
   "source": []
  },
  {
   "cell_type": "code",
   "execution_count": null,
   "metadata": {},
   "outputs": [],
   "source": []
  },
  {
   "cell_type": "code",
   "execution_count": null,
   "metadata": {},
   "outputs": [],
   "source": []
  },
  {
   "cell_type": "code",
   "execution_count": null,
   "metadata": {},
   "outputs": [],
   "source": []
  },
  {
   "cell_type": "code",
   "execution_count": null,
   "metadata": {},
   "outputs": [],
   "source": []
  },
  {
   "cell_type": "code",
   "execution_count": null,
   "metadata": {},
   "outputs": [],
   "source": []
  },
  {
   "cell_type": "code",
   "execution_count": null,
   "metadata": {},
   "outputs": [],
   "source": []
  },
  {
   "cell_type": "code",
   "execution_count": null,
   "metadata": {},
   "outputs": [],
   "source": []
  },
  {
   "cell_type": "code",
   "execution_count": null,
   "metadata": {},
   "outputs": [],
   "source": []
  },
  {
   "cell_type": "code",
   "execution_count": null,
   "metadata": {},
   "outputs": [],
   "source": []
  },
  {
   "cell_type": "code",
   "execution_count": null,
   "metadata": {},
   "outputs": [],
   "source": []
  }
 ],
 "metadata": {
  "kernelspec": {
   "display_name": "Python 3",
   "language": "python",
   "name": "python3"
  },
  "language_info": {
   "codemirror_mode": {
    "name": "ipython",
    "version": 3
   },
   "file_extension": ".py",
   "mimetype": "text/x-python",
   "name": "python",
   "nbconvert_exporter": "python",
   "pygments_lexer": "ipython3",
   "version": "3.6.7"
  }
 },
 "nbformat": 4,
 "nbformat_minor": 2
}
